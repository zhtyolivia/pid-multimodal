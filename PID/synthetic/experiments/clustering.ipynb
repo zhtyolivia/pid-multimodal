{
 "cells": [
  {
   "cell_type": "code",
   "execution_count": 1,
   "metadata": {},
   "outputs": [],
   "source": [
    "import matplotlib.pyplot as plt\n",
    "import numpy as np\n",
    "import sys\n",
    "import os\n",
    "import pickle\n",
    "import torch\n",
    "sys.path.append(os.getcwd())\n",
    "sys.path.append(os.path.dirname(os.path.dirname(os.getcwd())))\n",
    "from supervised_learning import test\n",
    "from ensemble import test as test_ensemble\n",
    "from get_data import get_dataloader\n",
    "from rus import *"
   ]
  },
  {
   "attachments": {},
   "cell_type": "markdown",
   "metadata": {},
   "source": [
    "#### dataset clustering"
   ]
  },
  {
   "cell_type": "code",
   "execution_count": 3,
   "metadata": {},
   "outputs": [],
   "source": [
    "def clustering(X, pca=False, n_clusters=20, n_components=5):\n",
    "  X = np.nan_to_num(X)\n",
    "  if len(X.shape) > 2:\n",
    "    X = X.reshape(X.shape[0],-1)\n",
    "  if pca:\n",
    "    # print(np.any(np.isnan(X)), np.all(np.isfinite(X)))\n",
    "    X = normalize(X)\n",
    "    X = PCA(n_components=n_components).fit_transform(X)\n",
    "  kmeans = KMeans(n_clusters=n_clusters).fit(X)\n",
    "  return kmeans.labels_, X"
   ]
  },
  {
   "cell_type": "code",
   "execution_count": 4,
   "metadata": {},
   "outputs": [],
   "source": [
    "for setting in ['redundancy', 'uniqueness0', 'uniqueness1', 'synergy']:\n",
    "  data_dir = 'synthetic/experiments2/DATA_{}.pickle'.format(setting)\n",
    "  dataset = pd.read_pickle(data_dir)\n",
    "  n_components = 2\n",
    "  data_cluster = dict()\n",
    "  for split in ['valid2', 'test']:\n",
    "    data_cluster[split] = dict()\n",
    "    data = dataset[split]\n",
    "    kmeans_0, data_0 = clustering(data['0'], pca=True, n_components=n_components, n_clusters=20)\n",
    "    data_cluster[split]['0'] = kmeans_0.reshape(-1,1)\n",
    "    kmeans_1, data_1 = clustering(data['1'], pca=True, n_components=n_components, n_clusters=20)\n",
    "    data_cluster[split]['1'] = kmeans_1.reshape(-1,1)\n",
    "    data_cluster[split]['label'] = data['label']\n",
    "  with open('synthetic/experiments2/DATA_{}_cluster.pickle'.format(setting), 'wb') as f:\n",
    "      pickle.dump(data_cluster, f)\n",
    "\n",
    "for i in range(1, 7):\n",
    "  data_dir = 'synthetic/experiments2/DATA_mix{}.pickle'.format(i)\n",
    "  dataset = pd.read_pickle(data_dir)\n",
    "  n_components = 2\n",
    "  data_cluster = dict()\n",
    "  for split in ['valid2', 'test']:\n",
    "    data_cluster[split] = dict()\n",
    "    data = dataset[split]\n",
    "    kmeans_0, data_0 = clustering(data['0'], pca=True, n_components=n_components, n_clusters=20)\n",
    "    data_cluster[split]['0'] = kmeans_0.reshape(-1,1)\n",
    "    kmeans_1, data_1 = clustering(data['1'], pca=True, n_components=n_components, n_clusters=20)\n",
    "    data_cluster[split]['1'] = kmeans_1.reshape(-1,1)\n",
    "    data_cluster[split]['label'] = data['label']\n",
    "  with open('synthetic/experiments2/DATA_mix{}_cluster.pickle'.format(i), 'wb') as f:\n",
    "      pickle.dump(data_cluster, f)\n",
    "\n",
    "for i in range(1, 6):\n",
    "    data_dir = 'synthetic/experiments2/DATA_synthetic{}.pickle'.format(i)\n",
    "    dataset = pd.read_pickle(data_dir)\n",
    "    n_components = 2\n",
    "    data_cluster = dict()\n",
    "    for split in ['valid2', 'test']:\n",
    "        data_cluster[split] = dict()\n",
    "        data = dataset[split]\n",
    "        kmeans_0, data_0 = clustering(data['0'], pca=True, n_components=n_components, n_clusters=20)\n",
    "        data_cluster[split]['0'] = kmeans_0.reshape(-1,1)\n",
    "        kmeans_1, data_1 = clustering(data['1'], pca=True, n_components=n_components, n_clusters=20)\n",
    "        data_cluster[split]['1'] = kmeans_1.reshape(-1,1)\n",
    "        data_cluster[split]['label'] = data['label']\n",
    "    with open('synthetic/experiments2/DATA_synthetic{}_cluster.pickle'.format(i), 'wb') as f:\n",
    "        pickle.dump(data_cluster, f)"
   ]
  },
  {
   "attachments": {},
   "cell_type": "markdown",
   "metadata": {},
   "source": [
    "#### dataset measures"
   ]
  },
  {
   "cell_type": "code",
   "execution_count": 28,
   "metadata": {},
   "outputs": [
    {
     "name": "stdout",
     "output_type": "stream",
     "text": [
      "mix6\n",
      "Redundancy 0.10009443254017347\n",
      "Unique 4.732578094827056e-15\n",
      "Unique 0.0421881964240354\n",
      "Synergy 0.04911458973854771\n",
      "\n"
     ]
    }
   ],
   "source": [
    "if os.path.isfile('synthetic/experiments2/datasets.pickle'):\n",
    "    with open('synthetic/experiments2/datasets.pickle', 'rb') as f:\n",
    "        results = pickle.load(f)\n",
    "else:\n",
    "    results = dict()\n",
    "SETTINGS = ['redundancy', 'uniqueness0', 'uniqueness1', 'synergy'] + ['mix{}'.format(i) for i in range(1,7)] + ['synthetic{}'.format(i) for i in range(1,6)]\n",
    "for setting in ['mix6']:\n",
    "    with open('synthetic/experiments2/DATA_{}_cluster.pickle'.format(setting), 'rb') as f:\n",
    "        dataset = pickle.load(f)\n",
    "    print(setting)\n",
    "    data = (dataset['test']['0'], dataset['test']['1'], dataset['test']['label'])\n",
    "    P, maps = convert_data_to_distribution(*data)\n",
    "    result = get_measure(P)\n",
    "    results[setting] = result\n",
    "    print()\n",
    "\n",
    "with open('synthetic/experiments2/datasets.pickle', 'wb') as f:\n",
    "    pickle.dump(results, f)"
   ]
  },
  {
   "attachments": {},
   "cell_type": "markdown",
   "metadata": {},
   "source": [
    "#### model selection"
   ]
  },
  {
   "cell_type": "code",
   "execution_count": 5,
   "metadata": {},
   "outputs": [
    {
     "name": "stdout",
     "output_type": "stream",
     "text": [
      "dict_keys(['redundancy', 'unique1', 'unique2', 'synergy', 'acc', 'params'])\n",
      "dict_keys(['redundancy', 'uniqueness0', 'uniqueness1', 'synergy', 'mix1', 'mix2', 'mix3', 'mix4', 'mix5', 'synthetic1', 'synthetic2', 'synthetic3', 'synthetic4', 'synthetic5', 'mix6'])\n"
     ]
    }
   ],
   "source": [
    "with open('synthetic/experiments2/results.pickle', 'rb') as f:\n",
    "    results = pickle.load(f)\n",
    "print(results['additive']['redundancy'].keys())\n",
    "with open('synthetic/experiments2/datasets.pickle', 'rb') as f:\n",
    "    datasets = pickle.load(f)\n",
    "METHODS = ['additive', 'agree', 'align', 'early_fusion', 'elem', 'recon', 'mi', 'mult', 'outer', 'lower']\n",
    "SETTINGS = ['redundancy', 'uniqueness0', 'uniqueness1', 'synergy', 'mix1', 'mix2', 'mix3', 'mix4', 'mix5', 'mix6']\n",
    "MEASURES = ['redundancy', 'unique1', 'unique2', 'synergy']\n",
    "MODEL_SELECTION = ['synthetic{}'.format(i) for i in range(1,6)]\n",
    "print(datasets.keys())"
   ]
  },
  {
   "cell_type": "code",
   "execution_count": 4,
   "metadata": {},
   "outputs": [],
   "source": [
    "normalized_results = dict()\n",
    "normalized_datasets = dict()\n",
    "for method in results:\n",
    "    normalized_results[method] = dict()\n",
    "    for setting in SETTINGS:\n",
    "        normalized_results[method][setting] = dict()\n",
    "        normalized_datasets[setting] = dict()\n",
    "        results_total = sum([results[method][setting][measure] for measure in ['redundancy', 'unique1', 'unique2', 'synergy']])\n",
    "        datasets_total = sum([datasets[setting][measure] for measure in ['redundancy', 'unique1', 'unique2', 'synergy']])\n",
    "        for measure in MEASURES:\n",
    "            normalized_results[method][setting][measure] = results[method][setting][measure] / results_total\n",
    "            normalized_datasets[setting][measure] = datasets[setting][measure] / datasets_total"
   ]
  },
  {
   "cell_type": "code",
   "execution_count": 37,
   "metadata": {},
   "outputs": [
    {
     "name": "stdout",
     "output_type": "stream",
     "text": [
      "redundancy [(0.7422222222222222, 'recon'), (0.7433333333333333, 'additive'), (0.7461111111111111, 'lower')]\n",
      "uniqueness0 [(0.7316666666666667, 'outer'), (0.7338888888888889, 'early_fusion'), (0.7361111111111112, 'recon')]\n",
      "uniqueness1 [(0.7427777777777778, 'align'), (0.7433333333333333, 'additive'), (0.7438888888888889, 'outer')]\n",
      "synergy [(0.735, 'align'), (0.7355555555555555, 'agree'), (0.7438888888888889, 'recon')]\n",
      "mix1 [(0.6594444444444445, 'recon'), (0.6605555555555556, 'agree'), (0.6633333333333333, 'align')]\n",
      "mix2 [(0.7116666666666667, 'recon'), (0.7205555555555555, 'agree'), (0.7233333333333334, 'align')]\n",
      "mix3 [(0.7294444444444445, 'recon'), (0.7361111111111112, 'lower'), (0.7455555555555555, 'agree')]\n",
      "mix4 [(0.7044444444444444, 'early_fusion'), (0.705, 'lower'), (0.71, 'recon')]\n",
      "mix5 [(0.6555555555555556, 'additive'), (0.6555555555555556, 'recon'), (0.66, 'align')]\n",
      "mix6 [(0.7233333333333334, 'additive'), (0.7233333333333334, 'mult'), (0.725, 'align')]\n"
     ]
    }
   ],
   "source": [
    "accs = [results[method][setting]['acc'] for setting in results[method] for method in METHODS]\n",
    "for setting in SETTINGS:\n",
    "    measures = sorted([(results[method][setting]['acc'], method) for method in METHODS])\n",
    "    print(setting, measures[-3:])"
   ]
  },
  {
   "cell_type": "code",
   "execution_count": 38,
   "metadata": {},
   "outputs": [],
   "source": [
    "agreement = dict()\n",
    "for method in results:\n",
    "    agreement[method] = dict()\n",
    "    for setting in SETTINGS:\n",
    "        agreement[method][setting] = dict()\n",
    "        for measure in ['redundancy', 'unique1', 'unique2', 'synergy']:\n",
    "            # agreement[method][setting][measure] = normalized_datasets[setting][measure] * (results[method][setting][measure] - datasets[setting][measure])\n",
    "            agreement[method][setting][measure] = normalized_datasets[setting][measure] * results[method][setting][measure]"
   ]
  },
  {
   "cell_type": "code",
   "execution_count": 39,
   "metadata": {},
   "outputs": [],
   "source": [
    "# plot utils\n",
    "\n",
    "def plot(X, y, xlabel, ylabel, label=None, saved_path=None, fit=False, plot='scatter'):\n",
    "    fig, ax = plt.subplots(figsize=(4,4))\n",
    "    if plot == 'scatter':\n",
    "        ax.scatter(X, y)\n",
    "    elif plot == 'line':\n",
    "        plt.plot(X, y)\n",
    "    if label:\n",
    "        for x in label:\n",
    "            plt.text(x[0], x[1], x[2])\n",
    "    # else:\n",
    "    #     plt.plot(X, y)\n",
    "    # ax.set_title('{} vs {}'.format(xlabel, ylabel))\n",
    "    ax.set_xlabel(xlabel, fontsize=18)\n",
    "    ax.set_ylabel(ylabel, fontsize=18)\n",
    "    plt.xticks(fontsize=12)\n",
    "    plt.yticks(fontsize=12)\n",
    "    if fit:\n",
    "        p = np.poly1d(np.polyfit(np.array(X), np.array(y), 1))\n",
    "        fit_x = list(np.arange(100)/1000*4.5)\n",
    "        fit_y = []\n",
    "        for x in fit_x:\n",
    "            fit_y.append(p(x))\n",
    "        plt.plot(fit_x, fit_y, linestyle='dashed')\n",
    "    if saved_path:\n",
    "        fig.savefig(saved_path+'.pdf', bbox_inches='tight')\n",
    "    plt.show()"
   ]
  },
  {
   "cell_type": "code",
   "execution_count": 40,
   "metadata": {},
   "outputs": [
    {
     "name": "stdout",
     "output_type": "stream",
     "text": [
      "('uniqueness0', 'additive') 0.08968748968537002 0.5016666666666667\n",
      "0.7763136382116782\n"
     ]
    },
    {
     "data": {
      "image/png": "[encoded data removed]",
      "text/plain": [
       "<Figure size 288x288 with 1 Axes>"
      ]
     },
     "metadata": {
      "needs_background": "light"
     },
     "output_type": "display_data"
    },
    {
     "name": "stdout",
     "output_type": "stream",
     "text": [
      "0.8047583682477277\n"
     ]
    },
    {
     "data": {
      "image/png": "[encoded data removed]",
      "text/plain": [
       "<Figure size 288x288 with 1 Axes>"
      ]
     },
     "metadata": {
      "needs_background": "light"
     },
     "output_type": "display_data"
    },
    {
     "name": "stdout",
     "output_type": "stream",
     "text": [
      "redundancy: lower (agree 0.39412632878107934, acc 0.7461111111111111)\n",
      "redundancy: recon (agree 0.4149849730414582, acc 0.7422222222222222)\n",
      "redundancy: agree (agree 0.4202237917210205, acc 0.7411111111111112)\n",
      "uniqueness0: agree (agree 0.4140355514944794, acc 0.7305555555555555)\n",
      "uniqueness0: lower (agree 0.4183832926407891, acc 0.7305555555555555)\n",
      "uniqueness0: align (agree 0.43131614744130564, acc 0.7277777777777777)\n",
      "uniqueness1: outer (agree 0.4126942083745158, acc 0.7438888888888889)\n",
      "uniqueness1: recon (agree 0.4132064218816007, acc 0.7361111111111112)\n",
      "uniqueness1: align (agree 0.4356037424462337, acc 0.7427777777777778)\n",
      "synergy: recon (agree 0.25869843200208165, acc 0.7438888888888889)\n",
      "synergy: agree (agree 0.2638104134123337, acc 0.7355555555555555)\n",
      "synergy: align (agree 0.2733781711400606, acc 0.735)\n",
      "mix1: agree (agree 0.21557368873226873, acc 0.6605555555555556)\n",
      "mix1: recon (agree 0.21992273064012036, acc 0.6594444444444445)\n",
      "mix1: align (agree 0.22541190803943534, acc 0.6633333333333333)\n",
      "mix2: recon (agree 0.19101045683270917, acc 0.7116666666666667)\n",
      "mix2: agree (agree 0.19834488460928185, acc 0.7205555555555555)\n",
      "mix2: align (agree 0.20038361656918113, acc 0.7233333333333334)\n",
      "mix3: lower (agree 0.248541733248084, acc 0.7361111111111112)\n",
      "mix3: recon (agree 0.26263921209572716, acc 0.7294444444444445)\n",
      "mix3: agree (agree 0.27612888934615626, acc 0.7455555555555555)\n",
      "mix4: early_fusion (agree 0.25047232865273067, acc 0.7044444444444444)\n",
      "mix4: agree (agree 0.2526844584318969, acc 0.7038888888888889)\n",
      "mix4: recon (agree 0.2587237507575567, acc 0.71)\n",
      "mix5: agree (agree 0.17553987961651774, acc 0.6538888888888889)\n",
      "mix5: recon (agree 0.18445158255209798, acc 0.6555555555555556)\n",
      "mix5: align (agree 0.18751227907093346, acc 0.66)\n",
      "mix6: agree (agree 0.24151105549287386, acc 0.7194444444444444)\n",
      "mix6: additive (agree 0.24399400248049558, acc 0.7233333333333334)\n",
      "mix6: recon (agree 0.2612455629057244, acc 0.72)\n"
     ]
    }
   ],
   "source": [
    "ratio = dict()\n",
    "for method in METHODS:\n",
    "    ratio[method] = dict()\n",
    "    for setting in SETTINGS:\n",
    "        tmp = 0\n",
    "        for measure in ['redundancy', 'unique1', 'unique2', 'synergy']:\n",
    "            tmp += agreement[method][setting][measure]\n",
    "        ratio[method][setting] = tmp\n",
    "measures = [ratio[method][setting] for setting in SETTINGS for method in METHODS]\n",
    "accs = [results[method][setting]['acc'] for setting in SETTINGS for method in METHODS]\n",
    "labels = [(setting, method) for setting in SETTINGS for method in METHODS]\n",
    "measures_tmp = []\n",
    "accs_tmp = []\n",
    "for i, acc in enumerate(accs):\n",
    "    if acc >= 0.55:\n",
    "        measures_tmp.append(measures[i])\n",
    "        accs_tmp.append(accs[i])\n",
    "    else:\n",
    "        print(labels[i], measures[i], accs[i])\n",
    "print(np.corrcoef(measures, accs)[0,1])\n",
    "plot(measures, accs, r'Agreement $\\uparrow$', r'Performance $\\uparrow$', fit=True)\n",
    "print(np.corrcoef(measures_tmp, accs_tmp)[0,1])\n",
    "plot(measures_tmp, accs_tmp, r'Agreement $\\uparrow$', r'Performance $\\uparrow$', saved_path='figs/agreement_performance', fit=True)\n",
    "for setting in SETTINGS:\n",
    "    measures = sorted([(ratio[method][setting], method) for method in METHODS])\n",
    "    # print(measures[-3:])\n",
    "    for agree, method in measures[-3:]:\n",
    "        print(\"{}: {} (agree {}, acc {})\".format(setting, method, agree, results[method][setting]['acc']))"
   ]
  },
  {
   "cell_type": "code",
   "execution_count": 18,
   "metadata": {},
   "outputs": [
    {
     "name": "stdout",
     "output_type": "stream",
     "text": [
      "['additive', 'agree', 'align', 'early_fusion', 'elem', 'recon', 'mi', 'mult', 'outer', 'lower']\n",
      "& 0.44 & 0.56 & 0.52 & 0.51 & 0.36 & 0.55 & 0.26 & 0.46 & 0.51 & 0.52 & 0.47$\\pm$0.09\n",
      "& 0.74 & 0.74 & 0.74 & 0.74 & 0.71 & 0.74 & 0.69 & 0.72 & 0.74 & 0.75 & 0.73\\pm0.02\n",
      "['additive', 'agree', 'align', 'early_fusion', 'elem', 'recon', 'mi', 'mult', 'outer', 'lower']\n",
      "& 0.27 & 0.54 & 0.57 & 0.5 & 0.33 & 0.54 & 0.23 & 0.51 & 0.54 & 0.53 & 0.46$\\pm$0.12\n",
      "& 0.56 & 0.74 & 0.74 & 0.74 & 0.7 & 0.74 & 0.7 & 0.73 & 0.74 & 0.74 & 0.71\\pm0.05\n",
      "['additive', 'agree', 'align', 'early_fusion', 'elem', 'recon', 'mi', 'mult', 'outer', 'lower']\n",
      "& 0.21 & 0.34 & 0.36 & 0.3 & 0.21 & 0.34 & 0.17 & 0.29 & 0.33 & 0.32 & 0.29$\\pm$0.06\n",
      "& 0.54 & 0.74 & 0.74 & 0.73 & 0.67 & 0.74 & 0.67 & 0.71 & 0.72 & 0.72 & 0.7\\pm0.06\n"
     ]
    }
   ],
   "source": [
    "for setting in ['redundancy', 'uniqueness', 'synergy']:\n",
    "    tmp = []\n",
    "    print(METHODS)\n",
    "    for method in METHODS:\n",
    "        if setting == 'uniqueness':\n",
    "            measure = (results[method][setting+'0']['unique1']+results[method][setting+'1']['unique2'])/2\n",
    "        else:\n",
    "            measure = results[method][setting][setting]\n",
    "        print('&', round(measure, 2), end=' ')\n",
    "        tmp.append(measure)\n",
    "    print('&', '{}$\\pm${}'.format(round(np.mean(tmp), 2), round(np.std(tmp), 2)))\n",
    "    tmp = []\n",
    "    for method in METHODS:\n",
    "        if setting == 'uniqueness':\n",
    "            acc = (results[method][setting+'0']['acc']+results[method][setting+'1']['acc'])/2\n",
    "        else:\n",
    "            acc = results[method][setting]['acc']\n",
    "        print('&', round(acc, 2), end=' ')\n",
    "        tmp.append(acc)\n",
    "    print('&', '{}\\pm{}'.format(round(np.mean(tmp), 2), round(np.std(tmp), 2)))"
   ]
  },
  {
   "cell_type": "code",
   "execution_count": 8,
   "metadata": {},
   "outputs": [
    {
     "name": "stdout",
     "output_type": "stream",
     "text": [
      "& $0.16$ & $0.0$ & $0.0$ & $0.05$ & $0.0$ & $0.16$ & $0.0$ & $0.05$ & $0.0$ & $0.0$ & $0.17$ & $0.05$ & $0.07$ & $0.0$ & $0.01$ & $0.14$ & $0.04$ & $0.01$ & $0.0$ & $0.07$ & $0.04$ & $0.06$ & $0.0$ & $0.07$ & $0.07$ & $0.0$ & $0.0$ & $0.12$ & $0.1$ & $0.0$ & $0.01$ & $0.07$ & $0.03$ & $0.0$ & $0.04$ & $0.05$ & $0.1$ & $0.0$ & $0.04$ & $0.05$ & \\\\\n"
     ]
    }
   ],
   "source": [
    "print('&', end=' ')\n",
    "for setting in SETTINGS:\n",
    "    for measure in MEASURES:\n",
    "        print('${}$ &'.format(round(datasets[setting][measure], 2)), end=' ')\n",
    "print('\\\\\\\\')"
   ]
  },
  {
   "cell_type": "code",
   "execution_count": 44,
   "metadata": {},
   "outputs": [],
   "source": [
    "model_selection = dict()\n",
    "for setting in SETTINGS:\n",
    "    measures = sorted([(results[method][setting]['acc'], method) for method in METHODS])\n",
    "    model_selection[setting] = measures[-3:]\n",
    "# model_selection"
   ]
  },
  {
   "cell_type": "code",
   "execution_count": 43,
   "metadata": {},
   "outputs": [],
   "source": [
    "normalized_new_results = dict()\n",
    "normalized_new_datasets = dict()\n",
    "for method in results:\n",
    "    normalized_new_results[method] = dict()\n",
    "    for setting in MODEL_SELECTION:\n",
    "        normalized_new_results[method][setting] = dict()\n",
    "        normalized_new_datasets[setting] = dict()\n",
    "        results_total = sum([results[method][setting][measure] for measure in ['redundancy', 'unique1', 'unique2', 'synergy']])\n",
    "        datasets_total = sum([datasets[setting][measure] for measure in ['redundancy', 'unique1', 'unique2', 'synergy']])\n",
    "        for measure in MEASURES:\n",
    "            normalized_new_results[method][setting][measure] = results[method][setting][measure] / results_total\n",
    "            normalized_new_datasets[setting][measure] = datasets[setting][measure] / datasets_total"
   ]
  },
  {
   "cell_type": "code",
   "execution_count": 45,
   "metadata": {},
   "outputs": [
    {
     "name": "stdout",
     "output_type": "stream",
     "text": [
      "synthetic1 [(0.6477777777777778, 'agree'), (0.6488888888888888, 'align'), (0.6488888888888888, 'recon')]\n",
      "synthetic2 [(0.7172222222222222, 'additive'), (0.7183333333333334, 'align'), (0.72, 'agree')]\n",
      "synthetic3 [(0.5461111111111111, 'recon'), (0.5538888888888889, 'align'), (0.555, 'mult')]\n",
      "synthetic4 [(0.6522222222222223, 'recon'), (0.6544444444444445, 'agree'), (0.6555555555555556, 'align')]\n",
      "synthetic5 [(0.6844444444444444, 'early_fusion'), (0.685, 'recon'), (0.6877777777777778, 'agree')]\n"
     ]
    }
   ],
   "source": [
    "accs = [results[method][setting]['acc'] for setting in MODEL_SELECTION for method in METHODS]\n",
    "model_selection_best = dict()\n",
    "for setting in MODEL_SELECTION:\n",
    "    measures = sorted([(results[method][setting]['acc'], method) for method in METHODS])\n",
    "    model_selection_best[setting] = results[measures[-1][1]][setting]['acc']\n",
    "    print(setting, measures[-3:])"
   ]
  },
  {
   "cell_type": "code",
   "execution_count": 54,
   "metadata": {},
   "outputs": [
    {
     "name": "stdout",
     "output_type": "stream",
     "text": [
      "synthetic1 most similar dataset: (0.20764329902389872, 'synergy') selected models [(0.735, 'align'), (0.7355555555555555, 'agree'), (0.7438888888888889, 'recon')]\n",
      "100.00%\n",
      "synthetic2 most similar dataset: (0.1870096924930445, 'mix6') selected models [(0.7233333333333334, 'additive'), (0.7233333333333334, 'mult'), (0.725, 'align')]\n",
      "99.77%\n",
      "synthetic3 most similar dataset: (0.4475755772881449, 'synergy') selected models [(0.735, 'align'), (0.7355555555555555, 'agree'), (0.7438888888888889, 'recon')]\n",
      "99.80%\n",
      "synthetic4 most similar dataset: (0.30995682375221156, 'synergy') selected models [(0.735, 'align'), (0.7355555555555555, 'agree'), (0.7438888888888889, 'recon')]\n",
      "100.00%\n",
      "synthetic5 most similar dataset: (0.15286985752146437, 'synergy') selected models [(0.735, 'align'), (0.7355555555555555, 'agree'), (0.7438888888888889, 'recon')]\n",
      "100.00%\n",
      "Overall:99.91%\n"
     ]
    }
   ],
   "source": [
    "best_model_scores = []\n",
    "for setting in MODEL_SELECTION:\n",
    "    tmp = []\n",
    "    for old_setting in SETTINGS:\n",
    "        tmp.append((np.sum(np.absolute([normalized_new_datasets[setting][measure]-normalized_datasets[old_setting][measure] for measure in MEASURES])), old_setting))\n",
    "    tmp = sorted(tmp)\n",
    "    for i in range(1):\n",
    "        print(setting, \"most similar dataset:\", tmp[i], \"selected models\", model_selection[tmp[i][1]])\n",
    "        selected_models = model_selection[tmp[i][1]]\n",
    "        model_scores = []\n",
    "        for _, method in selected_models:\n",
    "            model_scores.append((results[method][setting]['acc'], method))\n",
    "        model_scores = sorted(model_scores)\n",
    "        best_score = model_scores[-1][0] / model_selection_best[setting] * 100\n",
    "        best_model_scores.append(best_score)\n",
    "        print('{:.2f}%'.format(best_score))\n",
    "print('Overall:{:.2f}%'.format(np.mean(best_model_scores)))"
   ]
  },
  {
   "cell_type": "code",
   "execution_count": null,
   "metadata": {},
   "outputs": [],
   "source": []
  }
 ],
 "metadata": {
  "kernelspec": {
   "display_name": "multibench",
   "language": "python",
   "name": "python3"
  },
  "language_info": {
   "codemirror_mode": {
    "name": "ipython",
    "version": 3
   },
   "file_extension": ".py",
   "mimetype": "text/x-python",
   "name": "python",
   "nbconvert_exporter": "python",
   "pygments_lexer": "ipython3",
   "version": "3.9.6"
  },
  "orig_nbformat": 4,
  "vscode": {
   "interpreter": {
    "hash": "8158f520b0615a91d72976457965394544e0f25ca15232774db0f5a21042574b"
   }
  }
 },
 "nbformat": 4,
 "nbformat_minor": 2
}
