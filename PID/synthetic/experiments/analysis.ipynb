{
 "cells": [
  {
   "cell_type": "code",
   "execution_count": 1,
   "metadata": {},
   "outputs": [],
   "source": [
    "import matplotlib.pyplot as plt\n",
    "import numpy as np\n",
    "import sys\n",
    "import os\n",
    "import pickle\n",
    "import torch\n",
    "sys.path.append(os.getcwd())\n",
    "sys.path.append(os.path.dirname(os.path.dirname(os.getcwd())))\n",
    "from supervised_learning import test\n",
    "from ensemble import test as test_ensemble\n",
    "from get_data import get_dataloader\n",
    "from rus import *"
   ]
  },
  {
   "cell_type": "code",
   "execution_count": 2,
   "metadata": {},
   "outputs": [],
   "source": [
    "# plot utils\n",
    "\n",
    "def plot(X, y, xlabel, ylabel, label=None, saved_path=None, fit=False, plot='scatter'):\n",
    "    fig, ax = plt.subplots(figsize=(4,4))\n",
    "    if plot == 'scatter':\n",
    "        ax.scatter(X, y)\n",
    "    elif plot == 'line':\n",
    "        plt.plot(X, y)\n",
    "    if label:\n",
    "        for x in label:\n",
    "            plt.text(x[0], x[1], x[2])\n",
    "    # else:\n",
    "    #     plt.plot(X, y)\n",
    "    # ax.set_title('{} vs {}'.format(xlabel, ylabel))\n",
    "    ax.set_xlabel(xlabel, fontsize=18)\n",
    "    ax.set_ylabel(ylabel, fontsize=18)\n",
    "    plt.xticks(fontsize=12)\n",
    "    plt.yticks(fontsize=12)\n",
    "    if fit:\n",
    "        p = np.poly1d(np.polyfit(np.array(X), np.array(y), 1))\n",
    "        fit_x = list(np.arange(100)/1000*4.5)\n",
    "        fit_y = []\n",
    "        for x in fit_x:\n",
    "            fit_y.append(p(x))\n",
    "        plt.plot(fit_x, fit_y, linestyle='dashed')\n",
    "    if saved_path:\n",
    "        fig.savefig(saved_path+'.pdf', bbox_inches='tight')\n",
    "    plt.show()"
   ]
  },
  {
   "attachments": {},
   "cell_type": "markdown",
   "metadata": {},
   "source": [
    "load postprocessed $I_{f(\\mathcal{D})}$ and $I_\\mathcal{D}$"
   ]
  },
  {
   "cell_type": "code",
   "execution_count": 3,
   "metadata": {},
   "outputs": [
    {
     "name": "stdout",
     "output_type": "stream",
     "text": [
      "dict_keys(['redundancy', 'unique1', 'unique2', 'synergy', 'acc', 'params'])\n",
      "dict_keys(['redundancy', 'uniqueness0', 'uniqueness1', 'synergy', 'mix1', 'mix2', 'mix3', 'mix4', 'mix5', 'synthetic1', 'synthetic2', 'synthetic3', 'synthetic4', 'synthetic5', 'mix6'])\n"
     ]
    }
   ],
   "source": [
    "with open('synthetic/experiments2/results.pickle', 'rb') as f:\n",
    "    results = pickle.load(f)\n",
    "print(results['additive']['redundancy'].keys())\n",
    "with open('synthetic/experiments2/datasets.pickle', 'rb') as f:\n",
    "    datasets = pickle.load(f)\n",
    "METHODS = ['additive', 'agree', 'align', 'early_fusion', 'elem', 'recon', 'mi', 'mult', 'outer', 'lower']\n",
    "SETTINGS = ['redundancy', 'uniqueness0', 'uniqueness1', 'synergy', 'mix1', 'mix2', 'mix3', 'mix4', 'mix5', 'mix6']\n",
    "MEASURES = ['redundancy', 'unique1', 'unique2', 'synergy']\n",
    "MODEL_SELECTION = ['synthetic{}'.format(i) for i in range(1,6)]\n",
    "print(datasets.keys())"
   ]
  },
  {
   "attachments": {},
   "cell_type": "markdown",
   "metadata": {},
   "source": [
    "normalize $I_\\mathcal{D}$ for each $\\mathcal{D}$ to get $\\hat{I}_\\mathcal{D}$"
   ]
  },
  {
   "cell_type": "code",
   "execution_count": 7,
   "metadata": {},
   "outputs": [],
   "source": [
    "normalized_results = dict()\n",
    "normalized_datasets = dict()\n",
    "for method in METHODS:\n",
    "    normalized_results[method] = dict()\n",
    "    for setting in SETTINGS:\n",
    "        normalized_results[method][setting] = dict()\n",
    "        normalized_datasets[setting] = dict()\n",
    "        results_total = sum([results[method][setting][measure] for measure in ['redundancy', 'unique1', 'unique2', 'synergy']])\n",
    "        datasets_total = sum([datasets[setting][measure] for measure in ['redundancy', 'unique1', 'unique2', 'synergy']])\n",
    "        for measure in MEASURES:\n",
    "            normalized_results[method][setting][measure] = results[method][setting][measure] / results_total\n",
    "            normalized_datasets[setting][measure] = datasets[setting][measure] / datasets_total"
   ]
  },
  {
   "attachments": {},
   "cell_type": "markdown",
   "metadata": {},
   "source": [
    "Print the best-performing models $f^*$ for each $\\mathcal{D}$"
   ]
  },
  {
   "cell_type": "code",
   "execution_count": 8,
   "metadata": {},
   "outputs": [
    {
     "name": "stdout",
     "output_type": "stream",
     "text": [
      "redundancy [(0.7422222222222222, 'recon'), (0.7438888888888889, 'additive'), (0.7461111111111111, 'lower')]\n",
      "uniqueness0 [(0.7316666666666667, 'outer'), (0.7338888888888889, 'early_fusion'), (0.7361111111111112, 'recon')]\n",
      "uniqueness1 [(0.7427777777777778, 'align'), (0.7438888888888889, 'additive'), (0.7438888888888889, 'outer')]\n",
      "synergy [(0.735, 'align'), (0.7355555555555555, 'agree'), (0.7438888888888889, 'recon')]\n",
      "mix1 [(0.6594444444444445, 'recon'), (0.6605555555555556, 'agree'), (0.6633333333333333, 'align')]\n",
      "mix2 [(0.7116666666666667, 'recon'), (0.7205555555555555, 'agree'), (0.7233333333333334, 'align')]\n",
      "mix3 [(0.7294444444444445, 'recon'), (0.7361111111111112, 'lower'), (0.7455555555555555, 'agree')]\n",
      "mix4 [(0.7044444444444444, 'early_fusion'), (0.705, 'lower'), (0.71, 'recon')]\n",
      "mix5 [(0.6544444444444445, 'additive'), (0.6555555555555556, 'recon'), (0.66, 'align')]\n",
      "mix6 [(0.7222222222222222, 'outer'), (0.7233333333333334, 'mult'), (0.725, 'align')]\n"
     ]
    }
   ],
   "source": [
    "accs = [results[method][setting]['acc'] for setting in results[method] for method in METHODS]\n",
    "for setting in SETTINGS:\n",
    "    measures = sorted([(results[method][setting]['acc'], method) for method in METHODS])\n",
    "    print(setting, measures[-3:])"
   ]
  },
  {
   "attachments": {},
   "cell_type": "markdown",
   "metadata": {},
   "source": [
    "Compute agreement $\\alpha_I(f,\\mathcal{D})$ for all $f,\\mathcal{D}$ and $I\\in\\{R,U_i,S\\}$"
   ]
  },
  {
   "cell_type": "code",
   "execution_count": 10,
   "metadata": {},
   "outputs": [],
   "source": [
    "agreement = dict()\n",
    "for method in METHODS:\n",
    "    agreement[method] = dict()\n",
    "    for setting in SETTINGS:\n",
    "        agreement[method][setting] = dict()\n",
    "        for measure in ['redundancy', 'unique1', 'unique2', 'synergy']:\n",
    "            # agreement[method][setting][measure] = normalized_datasets[setting][measure] * (results[method][setting][measure] - datasets[setting][measure])\n",
    "            agreement[method][setting][measure] = normalized_datasets[setting][measure] * results[method][setting][measure]"
   ]
  },
  {
   "cell_type": "code",
   "execution_count": 14,
   "metadata": {},
   "outputs": [
    {
     "data": {
      "text/plain": [
       "dict_keys(['tf', 'mi', 'additive', 'agree', 'align', 'early_fusion', 'elem', 'mfm', 'mult', 'outer', 'lower', 'agree0.1', 'align0.1', 'mfm0.1', 'agree0.2', 'align0.2', 'mfm0.2', 'agree0.5', 'align0.5', 'mfm0.5'])"
      ]
     },
     "execution_count": 14,
     "metadata": {},
     "output_type": "execute_result"
    }
   ],
   "source": [
    "agreement.keys()"
   ]
  },
  {
   "attachments": {},
   "cell_type": "markdown",
   "metadata": {},
   "source": [
    "Compute performance rank for each $f$ on $\\mathcal{D}$"
   ]
  },
  {
   "cell_type": "code",
   "execution_count": 52,
   "metadata": {},
   "outputs": [],
   "source": [
    "ranks = dict()\n",
    "for setting in SETTINGS:\n",
    "    measures = sorted([(results[method][setting]['acc'], method) for method in METHODS])\n",
    "    ranks[setting] = [measure[1] for measure in measures][::-1]\n",
    "    ranks[setting] = dict([(rank, i+1) for i, rank in enumerate(ranks[setting])])\n"
   ]
  },
  {
   "attachments": {},
   "cell_type": "markdown",
   "metadata": {},
   "source": [
    "Examine correlation between $\\alpha(f,\\mathcal{D})$ and performance of $f$ on $\\mathcal{D}$\n",
    "\n",
    "Print out the top-3 best agreed models for each $\\mathcal{D}$"
   ]
  },
  {
   "cell_type": "code",
   "execution_count": 11,
   "metadata": {},
   "outputs": [
    {
     "name": "stdout",
     "output_type": "stream",
     "text": [
      "0.7660631825115614\n"
     ]
    },
    {
     "data": {
      "image/png": "[encoded data removed]",
      "text/plain": [
       "<Figure size 288x288 with 1 Axes>"
      ]
     },
     "metadata": {
      "needs_background": "light"
     },
     "output_type": "display_data"
    },
    {
     "name": "stdout",
     "output_type": "stream",
     "text": [
      "0.8123790181445011\n"
     ]
    },
    {
     "data": {
      "image/png": "[encoded data removed]",
      "text/plain": [
       "<Figure size 288x288 with 1 Axes>"
      ]
     },
     "metadata": {
      "needs_background": "light"
     },
     "output_type": "display_data"
    },
    {
     "name": "stdout",
     "output_type": "stream",
     "text": [
      "redundancy: lower (agree 0.39412632878107934, acc 0.7461111111111111)\n",
      "redundancy: recon (agree 0.4149849730414582, acc 0.7422222222222222)\n",
      "redundancy: agree (agree 0.4202237917210205, acc 0.7411111111111112)\n",
      "uniqueness0: agree (agree 0.4140355514944794, acc 0.7305555555555555)\n",
      "uniqueness0: lower (agree 0.4183832926407891, acc 0.7305555555555555)\n",
      "uniqueness0: align (agree 0.43131614744130564, acc 0.7277777777777777)\n",
      "uniqueness1: outer (agree 0.4126942083745158, acc 0.7438888888888889)\n",
      "uniqueness1: recon (agree 0.4132064218816007, acc 0.7361111111111112)\n",
      "uniqueness1: align (agree 0.4356037424462337, acc 0.7427777777777778)\n",
      "synergy: recon (agree 0.25869843200208165, acc 0.7438888888888889)\n",
      "synergy: agree (agree 0.2638104134123337, acc 0.7355555555555555)\n",
      "synergy: align (agree 0.2733781711400606, acc 0.735)\n",
      "mix1: agree (agree 0.21557368873226873, acc 0.6605555555555556)\n",
      "mix1: recon (agree 0.21992273064012036, acc 0.6594444444444445)\n",
      "mix1: align (agree 0.22541190803943534, acc 0.6633333333333333)\n",
      "mix2: recon (agree 0.19101045683270917, acc 0.7116666666666667)\n",
      "mix2: agree (agree 0.19834488460928185, acc 0.7205555555555555)\n",
      "mix2: align (agree 0.20038361656918113, acc 0.7233333333333334)\n",
      "mix3: lower (agree 0.248541733248084, acc 0.7361111111111112)\n",
      "mix3: recon (agree 0.26263921209572716, acc 0.7294444444444445)\n",
      "mix3: agree (agree 0.27612888934615626, acc 0.7455555555555555)\n",
      "mix4: early_fusion (agree 0.25047232865273067, acc 0.7044444444444444)\n",
      "mix4: agree (agree 0.2526844584318969, acc 0.7038888888888889)\n",
      "mix4: recon (agree 0.2587237507575567, acc 0.71)\n",
      "mix5: agree (agree 0.17553987961651774, acc 0.6538888888888889)\n",
      "mix5: recon (agree 0.18445158255209798, acc 0.6555555555555556)\n",
      "mix5: align (agree 0.18751227907093346, acc 0.66)\n",
      "mix6: agree (agree 0.24151105549287386, acc 0.7194444444444444)\n",
      "mix6: additive (agree 0.24993610410977313, acc 0.7211111111111111)\n",
      "mix6: recon (agree 0.2612455629057244, acc 0.72)\n"
     ]
    }
   ],
   "source": [
    "ratio = dict()\n",
    "for method in METHODS:\n",
    "    ratio[method] = dict()\n",
    "    for setting in SETTINGS:\n",
    "        tmp = 0\n",
    "        for measure in ['redundancy', 'unique1', 'unique2', 'synergy']:\n",
    "            tmp += agreement[method][setting][measure]\n",
    "        ratio[method][setting] = tmp\n",
    "measures = [ratio[method][setting] for setting in SETTINGS for method in METHODS]\n",
    "accs = [results[method][setting]['acc'] for setting in SETTINGS for method in METHODS]\n",
    "labels = [(ratio[method][setting], results[method][setting]['acc'], method) for setting in SETTINGS for method in METHODS]\n",
    "measures_tmp = []\n",
    "accs_tmp = []\n",
    "for i, acc in enumerate(accs):\n",
    "    if acc >= 0.5:\n",
    "        measures_tmp.append(measures[i])\n",
    "        accs_tmp.append(accs[i])\n",
    "print(np.corrcoef(measures, accs)[0,1])\n",
    "plot(measures, accs, r'Agreement $\\uparrow$', r'Performance $\\uparrow$', fit=True)\n",
    "print(np.corrcoef(measures_tmp, accs_tmp)[0,1])\n",
    "plot(measures_tmp, accs_tmp, r'Agreement $\\uparrow$', r'Performance $\\uparrow$', saved_path='figs/agreement_performance', fit=True)\n",
    "for setting in SETTINGS:\n",
    "    measures = sorted([(ratio[method][setting], method) for method in METHODS])\n",
    "    # print(measures[-3:])\n",
    "    for agree, method in measures[-3:]:\n",
    "        print(\"{}: {} (agree {}, acc {})\".format(setting, method, agree, results[method][setting]['acc']))"
   ]
  },
  {
   "attachments": {},
   "cell_type": "markdown",
   "metadata": {},
   "source": [
    "Examine correlation between model robustness and $U_i$"
   ]
  },
  {
   "cell_type": "code",
   "execution_count": 12,
   "metadata": {},
   "outputs": [
    {
     "name": "stdout",
     "output_type": "stream",
     "text": [
      "0.8020923230470498\n",
      "S 0.7318140729244247\n",
      "R 0.006287272824409087\n",
      "R+S 0.4523182165702721\n"
     ]
    },
    {
     "data": {
      "image/png": "[encoded data removed]",
      "text/plain": [
       "<Figure size 288x288 with 1 Axes>"
      ]
     },
     "metadata": {
      "needs_background": "light"
     },
     "output_type": "display_data"
    }
   ],
   "source": [
    "uniqueness = []\n",
    "unimodal_accs = []\n",
    "low_synergy = []\n",
    "low_redundancy = []\n",
    "low_accs = []\n",
    "low_synred = []\n",
    "for i in [0,1]:\n",
    "    for setting in SETTINGS: \n",
    "        for method in METHODS:\n",
    "            unimodal_accs.append(results[method][setting]['acc']-results['unimodal'][setting]['acc{}'.format(i)])\n",
    "            uniqueness.append(results[method][setting]['unique{}'.format(2-i)])\n",
    "            if results[method][setting]['unique{}'.format(2-i)] < 0.05:\n",
    "                low_synergy.append(results[method][setting]['synergy'])\n",
    "                low_redundancy.append(results[method][setting]['redundancy'])\n",
    "                low_synred.append(results[method][setting]['synergy']+results[method][setting]['redundancy'])\n",
    "                low_accs.append(results[method][setting]['acc']-results['unimodal'][setting]['acc{}'.format(i)])\n",
    "            # labels = [(results[method][setting]['unique{}'.format(2-i)], results[method][setting]['acc']-results[method][setting]['unimodal{}_acc'.format(i)], round(results[method][setting]['synergy'], 2)) for setting in SETTINGS for method in METHODS]\n",
    "print(np.corrcoef(uniqueness, unimodal_accs)[0,1])\n",
    "print(\"S\", np.corrcoef(low_synergy, low_accs)[0,1])\n",
    "print(\"R\", np.corrcoef(low_redundancy, low_accs)[0,1])\n",
    "print(\"R+S\", np.corrcoef(low_synred, low_accs)[0,1])\n",
    "plot(uniqueness, unimodal_accs, r'$U_i$', 'Performance drop', saved_path='figs/unimodal_robust')"
   ]
  },
  {
   "attachments": {},
   "cell_type": "markdown",
   "metadata": {},
   "source": [
    "Examine correlation between $I_\\mathcal{D}$, $I\\{R,U_i,S\\}$ and model performance on each $\\mathcal{D}$"
   ]
  },
  {
   "cell_type": "code",
   "execution_count": 25,
   "metadata": {},
   "outputs": [
    {
     "name": "stdout",
     "output_type": "stream",
     "text": [
      "redundancy\n",
      "redundancy 0.9786196449671446\n",
      "unique1 -0.16935672048228878\n",
      "unique2 0.15105705115085946\n",
      "synergy -0.47905156702160434\n",
      "\n",
      "uniqueness0\n",
      "redundancy -0.8737045775826255\n",
      "unique1 0.7769222657508575\n",
      "unique2 0.4699462364894213\n",
      "synergy -0.5674773842865749\n",
      "\n",
      "uniqueness1\n",
      "redundancy 0.17551100867595829\n",
      "unique1 0.623390522171992\n",
      "unique2 0.9665935785933983\n",
      "synergy -0.26069218377619907\n",
      "\n",
      "synergy\n",
      "redundancy 0.41134501929865386\n",
      "unique1 0.37297450768056395\n",
      "unique2 -0.6216423617299026\n",
      "synergy 0.8557181062790902\n",
      "\n",
      "mix1\n",
      "redundancy 0.8120026310072159\n",
      "unique1 0.41098066399858774\n",
      "unique2 -0.3056943189522004\n",
      "synergy 0.718100556407732\n",
      "\n",
      "mix2\n",
      "redundancy 0.6047456950535052\n",
      "unique1 0.8295422799992076\n",
      "unique2 -0.5289491505484979\n",
      "synergy 0.7139732696558198\n",
      "\n",
      "mix3\n",
      "redundancy 0.6956197927382552\n",
      "unique1 0.7937585593675184\n",
      "unique2 -0.6868907844903448\n",
      "synergy 0.7869647916190825\n",
      "\n",
      "mix4\n",
      "redundancy 0.8452579198448074\n",
      "unique1 0.3778870986367016\n",
      "unique2 -0.12217429372095687\n",
      "synergy 0.7759688376163629\n",
      "\n",
      "mix5\n",
      "redundancy 0.7802962990781014\n",
      "unique1 -0.11505858881834521\n",
      "unique2 0.86944671006123\n",
      "synergy -0.20026447662938984\n",
      "\n",
      "mix6\n",
      "redundancy 0.8953150634457455\n",
      "unique1 -0.38742725003873096\n",
      "unique2 0.7538066877485287\n",
      "synergy -0.6644547073182796\n",
      "\n"
     ]
    }
   ],
   "source": [
    "for setting in SETTINGS:\n",
    "    print(setting)\n",
    "    accs = [results[method][setting]['acc'] for method in METHODS]\n",
    "    for measure in MEASURES:\n",
    "        tmp = [agreement[method][setting][measure] for method in METHODS]\n",
    "        print(measure, np.corrcoef(tmp, accs)[0,1])\n",
    "    print()"
   ]
  },
  {
   "attachments": {},
   "cell_type": "markdown",
   "metadata": {},
   "source": [
    "Examine correlation between $I_\\mathcal{D}$, $I\\{R,U_i,S\\}$ and model performance on each $\\mathcal{D}$"
   ]
  },
  {
   "cell_type": "code",
   "execution_count": 18,
   "metadata": {},
   "outputs": [
    {
     "name": "stdout",
     "output_type": "stream",
     "text": [
      "redundancy\n",
      "redundancy 0.9640891034268053\n",
      "unique1 0.3240885803498338\n",
      "unique2 0.4529409744281155\n",
      "synergy -0.8985388420792226\n",
      "\n",
      "uniqueness0\n",
      "redundancy -0.9708195657106077\n",
      "unique1 0.8340139358621323\n",
      "unique2 0.6263349027533481\n",
      "synergy -0.6409017419564751\n",
      "\n",
      "uniqueness1\n",
      "redundancy -0.4135440079319212\n",
      "unique1 0.6740196657906476\n",
      "unique2 0.8898686526451068\n",
      "synergy -0.5311119412007815\n",
      "\n",
      "synergy\n",
      "redundancy 0.8025219983665216\n",
      "unique1 0.26014305379179264\n",
      "unique2 -0.46674913933280787\n",
      "synergy 0.9051764646848597\n",
      "\n",
      "mix1\n",
      "redundancy 0.8180336043750206\n",
      "unique1 0.507153436823774\n",
      "unique2 -0.17382376896884316\n",
      "synergy 0.885823389595412\n",
      "\n",
      "mix2\n",
      "redundancy 0.06196645314678662\n",
      "unique1 0.9161878030920443\n",
      "unique2 -0.7606008191469958\n",
      "synergy 0.42292759637201904\n",
      "\n",
      "mix3\n",
      "redundancy 0.7376420805367833\n",
      "unique1 0.5337107264043494\n",
      "unique2 -0.6188857290137956\n",
      "synergy 0.9741633868556724\n",
      "\n",
      "mix4\n",
      "redundancy 0.8883879117354138\n",
      "unique1 -0.3216334579472801\n",
      "unique2 0.3472788161337426\n",
      "synergy 0.6946943113446127\n",
      "\n",
      "mix5\n",
      "redundancy 0.5719571025366963\n",
      "unique1 0.6286717025443195\n",
      "unique2 0.8514449646779523\n",
      "synergy -0.2354085332954783\n",
      "\n",
      "mix6\n",
      "redundancy 0.8940220612002412\n",
      "unique1 -0.45003843197048665\n",
      "unique2 0.6437497522506662\n",
      "synergy -0.44458756964608215\n",
      "\n"
     ]
    }
   ],
   "source": [
    "for setting in SETTINGS:\n",
    "    print(setting)\n",
    "    accs = [results[method][setting]['acc'] for method in METHODS]\n",
    "    for measure in MEASURES:\n",
    "        tmp = [agreement[method][setting][measure] for method in METHODS]\n",
    "        print(measure, np.corrcoef(tmp, accs)[0,1])\n",
    "    print()"
   ]
  },
  {
   "attachments": {},
   "cell_type": "markdown",
   "metadata": {},
   "source": [
    "Model selection"
   ]
  },
  {
   "cell_type": "code",
   "execution_count": 14,
   "metadata": {},
   "outputs": [],
   "source": [
    "normalized_new_results = dict()\n",
    "normalized_new_datasets = dict()\n",
    "for method in METHODS:\n",
    "    normalized_new_results[method] = dict()\n",
    "    for setting in MODEL_SELECTION:\n",
    "        normalized_new_results[method][setting] = dict()\n",
    "        normalized_new_datasets[setting] = dict()\n",
    "        results_total = sum([results[method][setting][measure] for measure in ['redundancy', 'unique1', 'unique2', 'synergy']])\n",
    "        datasets_total = sum([datasets[setting][measure] for measure in ['redundancy', 'unique1', 'unique2', 'synergy']])\n",
    "        for measure in MEASURES:\n",
    "            normalized_new_results[method][setting][measure] = results[method][setting][measure] / results_total\n",
    "            normalized_new_datasets[setting][measure] = datasets[setting][measure] / datasets_total"
   ]
  },
  {
   "cell_type": "code",
   "execution_count": 15,
   "metadata": {},
   "outputs": [
    {
     "name": "stdout",
     "output_type": "stream",
     "text": [
      "synthetic1 [(0.6477777777777778, 'agree'), (0.6488888888888888, 'align'), (0.6488888888888888, 'recon')]\n",
      "synthetic2 [(0.7138888888888889, 'additive'), (0.7183333333333334, 'align'), (0.72, 'agree')]\n",
      "synthetic3 [(0.5461111111111111, 'recon'), (0.5538888888888889, 'align'), (0.555, 'mult')]\n",
      "synthetic4 [(0.6522222222222223, 'recon'), (0.6544444444444445, 'agree'), (0.6555555555555556, 'align')]\n",
      "synthetic5 [(0.6844444444444444, 'early_fusion'), (0.685, 'recon'), (0.6877777777777778, 'agree')]\n"
     ]
    }
   ],
   "source": [
    "accs = [results[method][setting]['acc'] for setting in MODEL_SELECTION for method in METHODS]\n",
    "model_selection_best = dict()\n",
    "for setting in MODEL_SELECTION:\n",
    "    measures = sorted([(results[method][setting]['acc'], method) for method in METHODS])\n",
    "    model_selection_best[setting] = results[measures[-1][1]][setting]['acc']\n",
    "    print(setting, measures[-3:])"
   ]
  },
  {
   "cell_type": "code",
   "execution_count": 17,
   "metadata": {},
   "outputs": [
    {
     "name": "stdout",
     "output_type": "stream",
     "text": [
      "synthetic1 most similar dataset: (0.20764329902389872, 'synergy') selected models [(0.735, 'align'), (0.7355555555555555, 'agree'), (0.7438888888888889, 'recon')]\n",
      "100.00%\n",
      "synthetic2 most similar dataset: (0.1870096924930445, 'mix6') selected models [(0.7222222222222222, 'outer'), (0.7233333333333334, 'mult'), (0.725, 'align')]\n",
      "99.77%\n",
      "synthetic3 most similar dataset: (0.4475755772881449, 'synergy') selected models [(0.735, 'align'), (0.7355555555555555, 'agree'), (0.7438888888888889, 'recon')]\n",
      "99.80%\n",
      "synthetic4 most similar dataset: (0.30995682375221156, 'synergy') selected models [(0.735, 'align'), (0.7355555555555555, 'agree'), (0.7438888888888889, 'recon')]\n",
      "100.00%\n",
      "synthetic5 most similar dataset: (0.15286985752146437, 'synergy') selected models [(0.735, 'align'), (0.7355555555555555, 'agree'), (0.7438888888888889, 'recon')]\n",
      "100.00%\n",
      "Overall:99.91%\n"
     ]
    }
   ],
   "source": [
    "model_selection = dict()\n",
    "for setting in SETTINGS:\n",
    "    measures = sorted([(results[method][setting]['acc'], method) for method in METHODS])\n",
    "    model_selection[setting] = measures[-3:]\n",
    "\n",
    "best_model_scores = []\n",
    "for setting in MODEL_SELECTION:\n",
    "    tmp = []\n",
    "    for old_setting in SETTINGS:\n",
    "        tmp.append((np.sum(np.absolute([normalized_new_datasets[setting][measure]-normalized_datasets[old_setting][measure] for measure in MEASURES])), old_setting))\n",
    "    tmp = sorted(tmp)\n",
    "    for i in range(1):\n",
    "        print(setting, \"most similar dataset:\", tmp[i], \"selected models\", model_selection[tmp[i][1]])\n",
    "        selected_models = model_selection[tmp[i][1]]\n",
    "        model_scores = []\n",
    "        for _, method in selected_models:\n",
    "            model_scores.append((results[method][setting]['acc'], method))\n",
    "        model_scores = sorted(model_scores)\n",
    "        best_score = model_scores[-1][0] / model_selection_best[setting] * 100\n",
    "        best_model_scores.append(best_score)\n",
    "        print('{:.2f}%'.format(best_score))\n",
    "print('Overall:{:.2f}%'.format(np.mean(best_model_scores)))"
   ]
  },
  {
   "cell_type": "code",
   "execution_count": null,
   "metadata": {},
   "outputs": [],
   "source": []
  },
  {
   "attachments": {},
   "cell_type": "markdown",
   "metadata": {},
   "source": [
    "Format results in $\\LaTeX$"
   ]
  },
  {
   "cell_type": "code",
   "execution_count": 61,
   "metadata": {},
   "outputs": [
    {
     "name": "stdout",
     "output_type": "stream",
     "text": [
      "& 0.35 & 0.48 & 0.44 & 0.47 & 0.27 & 0.55 & 0.2 & 0.4 & 0.47 & 0.53 & 0.41$\\pm$0.11\n",
      "& 0.71 & 0.74 & 0.73 & 0.74 & 0.7 & 0.75 & 0.67 & 0.73 & 0.74 & 0.75 & 0.73\\pm0.02\n",
      "& 0.29 & 0.31 & 0.19 & 0.44 & 0.2 & 0.52 & 0.18 & 0.45 & 0.55 & 0.55 & 0.37$\\pm$0.14\n",
      "& 0.66 & 0.55 & 0.6 & 0.73 & 0.66 & 0.73 & 0.66 & 0.72 & 0.73 & 0.73 & 0.68\\pm0.06\n",
      "& 0.13 & 0.09 & 0.08 & 0.29 & 0.14 & 0.33 & 0.12 & 0.29 & 0.31 & 0.32 & 0.21$\\pm$0.1\n",
      "& 0.56 & 0.66 & 0.63 & 0.72 & 0.66 & 0.74 & 0.65 & 0.72 & 0.73 & 0.74 & 0.68\\pm0.06\n"
     ]
    }
   ],
   "source": [
    "for setting in ['redundancy', 'uniqueness', 'synergy']:\n",
    "    tmp = []\n",
    "    for method in METHODS:\n",
    "        if setting == 'uniqueness':\n",
    "            measure = (results[method][setting+'0']['unique1']+results[method][setting+'1']['unique2'])/2\n",
    "        else:\n",
    "            measure = results[method][setting][setting]\n",
    "        print('&', round(measure, 2), end=' ')\n",
    "        tmp.append(measure)\n",
    "    print('&', '{}$\\pm${}'.format(round(np.mean(tmp), 2), round(np.std(tmp), 2)))\n",
    "    tmp = []\n",
    "    for method in METHODS:\n",
    "        if setting == 'uniqueness':\n",
    "            acc = (results[method][setting+'0']['acc']+results[method][setting+'1']['acc'])/2\n",
    "        else:\n",
    "            acc = results[method][setting]['acc']\n",
    "        print('&', round(acc, 2), end=' ')\n",
    "        tmp.append(acc)\n",
    "    print('&', '{}\\pm{}'.format(round(np.mean(tmp), 2), round(np.std(tmp), 2)))\n"
   ]
  },
  {
   "cell_type": "code",
   "execution_count": 15,
   "metadata": {},
   "outputs": [
    {
     "name": "stdout",
     "output_type": "stream",
     "text": [
      "& 0.53 & 0.0 & 0.01 & 0.03 & 0.75 & 0.55 & 0.01 & 0.01 & 0.03 & 0.75 \\\\\n",
      "& 0.0 & 0.56 & 0.0 & 0.02 & 0.74 & 0.01 & 0.49 & 0.0 & 0.02 & 0.74 \\\\\n",
      "& 0.01 & 0.0 & 0.54 & 0.02 & 0.72 & 0.01 & 0.0 & 0.55 & 0.03 & 0.73 \\\\\n",
      "& 0.15 & 0.03 & 0.0 & 0.32 & 0.74 & 0.14 & 0.0 & 0.06 & 0.33 & 0.74 \\\\\n",
      "& 0.21 & 0.01 & 0.01 & 0.2 & 0.65 & 0.27 & 0.02 & 0.0 & 0.22 & 0.66 \\\\\n",
      "& 0.09 & 0.27 & 0.0 & 0.13 & 0.71 & 0.12 & 0.18 & 0.0 & 0.24 & 0.71 \\\\\n",
      "& 0.16 & 0.06 & 0.0 & 0.27 & 0.73 & 0.18 & 0.06 & 0.0 & 0.25 & 0.72 \\\\\n",
      "& 0.31 & 0.01 & 0.01 & 0.16 & 0.68 & 0.41 & 0.02 & 0.02 & 0.13 & 0.68 \\\\\n",
      "& 0.13 & 0.0 & 0.29 & 0.04 & 0.64 & 0.17 & 0.0 & 0.26 & 0.05 & 0.66 \\\\\n",
      "& 0.31 & 0.0 & 0.13 & 0.04 & 0.7 & 0.39 & 0.0 & 0.15 & 0.03 & 0.72 \\\\\n"
     ]
    }
   ],
   "source": [
    "for setting in SETTINGS:\n",
    "    for method in ['lower', 'mfm']:\n",
    "        for measure in MEASURES:\n",
    "            print('&', round(results[method][setting][measure], 2), end=' ')\n",
    "        print('&', round(results[method][setting]['acc'], 2), end=' ')\n",
    "    print('\\\\\\\\')"
   ]
  },
  {
   "cell_type": "code",
   "execution_count": null,
   "metadata": {},
   "outputs": [],
   "source": []
  }
 ],
 "metadata": {
  "kernelspec": {
   "display_name": "multibench",
   "language": "python",
   "name": "python3"
  },
  "language_info": {
   "codemirror_mode": {
    "name": "ipython",
    "version": 3
   },
   "file_extension": ".py",
   "mimetype": "text/x-python",
   "name": "python",
   "nbconvert_exporter": "python",
   "pygments_lexer": "ipython3",
   "version": "3.9.6"
  },
  "orig_nbformat": 4,
  "vscode": {
   "interpreter": {
    "hash": "8158f520b0615a91d72976457965394544e0f25ca15232774db0f5a21042574b"
   }
  }
 },
 "nbformat": 4,
 "nbformat_minor": 2
}
