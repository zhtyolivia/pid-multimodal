{
 "cells": [
  {
   "cell_type": "code",
   "execution_count": 1,
   "metadata": {},
   "outputs": [],
   "source": [
    "import matplotlib.pyplot as plt\n",
    "import numpy as np\n",
    "import sys\n",
    "import os\n",
    "import pickle\n",
    "import torch\n",
    "sys.path.append('/usr0/home/yuncheng/MultiBench/')\n",
    "from supervised_learning import test\n",
    "from ensemble import test as test_ensemble\n",
    "from get_data import get_dataloader\n",
    "from rus import *"
   ]
  },
  {
   "cell_type": "code",
   "execution_count": 13,
   "metadata": {},
   "outputs": [],
   "source": [
    "# plot utils\n",
    "\n",
    "def plot(X, y, xlabel, ylabel, label=None, saved_path=None, fit=False, plot='scatter'):\n",
    "    fig, ax = plt.subplots(figsize=(4,4))\n",
    "    if plot == 'scatter':\n",
    "        ax.scatter(X, y)\n",
    "    elif plot == 'line':\n",
    "        plt.plot(X, y)\n",
    "    if label:\n",
    "        for x in label:\n",
    "            plt.text(x[0], x[1], x[2])\n",
    "    # else:\n",
    "    #     plt.plot(X, y)\n",
    "    # ax.set_title('{} vs {}'.format(xlabel, ylabel))\n",
    "    ax.set_xlabel(xlabel, fontsize=18)\n",
    "    ax.set_ylabel(ylabel, fontsize=18)\n",
    "    plt.xticks(fontsize=12)\n",
    "    plt.yticks(fontsize=12)\n",
    "    if fit:\n",
    "        p = np.poly1d(np.polyfit(np.array(X), np.array(y), 1))\n",
    "        fit_x = list(np.arange(100)/1000*4.5)\n",
    "        fit_y = []\n",
    "        for x in fit_x:\n",
    "            fit_y.append(p(x))\n",
    "        plt.plot(fit_x, fit_y, linestyle='dashed')\n",
    "    if saved_path:\n",
    "        fig.savefig(saved_path+'.pdf', bbox_inches='tight')\n",
    "    plt.show()"
   ]
  },
  {
   "attachments": {},
   "cell_type": "markdown",
   "metadata": {},
   "source": [
    "load postprocessed $I_{f(\\mathcal{D})}$ and $I_\\mathcal{D}$"
   ]
  },
  {
   "cell_type": "code",
   "execution_count": 2,
   "metadata": {},
   "outputs": [
    {
     "name": "stdout",
     "output_type": "stream",
     "text": [
      "dict_keys(['redundancy', 'unique1', 'unique2', 'synergy', 'acc', 'params', 'unimodal0_acc', 'unimodal1_acc'])\n",
      "dict_keys(['redundancy', 'uniqueness0', 'uniqueness1', 'synergy', 'mix1', 'mix2', 'mix3', 'mix4', 'mix5', 'mix6'])\n"
     ]
    }
   ],
   "source": [
    "with open('synthetic/experiments/results.pickle', 'rb') as f:\n",
    "    results = pickle.load(f)\n",
    "print(results['additive']['redundancy'].keys())\n",
    "with open('synthetic/experiments/datasets.pickle', 'rb') as f:\n",
    "    datasets = pickle.load(f)\n",
    "METHODS = ['additive', 'agree', 'align', 'early_fusion', 'elem', 'mfm', 'mi', 'mult', 'outer', 'lower']\n",
    "SETTINGS = ['redundancy', 'uniqueness0', 'uniqueness1', 'synergy', 'mix1', 'mix2', 'mix3', 'mix4', 'mix5', 'mix6']\n",
    "MEASURES = ['redundancy', 'unique1', 'unique2', 'synergy']\n",
    "print(datasets.keys())"
   ]
  },
  {
   "attachments": {},
   "cell_type": "markdown",
   "metadata": {},
   "source": [
    "normalize $I_\\mathcal{D}$ for each $\\mathcal{D}$ to get $\\hat{I}_\\mathcal{D}$"
   ]
  },
  {
   "cell_type": "code",
   "execution_count": 3,
   "metadata": {},
   "outputs": [],
   "source": [
    "normalized_results = dict()\n",
    "normalized_datasets = dict()\n",
    "for method in results:\n",
    "    normalized_results[method] = dict()\n",
    "    for setting in SETTINGS:\n",
    "        normalized_results[method][setting] = dict()\n",
    "        normalized_datasets[setting] = dict()\n",
    "        results_total = sum([results[method][setting][measure] for measure in ['redundancy', 'unique1', 'unique2', 'synergy']])\n",
    "        datasets_total = sum([datasets[setting][measure] for measure in ['redundancy', 'unique1', 'unique2', 'synergy']])\n",
    "        for measure in MEASURES:\n",
    "            normalized_results[method][setting][measure] = results[method][setting][measure] / results_total\n",
    "            normalized_datasets[setting][measure] = datasets[setting][measure] / datasets_total"
   ]
  },
  {
   "attachments": {},
   "cell_type": "markdown",
   "metadata": {},
   "source": [
    "Print the best-performing models $f^*$ for each $\\mathcal{D}$"
   ]
  },
  {
   "cell_type": "code",
   "execution_count": 4,
   "metadata": {},
   "outputs": [
    {
     "name": "stdout",
     "output_type": "stream",
     "text": [
      "redundancy [(0.7405555555555555, 'early_fusion'), (0.7466666666666667, 'lower'), (0.7488888888888889, 'mfm')]\n",
      "uniqueness0 [(0.7388888888888889, 'lower'), (0.7394444444444445, 'mfm'), (0.7411111111111112, 'outer')]\n",
      "uniqueness1 [(0.7238888888888889, 'lower'), (0.7261111111111112, 'outer'), (0.7277777777777777, 'mfm')]\n",
      "synergy [(0.7288888888888889, 'outer'), (0.7361111111111112, 'mfm'), (0.7372222222222222, 'lower')]\n",
      "mix1 [(0.6577777777777778, 'align'), (0.6594444444444445, 'mult'), (0.6622222222222223, 'mfm')]\n",
      "mix2 [(0.7066666666666667, 'early_fusion'), (0.7094444444444444, 'lower'), (0.7116666666666667, 'mfm')]\n",
      "mix3 [(0.7188888888888889, 'outer'), (0.7272222222222222, 'lower'), (0.7366666666666667, 'early_fusion')]\n",
      "mix4 [(0.6788888888888889, 'mfm'), (0.6805555555555556, 'outer'), (0.6833333333333333, 'lower')]\n",
      "mix5 [(0.6461111111111111, 'early_fusion'), (0.6555555555555556, 'mfm'), (0.6666666666666666, 'mult')]\n",
      "mix6 [(0.7133333333333334, 'additive'), (0.7177777777777777, 'mult'), (0.7227777777777777, 'mfm')]\n"
     ]
    }
   ],
   "source": [
    "accs = [results[method][setting]['acc'] for setting in results[method] for method in METHODS]\n",
    "for setting in SETTINGS:\n",
    "    measures = sorted([(results[method][setting]['acc'], method) for method in METHODS])\n",
    "    print(setting, measures[-3:])"
   ]
  },
  {
   "attachments": {},
   "cell_type": "markdown",
   "metadata": {},
   "source": [
    "Compute agreement $\\alpha_I(f,\\mathcal{D})$ for all $f,\\mathcal{D}$ and $I\\in\\{R,U_i,S\\}$"
   ]
  },
  {
   "cell_type": "code",
   "execution_count": 5,
   "metadata": {},
   "outputs": [],
   "source": [
    "agreement = dict()\n",
    "for method in results:\n",
    "    agreement[method] = dict()\n",
    "    for setting in SETTINGS:\n",
    "        agreement[method][setting] = dict()\n",
    "        for measure in ['redundancy', 'unique1', 'unique2', 'synergy']:\n",
    "            # agreement[method][setting][measure] = normalized_datasets[setting][measure] * (results[method][setting][measure] - datasets[setting][measure])\n",
    "            agreement[method][setting][measure] = normalized_datasets[setting][measure] * results[method][setting][measure]"
   ]
  },
  {
   "cell_type": "code",
   "execution_count": 14,
   "metadata": {},
   "outputs": [
    {
     "data": {
      "text/plain": [
       "dict_keys(['tf', 'mi', 'additive', 'agree', 'align', 'early_fusion', 'elem', 'mfm', 'mult', 'outer', 'lower', 'agree0.1', 'align0.1', 'mfm0.1', 'agree0.2', 'align0.2', 'mfm0.2', 'agree0.5', 'align0.5', 'mfm0.5'])"
      ]
     },
     "execution_count": 14,
     "metadata": {},
     "output_type": "execute_result"
    }
   ],
   "source": [
    "agreement.keys()"
   ]
  },
  {
   "attachments": {},
   "cell_type": "markdown",
   "metadata": {},
   "source": [
    "Compute performance rank for each $f$ on $\\mathcal{D}$"
   ]
  },
  {
   "cell_type": "code",
   "execution_count": 52,
   "metadata": {},
   "outputs": [],
   "source": [
    "ranks = dict()\n",
    "for setting in SETTINGS:\n",
    "    measures = sorted([(results[method][setting]['acc'], method) for method in METHODS])\n",
    "    ranks[setting] = [measure[1] for measure in measures][::-1]\n",
    "    ranks[setting] = dict([(rank, i+1) for i, rank in enumerate(ranks[setting])])\n"
   ]
  },
  {
   "attachments": {},
   "cell_type": "markdown",
   "metadata": {},
   "source": [
    "Examine correlation between $\\alpha(f,\\mathcal{D})$ and performance of $f$ on $\\mathcal{D}$\n",
    "\n",
    "Print out the top-3 best agreed models for each $\\mathcal{D}$"
   ]
  },
  {
   "cell_type": "code",
   "execution_count": 14,
   "metadata": {},
   "outputs": [
    {
     "name": "stdout",
     "output_type": "stream",
     "text": [
      "0.7530160016682431\n"
     ]
    },
    {
     "data": {
      "image/png": "[encoded data removed]",
      "text/plain": [
       "<Figure size 288x288 with 1 Axes>"
      ]
     },
     "metadata": {
      "needs_background": "light"
     },
     "output_type": "display_data"
    },
    {
     "name": "stdout",
     "output_type": "stream",
     "text": [
      "0.807244886761322\n"
     ]
    },
    {
     "data": {
      "image/png": "[encoded data removed]",
      "text/plain": [
       "<Figure size 288x288 with 1 Axes>"
      ]
     },
     "metadata": {
      "needs_background": "light"
     },
     "output_type": "display_data"
    },
    {
     "name": "stdout",
     "output_type": "stream",
     "text": [
      "redundancy: agree (agree 0.358585672363788, acc 0.7394444444444445)\n",
      "redundancy: lower (agree 0.3879796429071534, acc 0.7466666666666667)\n",
      "redundancy: mfm (agree 0.40834462044403613, acc 0.7488888888888889)\n",
      "uniqueness0: mfm (agree 0.3767594446533559, acc 0.7394444444444445)\n",
      "uniqueness0: outer (agree 0.423607766481253, acc 0.7411111111111112)\n",
      "uniqueness0: lower (agree 0.4272861166609816, acc 0.7388888888888889)\n",
      "uniqueness1: lower (agree 0.4121193381527135, acc 0.7238888888888889)\n",
      "uniqueness1: outer (agree 0.41416347156251343, acc 0.7261111111111112)\n",
      "uniqueness1: mfm (agree 0.4208719213169934, acc 0.7277777777777777)\n",
      "synergy: outer (agree 0.24611755385738354, acc 0.7288888888888889)\n",
      "synergy: lower (agree 0.2485755695166394, acc 0.7372222222222222)\n",
      "synergy: mfm (agree 0.24873119938207305, acc 0.7361111111111112)\n",
      "mix1: mult (agree 0.19885964706363377, acc 0.6594444444444445)\n",
      "mix1: align (agree 0.21728532731093383, acc 0.6577777777777778)\n",
      "mix1: mfm (agree 0.23031275202844342, acc 0.6622222222222223)\n",
      "mix2: mult (agree 0.1616225765707452, acc 0.705)\n",
      "mix2: lower (agree 0.16322449937430505, acc 0.7094444444444444)\n",
      "mix2: mfm (agree 0.18764827574988746, acc 0.7116666666666667)\n",
      "mix3: lower (agree 0.2146461651290738, acc 0.7272222222222222)\n",
      "mix3: outer (agree 0.22132535826673644, acc 0.7188888888888889)\n",
      "mix3: mult (agree 0.24028136443843923, acc 0.7188888888888889)\n",
      "mix4: additive (agree 0.23850906261984872, acc 0.6722222222222223)\n",
      "mix4: agree (agree 0.2677374481835738, acc 0.6716666666666666)\n",
      "mix4: mfm (agree 0.27231672136743196, acc 0.6788888888888889)\n",
      "mix5: additive (agree 0.14057623633203709, acc 0.6055555555555555)\n",
      "mix5: mfm (agree 0.1412390522506109, acc 0.6555555555555556)\n",
      "mix5: mult (agree 0.1622654871498316, acc 0.6666666666666666)\n",
      "mix6: lower (agree 0.21104446298104523, acc 0.7044444444444444)\n",
      "mix6: mult (agree 0.24641352220846488, acc 0.7177777777777777)\n",
      "mix6: mfm (agree 0.2593025818994279, acc 0.7227777777777777)\n"
     ]
    }
   ],
   "source": [
    "ratio = dict()\n",
    "for method in METHODS:\n",
    "    ratio[method] = dict()\n",
    "    for setting in SETTINGS:\n",
    "        tmp = 0\n",
    "        for measure in ['redundancy', 'unique1', 'unique2', 'synergy']:\n",
    "            tmp += agreement[method][setting][measure]\n",
    "        ratio[method][setting] = tmp\n",
    "measures = [ratio[method][setting] for setting in SETTINGS for method in METHODS]\n",
    "accs = [results[method][setting]['acc'] for setting in SETTINGS for method in METHODS]\n",
    "labels = [(ratio[method][setting], results[method][setting]['acc'], method) for setting in SETTINGS for method in METHODS]\n",
    "measures_tmp = []\n",
    "accs_tmp = []\n",
    "for i, acc in enumerate(accs):\n",
    "    if acc >= 0.5:\n",
    "        measures_tmp.append(measures[i])\n",
    "        accs_tmp.append(accs[i])\n",
    "print(np.corrcoef(measures, accs)[0,1])\n",
    "plot(measures, accs, r'Agreement $\\uparrow$', r'Performance $\\uparrow$', fit=True)\n",
    "print(np.corrcoef(measures_tmp, accs_tmp)[0,1])\n",
    "plot(measures_tmp, accs_tmp, r'Agreement $\\uparrow$', r'Performance $\\uparrow$', saved_path='figs/agreement_performance', fit=True)\n",
    "for setting in SETTINGS:\n",
    "    measures = sorted([(ratio[method][setting], method) for method in METHODS])\n",
    "    # print(measures[-3:])\n",
    "    for agree, method in measures[-3:]:\n",
    "        print(\"{}: {} (agree {}, acc {})\".format(setting, method, agree, results[method][setting]['acc']))"
   ]
  },
  {
   "attachments": {},
   "cell_type": "markdown",
   "metadata": {},
   "source": [
    "Examine correlation between model robustness and $U_i$"
   ]
  },
  {
   "cell_type": "code",
   "execution_count": 15,
   "metadata": {},
   "outputs": [
    {
     "name": "stdout",
     "output_type": "stream",
     "text": [
      "0.588643538946587\n",
      "S 0.2436510503352017\n",
      "R 0.421930454855303\n",
      "R+S 0.48299287510113037\n"
     ]
    },
    {
     "data": {
      "image/png": "[encoded data removed]",
      "text/plain": [
       "<Figure size 288x288 with 1 Axes>"
      ]
     },
     "metadata": {
      "needs_background": "light"
     },
     "output_type": "display_data"
    }
   ],
   "source": [
    "uniqueness = []\n",
    "unimodal_accs = []\n",
    "low_synergy = []\n",
    "low_redundancy = []\n",
    "low_accs = []\n",
    "low_synred = []\n",
    "for i in [0,1]:\n",
    "    for setting in SETTINGS: \n",
    "        for method in METHODS:\n",
    "            unimodal_accs.append(results[method][setting]['acc']-results[method][setting]['unimodal{}_acc'.format(i)])\n",
    "            uniqueness.append(results[method][setting]['unique{}'.format(2-i)])\n",
    "            if results[method][setting]['unique{}'.format(2-i)] < 0.05:\n",
    "                low_synergy.append(results[method][setting]['synergy'])\n",
    "                low_redundancy.append(results[method][setting]['redundancy'])\n",
    "                low_synred.append(results[method][setting]['synergy']+results[method][setting]['redundancy'])\n",
    "                low_accs.append(results[method][setting]['acc']-results[method][setting]['unimodal{}_acc'.format(i)])\n",
    "            # labels = [(results[method][setting]['unique{}'.format(2-i)], results[method][setting]['acc']-results[method][setting]['unimodal{}_acc'.format(i)], round(results[method][setting]['synergy'], 2)) for setting in SETTINGS for method in METHODS]\n",
    "print(np.corrcoef(uniqueness, unimodal_accs)[0,1])\n",
    "print(\"S\", np.corrcoef(low_synergy, low_accs)[0,1])\n",
    "print(\"R\", np.corrcoef(low_redundancy, low_accs)[0,1])\n",
    "print(\"R+S\", np.corrcoef(low_synred, low_accs)[0,1])\n",
    "plot(uniqueness, unimodal_accs, r'$U_i$', 'Performance drop', saved_path='figs/unimodal_robust')"
   ]
  },
  {
   "attachments": {},
   "cell_type": "markdown",
   "metadata": {},
   "source": [
    "Examine correlation between $I_\\mathcal{D}$, $I\\{R,U_i,S\\}$ and model performance on each $\\mathcal{D}$"
   ]
  },
  {
   "cell_type": "code",
   "execution_count": 25,
   "metadata": {},
   "outputs": [
    {
     "name": "stdout",
     "output_type": "stream",
     "text": [
      "redundancy\n",
      "redundancy 0.9786196449671446\n",
      "unique1 -0.16935672048228878\n",
      "unique2 0.15105705115085946\n",
      "synergy -0.47905156702160434\n",
      "\n",
      "uniqueness0\n",
      "redundancy -0.8737045775826255\n",
      "unique1 0.7769222657508575\n",
      "unique2 0.4699462364894213\n",
      "synergy -0.5674773842865749\n",
      "\n",
      "uniqueness1\n",
      "redundancy 0.17551100867595829\n",
      "unique1 0.623390522171992\n",
      "unique2 0.9665935785933983\n",
      "synergy -0.26069218377619907\n",
      "\n",
      "synergy\n",
      "redundancy 0.41134501929865386\n",
      "unique1 0.37297450768056395\n",
      "unique2 -0.6216423617299026\n",
      "synergy 0.8557181062790902\n",
      "\n",
      "mix1\n",
      "redundancy 0.8120026310072159\n",
      "unique1 0.41098066399858774\n",
      "unique2 -0.3056943189522004\n",
      "synergy 0.718100556407732\n",
      "\n",
      "mix2\n",
      "redundancy 0.6047456950535052\n",
      "unique1 0.8295422799992076\n",
      "unique2 -0.5289491505484979\n",
      "synergy 0.7139732696558198\n",
      "\n",
      "mix3\n",
      "redundancy 0.6956197927382552\n",
      "unique1 0.7937585593675184\n",
      "unique2 -0.6868907844903448\n",
      "synergy 0.7869647916190825\n",
      "\n",
      "mix4\n",
      "redundancy 0.8452579198448074\n",
      "unique1 0.3778870986367016\n",
      "unique2 -0.12217429372095687\n",
      "synergy 0.7759688376163629\n",
      "\n",
      "mix5\n",
      "redundancy 0.7802962990781014\n",
      "unique1 -0.11505858881834521\n",
      "unique2 0.86944671006123\n",
      "synergy -0.20026447662938984\n",
      "\n",
      "mix6\n",
      "redundancy 0.8953150634457455\n",
      "unique1 -0.38742725003873096\n",
      "unique2 0.7538066877485287\n",
      "synergy -0.6644547073182796\n",
      "\n"
     ]
    }
   ],
   "source": [
    "for setting in SETTINGS:\n",
    "    print(setting)\n",
    "    accs = [results[method][setting]['acc'] for method in METHODS]\n",
    "    for measure in MEASURES:\n",
    "        tmp = [agreement[method][setting][measure] for method in METHODS]\n",
    "        print(measure, np.corrcoef(tmp, accs)[0,1])\n",
    "    print()"
   ]
  },
  {
   "attachments": {},
   "cell_type": "markdown",
   "metadata": {},
   "source": [
    "Format results in $\\LaTeX$"
   ]
  },
  {
   "cell_type": "code",
   "execution_count": 61,
   "metadata": {},
   "outputs": [
    {
     "name": "stdout",
     "output_type": "stream",
     "text": [
      "& 0.35 & 0.48 & 0.44 & 0.47 & 0.27 & 0.55 & 0.2 & 0.4 & 0.47 & 0.53 & 0.41$\\pm$0.11\n",
      "& 0.71 & 0.74 & 0.73 & 0.74 & 0.7 & 0.75 & 0.67 & 0.73 & 0.74 & 0.75 & 0.73\\pm0.02\n",
      "& 0.29 & 0.31 & 0.19 & 0.44 & 0.2 & 0.52 & 0.18 & 0.45 & 0.55 & 0.55 & 0.37$\\pm$0.14\n",
      "& 0.66 & 0.55 & 0.6 & 0.73 & 0.66 & 0.73 & 0.66 & 0.72 & 0.73 & 0.73 & 0.68\\pm0.06\n",
      "& 0.13 & 0.09 & 0.08 & 0.29 & 0.14 & 0.33 & 0.12 & 0.29 & 0.31 & 0.32 & 0.21$\\pm$0.1\n",
      "& 0.56 & 0.66 & 0.63 & 0.72 & 0.66 & 0.74 & 0.65 & 0.72 & 0.73 & 0.74 & 0.68\\pm0.06\n"
     ]
    }
   ],
   "source": [
    "for setting in ['redundancy', 'uniqueness', 'synergy']:\n",
    "    tmp = []\n",
    "    for method in METHODS:\n",
    "        if setting == 'uniqueness':\n",
    "            measure = (results[method][setting+'0']['unique1']+results[method][setting+'1']['unique2'])/2\n",
    "        else:\n",
    "            measure = results[method][setting][setting]\n",
    "        print('&', round(measure, 2), end=' ')\n",
    "        tmp.append(measure)\n",
    "    print('&', '{}$\\pm${}'.format(round(np.mean(tmp), 2), round(np.std(tmp), 2)))\n",
    "    tmp = []\n",
    "    for method in METHODS:\n",
    "        if setting == 'uniqueness':\n",
    "            acc = (results[method][setting+'0']['acc']+results[method][setting+'1']['acc'])/2\n",
    "        else:\n",
    "            acc = results[method][setting]['acc']\n",
    "        print('&', round(acc, 2), end=' ')\n",
    "        tmp.append(acc)\n",
    "    print('&', '{}\\pm{}'.format(round(np.mean(tmp), 2), round(np.std(tmp), 2)))\n"
   ]
  },
  {
   "cell_type": "code",
   "execution_count": 15,
   "metadata": {},
   "outputs": [
    {
     "name": "stdout",
     "output_type": "stream",
     "text": [
      "& 0.53 & 0.0 & 0.01 & 0.03 & 0.75 & 0.55 & 0.01 & 0.01 & 0.03 & 0.75 \\\\\n",
      "& 0.0 & 0.56 & 0.0 & 0.02 & 0.74 & 0.01 & 0.49 & 0.0 & 0.02 & 0.74 \\\\\n",
      "& 0.01 & 0.0 & 0.54 & 0.02 & 0.72 & 0.01 & 0.0 & 0.55 & 0.03 & 0.73 \\\\\n",
      "& 0.15 & 0.03 & 0.0 & 0.32 & 0.74 & 0.14 & 0.0 & 0.06 & 0.33 & 0.74 \\\\\n",
      "& 0.21 & 0.01 & 0.01 & 0.2 & 0.65 & 0.27 & 0.02 & 0.0 & 0.22 & 0.66 \\\\\n",
      "& 0.09 & 0.27 & 0.0 & 0.13 & 0.71 & 0.12 & 0.18 & 0.0 & 0.24 & 0.71 \\\\\n",
      "& 0.16 & 0.06 & 0.0 & 0.27 & 0.73 & 0.18 & 0.06 & 0.0 & 0.25 & 0.72 \\\\\n",
      "& 0.31 & 0.01 & 0.01 & 0.16 & 0.68 & 0.41 & 0.02 & 0.02 & 0.13 & 0.68 \\\\\n",
      "& 0.13 & 0.0 & 0.29 & 0.04 & 0.64 & 0.17 & 0.0 & 0.26 & 0.05 & 0.66 \\\\\n",
      "& 0.31 & 0.0 & 0.13 & 0.04 & 0.7 & 0.39 & 0.0 & 0.15 & 0.03 & 0.72 \\\\\n"
     ]
    }
   ],
   "source": [
    "for setting in SETTINGS:\n",
    "    for method in ['lower', 'mfm']:\n",
    "        for measure in MEASURES:\n",
    "            print('&', round(results[method][setting][measure], 2), end=' ')\n",
    "        print('&', round(results[method][setting]['acc'], 2), end=' ')\n",
    "    print('\\\\\\\\')"
   ]
  },
  {
   "cell_type": "code",
   "execution_count": null,
   "metadata": {},
   "outputs": [],
   "source": []
  }
 ],
 "metadata": {
  "kernelspec": {
   "display_name": "multibench",
   "language": "python",
   "name": "python3"
  },
  "language_info": {
   "codemirror_mode": {
    "name": "ipython",
    "version": 3
   },
   "file_extension": ".py",
   "mimetype": "text/x-python",
   "name": "python",
   "nbconvert_exporter": "python",
   "pygments_lexer": "ipython3",
   "version": "3.9.6"
  },
  "orig_nbformat": 4,
  "vscode": {
   "interpreter": {
    "hash": "8158f520b0615a91d72976457965394544e0f25ca15232774db0f5a21042574b"
   }
  }
 },
 "nbformat": 4,
 "nbformat_minor": 2
}
