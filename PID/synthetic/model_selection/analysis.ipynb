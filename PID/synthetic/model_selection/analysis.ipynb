{
 "cells": [
  {
   "cell_type": "code",
   "execution_count": 1,
   "metadata": {},
   "outputs": [],
   "source": [
    "import numpy as np\n",
    "import sys\n",
    "import os\n",
    "import pickle\n",
    "import torch\n",
    "sys.path.append(os.getcwd())\n",
    "sys.path.append(os.path.dirname(os.path.dirname(os.getcwd())))\n",
    "from supervised_learning import test\n",
    "from ensemble import test as test_ensemble\n",
    "from get_data import get_dataloader\n",
    "from rus import *\n",
    "import pandas as pd\n",
    "from sklearn.manifold import TSNE\n",
    "from sklearn.decomposition import PCA\n",
    "from sklearn.preprocessing import normalize\n",
    "from sklearn.cluster import KMeans"
   ]
  },
  {
   "attachments": {},
   "cell_type": "markdown",
   "metadata": {},
   "source": [
    "#### dataset clustering"
   ]
  },
  {
   "cell_type": "code",
   "execution_count": 3,
   "metadata": {},
   "outputs": [],
   "source": [
    "def clustering(X, pca=False, n_clusters=20, n_components=5):\n",
    "  X = np.nan_to_num(X)\n",
    "  if len(X.shape) > 2:\n",
    "    X = X.reshape(X.shape[0],-1)\n",
    "  if pca:\n",
    "    # print(np.any(np.isnan(X)), np.all(np.isfinite(X)))\n",
    "    X = normalize(X)\n",
    "    X = PCA(n_components=n_components).fit_transform(X)\n",
    "  kmeans = KMeans(n_clusters=n_clusters).fit(X)\n",
    "  return kmeans.labels_, X"
   ]
  },
  {
   "cell_type": "code",
   "execution_count": 3,
   "metadata": {},
   "outputs": [],
   "source": [
    "for i in range(1, 6):\n",
    "    data_dir = 'synthetic/model_selection/DATA_synthetic{}.pickle'.format(i)\n",
    "    dataset = pd.read_pickle(data_dir)\n",
    "    n_components = 2\n",
    "    data_cluster = dict()\n",
    "    for split in ['valid2', 'test']:\n",
    "        data_cluster[split] = dict()\n",
    "        data = dataset[split]\n",
    "        kmeans_0, data_0 = clustering(data['0'], pca=True, n_components=n_components, n_clusters=20)\n",
    "        data_cluster[split]['0'] = kmeans_0.reshape(-1,1)\n",
    "        kmeans_1, data_1 = clustering(data['1'], pca=True, n_components=n_components, n_clusters=20)\n",
    "        data_cluster[split]['1'] = kmeans_1.reshape(-1,1)\n",
    "        data_cluster[split]['label'] = data['label']\n",
    "    with open('synthetic/model_selection/DATA_synthetic{}_cluster.pickle'.format(i), 'wb') as f:\n",
    "        pickle.dump(data_cluster, f)"
   ]
  },
  {
   "attachments": {},
   "cell_type": "markdown",
   "metadata": {},
   "source": [
    "#### get dataset measures"
   ]
  },
  {
   "cell_type": "code",
   "execution_count": 4,
   "metadata": {},
   "outputs": [
    {
     "name": "stdout",
     "output_type": "stream",
     "text": [
      "synthetic 1\n",
      "Redundancy 0.042766259538634416\n",
      "Unique 0.02596364321132929\n",
      "Unique 2.17157384344753e-15\n",
      "Synergy 0.10614122901494483\n",
      "\n",
      "synthetic 2\n",
      "Redundancy 0.012672691701037832\n",
      "Unique 2.8259215299914983e-05\n",
      "Unique 0.0061237290331549\n",
      "Synergy 0.05926624624675512\n",
      "\n",
      "synthetic 3\n",
      "Redundancy 0.027742116209452286\n",
      "Unique 0.025980735076023997\n",
      "Unique 1.4684105273299479e-15\n",
      "Synergy 0.06713126114497113\n",
      "\n",
      "synthetic 4\n",
      "Redundancy 0.06557045989622268\n",
      "Unique 2.1518739480906317e-15\n",
      "Unique 0.056037809617245915\n",
      "Synergy 0.053704370671353585\n",
      "\n",
      "synthetic 5\n",
      "Redundancy 0.03943597142606828\n",
      "Unique 0.043663108779810396\n",
      "Unique 4.6119695336763056e-15\n",
      "Synergy 0.06589532206160133\n",
      "\n"
     ]
    }
   ],
   "source": [
    "results = dict()\n",
    "for i in range(1,6):\n",
    "    with open('synthetic/model_selection/DATA_synthetic{}_cluster.pickle'.format(i), 'rb') as f:\n",
    "        dataset = pickle.load(f)\n",
    "    print('synthetic', i)\n",
    "    data = (dataset['test']['0'], dataset['test']['1'], dataset['test']['label'])\n",
    "    P, maps = convert_data_to_distribution(*data)\n",
    "    result = get_measure(P)\n",
    "    results['synthetic{}'.format(i)] = result\n",
    "    print()\n",
    "\n",
    "with open('synthetic/model_selection/datasets.pickle', 'wb') as f:\n",
    "    pickle.dump(results, f)"
   ]
  },
  {
   "attachments": {},
   "cell_type": "markdown",
   "metadata": {},
   "source": [
    "#### post-process model predictions"
   ]
  },
  {
   "cell_type": "code",
   "execution_count": 8,
   "metadata": {},
   "outputs": [],
   "source": [
    "METHODS = ['additive', 'agree', 'align', 'early_fusion', 'elem', 'mfm', 'mi', 'mult', 'outer', 'lower']\n",
    "MEASURES = ['redundancy', 'unique1', 'unique2', 'synergy']\n",
    "SETTINGS = ['synthetic{}'.format(i) for i in range(1,6)] + ['maps', 'maps2']"
   ]
  },
  {
   "cell_type": "code",
   "execution_count": 6,
   "metadata": {},
   "outputs": [
    {
     "name": "stdout",
     "output_type": "stream",
     "text": [
      "synthetic1\n",
      "Train data: 14000\n",
      "Valid data 1: 2100\n",
      "Valid data 2: 2100\n",
      "Test data: 1800\n",
      "loss: tensor(0.8502, device='cuda:0')\n",
      "acc: 0.6283333333333333\n",
      "Redundancy 0.2707825379424073\n",
      "Unique 0.16334202068341028\n",
      "Unique 3.266602334664933e-07\n",
      "Synergy 0.09782503764897238\n",
      "\n",
      "synthetic2\n",
      "Train data: 14000\n",
      "Valid data 1: 2100\n",
      "Valid data 2: 2100\n",
      "Test data: 1800\n"
     ]
    },
    {
     "name": "stderr",
     "output_type": "stream",
     "text": [
      "/usr0/home/yuncheng/miniconda3/envs/multibench/lib/python3.9/site-packages/cvxpy/problems/problem.py:1337: UserWarning: Solution may be inaccurate. Try another solver, adjusting the solver settings, or solve with verbose=True for more information.\n",
      "  warnings.warn(\n"
     ]
    },
    {
     "name": "stdout",
     "output_type": "stream",
     "text": [
      "loss: tensor(0.8568, device='cuda:0')\n",
      "acc: 0.5616666666666666\n",
      "Redundancy 0.2539995938687824\n",
      "Unique 0.23269513344692727\n",
      "Unique 2.354576132383619e-07\n",
      "Synergy 0.05884751091946233\n",
      "\n",
      "synthetic3\n",
      "Train data: 14000\n",
      "Valid data 1: 2100\n",
      "Valid data 2: 2100\n",
      "Test data: 1800\n"
     ]
    },
    {
     "name": "stderr",
     "output_type": "stream",
     "text": [
      "/usr0/home/yuncheng/miniconda3/envs/multibench/lib/python3.9/site-packages/cvxpy/problems/problem.py:1337: UserWarning: Solution may be inaccurate. Try another solver, adjusting the solver settings, or solve with verbose=True for more information.\n",
      "  warnings.warn(\n"
     ]
    },
    {
     "name": "stdout",
     "output_type": "stream",
     "text": [
      "loss: tensor(1.0994, device='cuda:0')\n",
      "acc: 0.4261111111111111\n",
      "Redundancy 0.06405922085532612\n",
      "Unique 0.23564387158508435\n",
      "Unique 1.0616968579028281e-08\n",
      "Synergy 0.14250508125130634\n",
      "\n",
      "synthetic4\n",
      "Train data: 14000\n",
      "Valid data 1: 2100\n",
      "Valid data 2: 2100\n",
      "Test data: 1800\n"
     ]
    },
    {
     "name": "stderr",
     "output_type": "stream",
     "text": [
      "/usr0/home/yuncheng/miniconda3/envs/multibench/lib/python3.9/site-packages/cvxpy/problems/problem.py:1337: UserWarning: Solution may be inaccurate. Try another solver, adjusting the solver settings, or solve with verbose=True for more information.\n",
      "  warnings.warn(\n"
     ]
    },
    {
     "name": "stdout",
     "output_type": "stream",
     "text": [
      "loss: tensor(0.7412, device='cuda:0')\n",
      "acc: 0.6127777777777778\n",
      "Redundancy 0.1908922899482186\n",
      "Unique 0.01327551736675702\n",
      "Unique 0.02295801843955826\n",
      "Synergy 0.23860715986087638\n",
      "\n",
      "synthetic5\n",
      "Train data: 14000\n",
      "Valid data 1: 2100\n",
      "Valid data 2: 2100\n",
      "Test data: 1800\n"
     ]
    },
    {
     "name": "stderr",
     "output_type": "stream",
     "text": [
      "/usr0/home/yuncheng/miniconda3/envs/multibench/lib/python3.9/site-packages/cvxpy/problems/problem.py:1337: UserWarning: Solution may be inaccurate. Try another solver, adjusting the solver settings, or solve with verbose=True for more information.\n",
      "  warnings.warn(\n"
     ]
    },
    {
     "name": "stdout",
     "output_type": "stream",
     "text": [
      "loss: tensor(0.7490, device='cuda:0')\n",
      "acc: 0.6061111111111112\n",
      "Redundancy 0.2944541194736107\n",
      "Unique 3.002523193074523e-07\n",
      "Unique 0.06322643586213239\n",
      "Synergy 0.04327024215039316\n",
      "\n",
      "maps\n",
      "Train data: 672\n",
      "Valid data: 84\n",
      "Test data: 88\n"
     ]
    },
    {
     "name": "stderr",
     "output_type": "stream",
     "text": [
      "/usr0/home/yuncheng/miniconda3/envs/multibench/lib/python3.9/site-packages/cvxpy/problems/problem.py:1337: UserWarning: Solution may be inaccurate. Try another solver, adjusting the solver settings, or solve with verbose=True for more information.\n",
      "  warnings.warn(\n"
     ]
    },
    {
     "name": "stdout",
     "output_type": "stream",
     "text": [
      "loss: tensor(32.1191, device='cuda:0')\n",
      "acc: 0.38636363636363635\n",
      "Redundancy 0.1404448135200927\n",
      "Unique 0.3070674037705854\n",
      "Unique 6.514528330414106e-08\n",
      "Synergy 0.22755536867441323\n",
      "\n",
      "synthetic1\n",
      "Train data: 14000\n",
      "Valid data 1: 2100\n",
      "Valid data 2: 2100\n",
      "Test data: 1800\n"
     ]
    },
    {
     "name": "stderr",
     "output_type": "stream",
     "text": [
      "/usr0/home/yuncheng/miniconda3/envs/multibench/lib/python3.9/site-packages/cvxpy/problems/problem.py:1337: UserWarning: Solution may be inaccurate. Try another solver, adjusting the solver settings, or solve with verbose=True for more information.\n",
      "  warnings.warn(\n"
     ]
    },
    {
     "name": "stdout",
     "output_type": "stream",
     "text": [
      "loss: tensor(0.6294, device='cuda:0')\n",
      "acc: 0.6566666666666666\n",
      "Redundancy 0.15878912442105286\n",
      "Unique 2.3108788509712802e-14\n",
      "Unique 0.06375439449212335\n",
      "Synergy 0.18670017342710815\n",
      "\n",
      "synthetic2\n",
      "Train data: 14000\n",
      "Valid data 1: 2100\n",
      "Valid data 2: 2100\n",
      "Test data: 1800\n",
      "loss: tensor(0.8391, device='cuda:0')\n",
      "acc: 0.5611111111111111\n",
      "Redundancy 0.3284486986573478\n",
      "Unique 0.0965686571055237\n",
      "Unique 0.0002948888114399769\n",
      "Synergy 0.09728481616062967\n",
      "\n",
      "synthetic3\n",
      "Train data: 14000\n",
      "Valid data 1: 2100\n",
      "Valid data 2: 2100\n",
      "Test data: 1800\n"
     ]
    },
    {
     "name": "stderr",
     "output_type": "stream",
     "text": [
      "/usr0/home/yuncheng/miniconda3/envs/multibench/lib/python3.9/site-packages/cvxpy/problems/problem.py:1337: UserWarning: Solution may be inaccurate. Try another solver, adjusting the solver settings, or solve with verbose=True for more information.\n",
      "  warnings.warn(\n"
     ]
    },
    {
     "name": "stdout",
     "output_type": "stream",
     "text": [
      "loss: tensor(0.7082, device='cuda:0')\n",
      "acc: 0.6061111111111112\n",
      "Redundancy 0.29935997960161165\n",
      "Unique 0.021428142617372022\n",
      "Unique 0.0013107095331416508\n",
      "Synergy 0.15683897633730787\n",
      "\n",
      "synthetic4\n",
      "Train data: 14000\n",
      "Valid data 1: 2100\n",
      "Valid data 2: 2100\n",
      "Test data: 1800\n"
     ]
    },
    {
     "name": "stderr",
     "output_type": "stream",
     "text": [
      "/usr0/home/yuncheng/miniconda3/envs/multibench/lib/python3.9/site-packages/cvxpy/problems/problem.py:1337: UserWarning: Solution may be inaccurate. Try another solver, adjusting the solver settings, or solve with verbose=True for more information.\n",
      "  warnings.warn(\n"
     ]
    },
    {
     "name": "stdout",
     "output_type": "stream",
     "text": [
      "loss: tensor(0.5708, device='cuda:0')\n",
      "acc: 0.7066666666666667\n",
      "Redundancy 0.16042916833048892\n",
      "Unique 1.9288911172398268e-07\n",
      "Unique 0.30688436833173954\n",
      "Synergy 0.029394559648220353\n",
      "\n",
      "synthetic5\n",
      "Train data: 14000\n",
      "Valid data 1: 2100\n",
      "Valid data 2: 2100\n",
      "Test data: 1800\n"
     ]
    },
    {
     "name": "stderr",
     "output_type": "stream",
     "text": [
      "/usr0/home/yuncheng/miniconda3/envs/multibench/lib/python3.9/site-packages/cvxpy/problems/problem.py:1337: UserWarning: Solution may be inaccurate. Try another solver, adjusting the solver settings, or solve with verbose=True for more information.\n",
      "  warnings.warn(\n"
     ]
    },
    {
     "name": "stdout",
     "output_type": "stream",
     "text": [
      "loss: tensor(0.9230, device='cuda:0')\n",
      "acc: 0.4988888888888889\n",
      "Redundancy 0.17356000715369602\n",
      "Unique 0.16934852359610825\n",
      "Unique 1.7879144494800756e-07\n",
      "Synergy 0.10330239420087672\n",
      "\n",
      "maps\n",
      "Train data: 672\n",
      "Valid data: 84\n",
      "Test data: 88\n"
     ]
    },
    {
     "name": "stderr",
     "output_type": "stream",
     "text": [
      "/usr0/home/yuncheng/miniconda3/envs/multibench/lib/python3.9/site-packages/cvxpy/problems/problem.py:1337: UserWarning: Solution may be inaccurate. Try another solver, adjusting the solver settings, or solve with verbose=True for more information.\n",
      "  warnings.warn(\n"
     ]
    },
    {
     "name": "stdout",
     "output_type": "stream",
     "text": [
      "loss: tensor(21.7319, device='cuda:0')\n",
      "acc: 0.3977272727272727\n",
      "Redundancy 0.12287974707883487\n",
      "Unique 0.3385740612013276\n",
      "Unique 6.566806033304332e-08\n",
      "Synergy 0.21180201951570998\n",
      "\n",
      "synthetic1\n",
      "Train data: 14000\n",
      "Valid data 1: 2100\n",
      "Valid data 2: 2100\n",
      "Test data: 1800\n"
     ]
    },
    {
     "name": "stderr",
     "output_type": "stream",
     "text": [
      "/usr0/home/yuncheng/miniconda3/envs/multibench/lib/python3.9/site-packages/cvxpy/problems/problem.py:1337: UserWarning: Solution may be inaccurate. Try another solver, adjusting the solver settings, or solve with verbose=True for more information.\n",
      "  warnings.warn(\n"
     ]
    },
    {
     "name": "stdout",
     "output_type": "stream",
     "text": [
      "loss: tensor(0.7756, device='cuda:0')\n",
      "acc: 0.5238888888888888\n",
      "Redundancy 0.15532672973063116\n",
      "Unique 1.8309746972723633e-14\n",
      "Unique 0.0481686017490063\n",
      "Synergy 0.2054566824898213\n",
      "\n",
      "synthetic2\n",
      "Train data: 14000\n",
      "Valid data 1: 2100\n",
      "Valid data 2: 2100\n",
      "Test data: 1800\n",
      "loss: tensor(0.7483, device='cuda:0')\n",
      "acc: 0.5611111111111111\n",
      "Redundancy 0.12777011667835125\n",
      "Unique 0.2755450275779032\n",
      "Unique 3.230175750635837e-09\n",
      "Synergy 0.06437572626653204\n",
      "\n",
      "synthetic3\n",
      "Train data: 14000\n",
      "Valid data 1: 2100\n",
      "Valid data 2: 2100\n",
      "Test data: 1800\n"
     ]
    },
    {
     "name": "stderr",
     "output_type": "stream",
     "text": [
      "/usr0/home/yuncheng/miniconda3/envs/multibench/lib/python3.9/site-packages/cvxpy/problems/problem.py:1337: UserWarning: Solution may be inaccurate. Try another solver, adjusting the solver settings, or solve with verbose=True for more information.\n",
      "  warnings.warn(\n"
     ]
    },
    {
     "name": "stdout",
     "output_type": "stream",
     "text": [
      "loss: tensor(0.9251, device='cuda:0')\n",
      "acc: 0.4861111111111111\n",
      "Redundancy 0.14201343884174356\n",
      "Unique 0.08356761172566413\n",
      "Unique 1.1855105881503844e-14\n",
      "Synergy 0.20429857388128242\n",
      "\n",
      "synthetic4\n",
      "Train data: 14000\n",
      "Valid data 1: 2100\n",
      "Valid data 2: 2100\n",
      "Test data: 1800\n",
      "loss: tensor(0.6789, device='cuda:0')\n",
      "acc: 0.6216666666666667\n",
      "Redundancy 0.08751141689661879\n",
      "Unique 7.025224792140894e-16\n",
      "Unique 0.1819599013173871\n",
      "Synergy 0.1928610622007646\n",
      "\n",
      "synthetic5\n",
      "Train data: 14000\n",
      "Valid data 1: 2100\n",
      "Valid data 2: 2100\n",
      "Test data: 1800\n",
      "loss: tensor(0.8072, device='cuda:0')\n",
      "acc: 0.5166666666666667\n",
      "Redundancy 0.1859622933397237\n",
      "Unique 0.08313296371646638\n",
      "Unique 1.2541910737501424e-11\n",
      "Synergy 0.07519010064887716\n",
      "\n",
      "maps\n",
      "Train data: 672\n",
      "Valid data: 84\n",
      "Test data: 88\n",
      "loss: tensor(11.9608, device='cuda:0')\n",
      "acc: 0.38636363636363635\n"
     ]
    },
    {
     "name": "stderr",
     "output_type": "stream",
     "text": [
      "/usr0/home/yuncheng/miniconda3/envs/multibench/lib/python3.9/site-packages/cvxpy/problems/problem.py:1337: UserWarning: Solution may be inaccurate. Try another solver, adjusting the solver settings, or solve with verbose=True for more information.\n",
      "  warnings.warn(\n"
     ]
    },
    {
     "name": "stdout",
     "output_type": "stream",
     "text": [
      "Redundancy 0.20905235753934148\n",
      "Unique 0.46367149857812057\n",
      "Unique 0.005455627361284126\n",
      "Synergy 0.14743277840214086\n",
      "\n",
      "synthetic1\n",
      "Train data: 14000\n",
      "Valid data 1: 2100\n",
      "Valid data 2: 2100\n",
      "Test data: 1800\n",
      "acc: 0.6777777777777778\n",
      "Redundancy 0.08618767009564049\n",
      "Unique 0.1478020164222811\n",
      "Unique 9.566669550286212e-17\n",
      "Synergy 0.19242797099226355\n",
      "\n",
      "synthetic2\n",
      "Train data: 14000\n",
      "Valid data 1: 2100\n",
      "Valid data 2: 2100\n",
      "Test data: 1800\n",
      "acc: 0.5694444444444444\n",
      "Redundancy 0.06787806065761096\n",
      "Unique 4.235057627976897e-17\n",
      "Unique 0.16098405633895307\n",
      "Synergy 0.09259909848076212\n",
      "\n",
      "synthetic3\n",
      "Train data: 14000\n",
      "Valid data 1: 2100\n",
      "Valid data 2: 2100\n",
      "Test data: 1800\n",
      "acc: 0.6366666666666667\n",
      "Redundancy 0.11609462584523028\n",
      "Unique 0.05341603242862995\n",
      "Unique 9.890010965064085e-16\n",
      "Synergy 0.17822541538307207\n",
      "\n",
      "synthetic4\n",
      "Train data: 14000\n",
      "Valid data 1: 2100\n",
      "Valid data 2: 2100\n",
      "Test data: 1800\n",
      "acc: 0.7038888888888889\n",
      "Redundancy 0.16942094857145884\n",
      "Unique 6.149740506924903e-09\n",
      "Unique 0.19325739854783458\n",
      "Synergy 0.09521592366672404\n",
      "\n",
      "synthetic5\n",
      "Train data: 14000\n",
      "Valid data 1: 2100\n",
      "Valid data 2: 2100\n",
      "Test data: 1800\n"
     ]
    },
    {
     "name": "stderr",
     "output_type": "stream",
     "text": [
      "/usr0/home/yuncheng/miniconda3/envs/multibench/lib/python3.9/site-packages/cvxpy/problems/problem.py:1337: UserWarning: Solution may be inaccurate. Try another solver, adjusting the solver settings, or solve with verbose=True for more information.\n",
      "  warnings.warn(\n"
     ]
    },
    {
     "name": "stdout",
     "output_type": "stream",
     "text": [
      "acc: 0.6588888888888889\n",
      "Redundancy 0.13494035317652653\n",
      "Unique 0.18570412495941221\n",
      "Unique 1.089736656045533e-15\n",
      "Synergy 0.08558406311556876\n",
      "\n",
      "maps\n",
      "Train data: 672\n",
      "Valid data: 84\n",
      "Test data: 88\n",
      "acc: 0.42045454545454547\n",
      "Redundancy 0.14994052418047799\n",
      "Unique 0.447735139462754\n",
      "Unique 0.0038598854631005037\n",
      "Synergy 0.11095042358349771\n",
      "\n",
      "synthetic1\n",
      "Train data: 14000\n",
      "Valid data 1: 2100\n",
      "Valid data 2: 2100\n",
      "Test data: 1800\n"
     ]
    },
    {
     "name": "stderr",
     "output_type": "stream",
     "text": [
      "/usr0/home/yuncheng/miniconda3/envs/multibench/lib/python3.9/site-packages/cvxpy/problems/problem.py:1337: UserWarning: Solution may be inaccurate. Try another solver, adjusting the solver settings, or solve with verbose=True for more information.\n",
      "  warnings.warn(\n"
     ]
    },
    {
     "name": "stdout",
     "output_type": "stream",
     "text": [
      "acc: 0.5966666666666667\n",
      "Redundancy 0.03337934033381815\n",
      "Unique 0.03851051769304159\n",
      "Unique 4.840201261536444e-15\n",
      "Synergy 0.07619296193485867\n",
      "\n",
      "synthetic2\n",
      "Train data: 14000\n",
      "Valid data 1: 2100\n",
      "Valid data 2: 2100\n",
      "Test data: 1800\n",
      "acc: 0.5033333333333333\n",
      "Redundancy 0.015074563180853567\n",
      "Unique 0.00012426934807638015\n",
      "Unique 0.0033122852589436177\n",
      "Synergy 0.05653113154947864\n",
      "\n",
      "synthetic3\n",
      "Train data: 14000\n",
      "Valid data 1: 2100\n",
      "Valid data 2: 2100\n",
      "Test data: 1800\n",
      "acc: 0.5622222222222222\n",
      "Redundancy 0.033328647677820615\n",
      "Unique 0.009507784955423818\n",
      "Unique 0.0007612155052617252\n",
      "Synergy 0.08083738727055859\n",
      "\n",
      "synthetic4\n",
      "Train data: 14000\n",
      "Valid data 1: 2100\n",
      "Valid data 2: 2100\n",
      "Test data: 1800\n",
      "acc: 0.6305555555555555\n",
      "Redundancy 0.06675257326672898\n",
      "Unique 6.0452735493396886e-15\n",
      "Unique 0.0441738172004701\n",
      "Synergy 0.07654911296960754\n",
      "\n",
      "synthetic5\n",
      "Train data: 14000\n",
      "Valid data 1: 2100\n",
      "Valid data 2: 2100\n",
      "Test data: 1800\n",
      "acc: 0.5766666666666667\n",
      "Redundancy 0.04723567218413219\n",
      "Unique 0.04047391226474971\n",
      "Unique 9.934672237554168e-16\n",
      "Synergy 0.05244690743869737\n",
      "\n",
      "maps\n",
      "Train data: 672\n",
      "Valid data: 84\n",
      "Test data: 88\n",
      "acc: 0.4090909090909091\n",
      "Redundancy 0.124606538043663\n",
      "Unique 0.330411044348445\n",
      "Unique 0.009806406925907793\n",
      "Synergy 0.18101310989248404\n",
      "\n",
      "synthetic1\n",
      "Train data: 14000\n",
      "Valid data 1: 2100\n",
      "Valid data 2: 2100\n",
      "Test data: 1800\n"
     ]
    },
    {
     "name": "stderr",
     "output_type": "stream",
     "text": [
      "/usr0/home/yuncheng/miniconda3/envs/multibench/lib/python3.9/site-packages/cvxpy/problems/problem.py:1337: UserWarning: Solution may be inaccurate. Try another solver, adjusting the solver settings, or solve with verbose=True for more information.\n",
      "  warnings.warn(\n"
     ]
    },
    {
     "name": "stdout",
     "output_type": "stream",
     "text": [
      "acc: 0.6938888888888889\n",
      "Redundancy 0.07280928242115736\n",
      "Unique 0.28393534561598677\n",
      "Unique 1.2020176513184946e-08\n",
      "Synergy 0.22175160776922243\n",
      "\n",
      "synthetic2\n",
      "Train data: 14000\n",
      "Valid data 1: 2100\n",
      "Valid data 2: 2100\n",
      "Test data: 1800\n"
     ]
    },
    {
     "name": "stderr",
     "output_type": "stream",
     "text": [
      "/usr0/home/yuncheng/miniconda3/envs/multibench/lib/python3.9/site-packages/cvxpy/problems/problem.py:1337: UserWarning: Solution may be inaccurate. Try another solver, adjusting the solver settings, or solve with verbose=True for more information.\n",
      "  warnings.warn(\n"
     ]
    },
    {
     "name": "stdout",
     "output_type": "stream",
     "text": [
      "acc: 0.5944444444444444\n",
      "Redundancy 0.13096347933907365\n",
      "Unique 1.2861476318174074e-15\n",
      "Unique 0.08858449315646502\n",
      "Synergy 0.2796268224545085\n",
      "\n",
      "synthetic3\n",
      "Train data: 14000\n",
      "Valid data 1: 2100\n",
      "Valid data 2: 2100\n",
      "Test data: 1800\n",
      "acc: 0.6555555555555556\n",
      "Redundancy 0.10980141315140374\n",
      "Unique 0.13220896647385083\n",
      "Unique 5.208511697530409e-16\n",
      "Synergy 0.2346480066798905\n",
      "\n",
      "synthetic4\n",
      "Train data: 14000\n",
      "Valid data 1: 2100\n",
      "Valid data 2: 2100\n",
      "Test data: 1800\n",
      "acc: 0.7083333333333334\n",
      "Redundancy 0.18375387086002104\n",
      "Unique 1.498659543573323e-07\n",
      "Unique 0.28068806373675614\n",
      "Synergy 0.1019438057732398\n",
      "\n",
      "synthetic5\n",
      "Train data: 14000\n",
      "Valid data 1: 2100\n",
      "Valid data 2: 2100\n",
      "Test data: 1800\n"
     ]
    },
    {
     "name": "stderr",
     "output_type": "stream",
     "text": [
      "/usr0/home/yuncheng/miniconda3/envs/multibench/lib/python3.9/site-packages/cvxpy/problems/problem.py:1337: UserWarning: Solution may be inaccurate. Try another solver, adjusting the solver settings, or solve with verbose=True for more information.\n",
      "  warnings.warn(\n"
     ]
    },
    {
     "name": "stdout",
     "output_type": "stream",
     "text": [
      "acc: 0.6738888888888889\n",
      "Redundancy 0.15808898729715626\n",
      "Unique 0.24215221187041677\n",
      "Unique 1.26238299687121e-07\n",
      "Synergy 0.15050771802014606\n",
      "\n",
      "maps\n",
      "Train data: 672\n",
      "Valid data: 84\n",
      "Test data: 88\n"
     ]
    },
    {
     "name": "stderr",
     "output_type": "stream",
     "text": [
      "/usr0/home/yuncheng/miniconda3/envs/multibench/lib/python3.9/site-packages/cvxpy/problems/problem.py:1337: UserWarning: Solution may be inaccurate. Try another solver, adjusting the solver settings, or solve with verbose=True for more information.\n",
      "  warnings.warn(\n"
     ]
    },
    {
     "name": "stdout",
     "output_type": "stream",
     "text": [
      "acc: 0.5568181818181818\n"
     ]
    },
    {
     "name": "stderr",
     "output_type": "stream",
     "text": [
      "/usr0/home/yuncheng/miniconda3/envs/multibench/lib/python3.9/site-packages/cvxpy/problems/problem.py:1337: UserWarning: Solution may be inaccurate. Try another solver, adjusting the solver settings, or solve with verbose=True for more information.\n",
      "  warnings.warn(\n"
     ]
    },
    {
     "name": "stdout",
     "output_type": "stream",
     "text": [
      "Redundancy 0.17289438215623415\n",
      "Unique 0.1745283161713936\n",
      "Unique 0.005945067822097273\n",
      "Synergy 0.23531432627157528\n",
      "\n",
      "synthetic1\n",
      "Train data: 14000\n",
      "Valid data 1: 2100\n",
      "Valid data 2: 2100\n",
      "Test data: 1800\n",
      "acc: 0.5733333333333334\n",
      "Redundancy 0.02538581906757799\n",
      "Unique 0.008914696139185638\n",
      "Unique 0.00047549708608233084\n",
      "Synergy 0.05475519051321456\n",
      "\n",
      "synthetic2\n",
      "Train data: 14000\n",
      "Valid data 1: 2100\n",
      "Valid data 2: 2100\n",
      "Test data: 1800\n",
      "acc: 0.5122222222222222\n",
      "Redundancy 0.01545316209259949\n",
      "Unique 0.0005461218186865164\n",
      "Unique 0.003529586588757831\n",
      "Synergy 0.0951218946633707\n",
      "\n",
      "synthetic3\n",
      "Train data: 14000\n",
      "Valid data 1: 2100\n",
      "Valid data 2: 2100\n",
      "Test data: 1800\n",
      "acc: 0.5461111111111111\n",
      "Redundancy 0.058444428849140945\n",
      "Unique 0.011360755604213782\n",
      "Unique 7.456743569475827e-06\n",
      "Synergy 0.11547567560166236\n",
      "\n",
      "synthetic4\n",
      "Train data: 14000\n",
      "Valid data 1: 2100\n",
      "Valid data 2: 2100\n",
      "Test data: 1800\n",
      "acc: 0.6105555555555555\n",
      "Redundancy 0.08989229096834728\n",
      "Unique 0.0008958762285644825\n",
      "Unique 0.011097121951945385\n",
      "Synergy 0.06725448885849616\n",
      "\n",
      "synthetic5\n",
      "Train data: 14000\n",
      "Valid data 1: 2100\n",
      "Valid data 2: 2100\n",
      "Test data: 1800\n",
      "acc: 0.5522222222222222\n",
      "Redundancy 0.03152477431285018\n",
      "Unique 0.013557383221255681\n",
      "Unique 0.0002377690526431808\n",
      "Synergy 0.05787841012822849\n",
      "\n",
      "maps\n",
      "Train data: 672\n",
      "Valid data: 84\n",
      "Test data: 88\n",
      "acc: 0.4659090909090909\n"
     ]
    },
    {
     "name": "stderr",
     "output_type": "stream",
     "text": [
      "/usr0/home/yuncheng/miniconda3/envs/multibench/lib/python3.9/site-packages/cvxpy/problems/problem.py:1337: UserWarning: Solution may be inaccurate. Try another solver, adjusting the solver settings, or solve with verbose=True for more information.\n",
      "  warnings.warn(\n"
     ]
    },
    {
     "name": "stdout",
     "output_type": "stream",
     "text": [
      "Redundancy 0.21080083811757722\n",
      "Unique 0.18530327050094345\n",
      "Unique 0.005946063298328629\n",
      "Synergy 0.37625064688600496\n",
      "\n",
      "synthetic1\n",
      "Train data: 14000\n",
      "Valid data 1: 2100\n",
      "Valid data 2: 2100\n",
      "Test data: 1800\n",
      "acc: 0.6916666666666667\n"
     ]
    },
    {
     "name": "stderr",
     "output_type": "stream",
     "text": [
      "/usr0/home/yuncheng/miniconda3/envs/multibench/lib/python3.9/site-packages/cvxpy/problems/problem.py:1337: UserWarning: Solution may be inaccurate. Try another solver, adjusting the solver settings, or solve with verbose=True for more information.\n",
      "  warnings.warn(\n"
     ]
    },
    {
     "name": "stdout",
     "output_type": "stream",
     "text": [
      "Redundancy 0.1583677418071135\n",
      "Unique 0.07435460948816144\n",
      "Unique 9.991994989891182e-08\n",
      "Synergy 0.27731614112839453\n",
      "\n",
      "synthetic2\n",
      "Train data: 14000\n",
      "Valid data 1: 2100\n",
      "Valid data 2: 2100\n",
      "Test data: 1800\n",
      "acc: 0.5527777777777778\n"
     ]
    },
    {
     "name": "stderr",
     "output_type": "stream",
     "text": [
      "/usr0/home/yuncheng/miniconda3/envs/multibench/lib/python3.9/site-packages/cvxpy/problems/problem.py:1337: UserWarning: Solution may be inaccurate. Try another solver, adjusting the solver settings, or solve with verbose=True for more information.\n",
      "  warnings.warn(\n"
     ]
    },
    {
     "name": "stdout",
     "output_type": "stream",
     "text": [
      "Redundancy 0.22963861878384084\n",
      "Unique 0.04533441477216857\n",
      "Unique 6.247972810597319e-08\n",
      "Synergy 0.12510329850294555\n",
      "\n",
      "synthetic3\n",
      "Train data: 14000\n",
      "Valid data 1: 2100\n",
      "Valid data 2: 2100\n",
      "Test data: 1800\n",
      "acc: 0.6472222222222223\n",
      "Redundancy 0.22854004588262783\n",
      "Unique 0.030753586282733315\n",
      "Unique 0.0027629118227717516\n",
      "Synergy 0.24915154203645068\n",
      "\n",
      "synthetic4\n",
      "Train data: 14000\n",
      "Valid data 1: 2100\n",
      "Valid data 2: 2100\n",
      "Test data: 1800\n",
      "acc: 0.7011111111111111\n"
     ]
    },
    {
     "name": "stderr",
     "output_type": "stream",
     "text": [
      "/usr0/home/yuncheng/miniconda3/envs/multibench/lib/python3.9/site-packages/cvxpy/problems/problem.py:1337: UserWarning: Solution may be inaccurate. Try another solver, adjusting the solver settings, or solve with verbose=True for more information.\n",
      "  warnings.warn(\n"
     ]
    },
    {
     "name": "stdout",
     "output_type": "stream",
     "text": [
      "Redundancy 0.13836555285116947\n",
      "Unique 1.0204914957962936e-07\n",
      "Unique 0.2517058240940211\n",
      "Synergy 0.07149941745430843\n",
      "\n",
      "synthetic5\n",
      "Train data: 14000\n",
      "Valid data 1: 2100\n",
      "Valid data 2: 2100\n",
      "Test data: 1800\n",
      "acc: 0.6688888888888889\n"
     ]
    },
    {
     "name": "stderr",
     "output_type": "stream",
     "text": [
      "/usr0/home/yuncheng/miniconda3/envs/multibench/lib/python3.9/site-packages/cvxpy/problems/problem.py:1337: UserWarning: Solution may be inaccurate. Try another solver, adjusting the solver settings, or solve with verbose=True for more information.\n",
      "  warnings.warn(\n"
     ]
    },
    {
     "name": "stdout",
     "output_type": "stream",
     "text": [
      "Redundancy 0.11889499605630177\n",
      "Unique 0.24892403369420704\n",
      "Unique 1.7867267075186927e-10\n",
      "Synergy 0.13199549493956658\n",
      "\n",
      "maps\n",
      "Train data: 672\n",
      "Valid data: 84\n",
      "Test data: 88\n",
      "acc: 0.4772727272727273\n",
      "Redundancy 0.12116486602944188\n",
      "Unique 0.3712700206802071\n",
      "Unique 1.949454515693101e-08\n",
      "Synergy 0.025561392210076805\n",
      "\n",
      "synthetic1\n",
      "Train data: 14000\n",
      "Valid data 1: 2100\n",
      "Valid data 2: 2100\n",
      "Test data: 1800\n"
     ]
    },
    {
     "name": "stderr",
     "output_type": "stream",
     "text": [
      "/usr0/home/yuncheng/miniconda3/envs/multibench/lib/python3.9/site-packages/cvxpy/problems/problem.py:1337: UserWarning: Solution may be inaccurate. Try another solver, adjusting the solver settings, or solve with verbose=True for more information.\n",
      "  warnings.warn(\n"
     ]
    },
    {
     "name": "stdout",
     "output_type": "stream",
     "text": [
      "acc: 0.6811111111111111\n",
      "Redundancy 0.08089932041380615\n",
      "Unique 0.16949608997378\n",
      "Unique 2.248332153660169e-16\n",
      "Synergy 0.182319213857005\n",
      "\n",
      "synthetic2\n",
      "Train data: 14000\n",
      "Valid data 1: 2100\n",
      "Valid data 2: 2100\n",
      "Test data: 1800\n",
      "acc: 0.5338888888888889\n",
      "Redundancy 0.06388768248240623\n",
      "Unique 0.018853783253713872\n",
      "Unique 2.771177848121125e-06\n",
      "Synergy 0.10365824343417751\n",
      "\n",
      "synthetic3\n",
      "Train data: 14000\n",
      "Valid data 1: 2100\n",
      "Valid data 2: 2100\n",
      "Test data: 1800\n",
      "acc: 0.625\n",
      "Redundancy 0.09414570169491798\n",
      "Unique 0.12572443045454873\n",
      "Unique 1.868797019408191e-16\n",
      "Synergy 0.15776341908835556\n",
      "\n",
      "synthetic4\n",
      "Train data: 14000\n",
      "Valid data 1: 2100\n",
      "Valid data 2: 2100\n",
      "Test data: 1800\n",
      "acc: 0.7027777777777777\n",
      "Redundancy 0.15302155312345944\n",
      "Unique 4.434213186523049e-09\n",
      "Unique 0.2334888351470007\n",
      "Synergy 0.0925846018578847\n",
      "\n",
      "synthetic5\n",
      "Train data: 14000\n",
      "Valid data 1: 2100\n",
      "Valid data 2: 2100\n",
      "Test data: 1800\n"
     ]
    },
    {
     "name": "stderr",
     "output_type": "stream",
     "text": [
      "/usr0/home/yuncheng/miniconda3/envs/multibench/lib/python3.9/site-packages/cvxpy/problems/problem.py:1337: UserWarning: Solution may be inaccurate. Try another solver, adjusting the solver settings, or solve with verbose=True for more information.\n",
      "  warnings.warn(\n"
     ]
    },
    {
     "name": "stdout",
     "output_type": "stream",
     "text": [
      "acc: 0.6583333333333333\n",
      "Redundancy 0.11106344322853678\n",
      "Unique 0.27327203159650765\n",
      "Unique 1.3586243769602145e-10\n",
      "Synergy 0.06888141696302097\n",
      "\n",
      "maps\n",
      "Train data: 672\n",
      "Valid data: 84\n",
      "Test data: 88\n"
     ]
    },
    {
     "name": "stderr",
     "output_type": "stream",
     "text": [
      "/usr0/home/yuncheng/miniconda3/envs/multibench/lib/python3.9/site-packages/cvxpy/problems/problem.py:1337: UserWarning: Solution may be inaccurate. Try another solver, adjusting the solver settings, or solve with verbose=True for more information.\n",
      "  warnings.warn(\n"
     ]
    },
    {
     "name": "stdout",
     "output_type": "stream",
     "text": [
      "acc: 0.45454545454545453\n",
      "Redundancy 0.11795716724665539\n",
      "Unique 0.38781048350030767\n",
      "Unique 0.013521096062297993\n",
      "Synergy 0.14609965099677924\n",
      "\n",
      "synthetic1\n",
      "Train data: 14000\n",
      "Valid data 1: 2100\n",
      "Valid data 2: 2100\n",
      "Test data: 1800\n"
     ]
    },
    {
     "name": "stderr",
     "output_type": "stream",
     "text": [
      "/usr0/home/yuncheng/miniconda3/envs/multibench/lib/python3.9/site-packages/cvxpy/problems/problem.py:1337: UserWarning: Solution may be inaccurate. Try another solver, adjusting the solver settings, or solve with verbose=True for more information.\n",
      "  warnings.warn(\n"
     ]
    },
    {
     "name": "stdout",
     "output_type": "stream",
     "text": [
      "acc: 0.69\n",
      "Redundancy 0.09527345016671326\n",
      "Unique 0.13641131037709606\n",
      "Unique 2.382427525680957e-16\n",
      "Synergy 0.20252465215162743\n",
      "\n",
      "synthetic2\n",
      "Train data: 14000\n",
      "Valid data 1: 2100\n",
      "Valid data 2: 2100\n",
      "Test data: 1800\n",
      "acc: 0.5477777777777778\n",
      "Redundancy 0.06847499976948997\n",
      "Unique 0.022903981744335285\n",
      "Unique 0.007418392437419652\n",
      "Synergy 0.12175143886396504\n",
      "\n",
      "synthetic3\n",
      "Train data: 14000\n",
      "Valid data 1: 2100\n",
      "Valid data 2: 2100\n",
      "Test data: 1800\n",
      "acc: 0.6366666666666667\n",
      "Redundancy 0.10357419518084665\n",
      "Unique 0.12297961562256464\n",
      "Unique 1.1925369030011689e-15\n",
      "Synergy 0.18935551235983905\n",
      "\n",
      "synthetic4\n",
      "Train data: 14000\n",
      "Valid data 1: 2100\n",
      "Valid data 2: 2100\n",
      "Test data: 1800\n",
      "acc: 0.71\n",
      "Redundancy 0.17547741485622148\n",
      "Unique 5.611408306976975e-08\n",
      "Unique 0.227133185554622\n",
      "Synergy 0.08744457427872937\n",
      "\n",
      "synthetic5\n",
      "Train data: 14000\n",
      "Valid data 1: 2100\n",
      "Valid data 2: 2100\n",
      "Test data: 1800\n"
     ]
    },
    {
     "name": "stderr",
     "output_type": "stream",
     "text": [
      "/usr0/home/yuncheng/miniconda3/envs/multibench/lib/python3.9/site-packages/cvxpy/problems/problem.py:1337: UserWarning: Solution may be inaccurate. Try another solver, adjusting the solver settings, or solve with verbose=True for more information.\n",
      "  warnings.warn(\n"
     ]
    },
    {
     "name": "stdout",
     "output_type": "stream",
     "text": [
      "acc: 0.6611111111111111\n",
      "Redundancy 0.11364093525405028\n",
      "Unique 0.2545367324290119\n",
      "Unique 1.0846433085366024e-10\n",
      "Synergy 0.07272122364189781\n",
      "\n",
      "maps\n",
      "Train data: 672\n",
      "Valid data: 84\n",
      "Test data: 88\n"
     ]
    },
    {
     "name": "stderr",
     "output_type": "stream",
     "text": [
      "/usr0/home/yuncheng/miniconda3/envs/multibench/lib/python3.9/site-packages/cvxpy/problems/problem.py:1337: UserWarning: Solution may be inaccurate. Try another solver, adjusting the solver settings, or solve with verbose=True for more information.\n",
      "  warnings.warn(\n"
     ]
    },
    {
     "name": "stdout",
     "output_type": "stream",
     "text": [
      "acc: 0.4090909090909091\n",
      "Redundancy 0.1590486890256423\n",
      "Unique 0.38409604269174047\n",
      "Unique 2.344669587668299e-07\n",
      "Synergy 0.20995459666534433\n",
      "\n"
     ]
    },
    {
     "name": "stderr",
     "output_type": "stream",
     "text": [
      "/usr0/home/yuncheng/miniconda3/envs/multibench/lib/python3.9/site-packages/cvxpy/problems/problem.py:1337: UserWarning: Solution may be inaccurate. Try another solver, adjusting the solver settings, or solve with verbose=True for more information.\n",
      "  warnings.warn(\n"
     ]
    }
   ],
   "source": [
    "if os.path.isfile('synthetic/model_selection/results.pickle'):\n",
    "    with open('synthetic/model_selection/results.pickle', 'rb') as f:\n",
    "        results = pickle.load(f)\n",
    "else:\n",
    "    results = dict()\n",
    "for method in METHODS:\n",
    "    results[method] = dict()\n",
    "    for SETTING in SETTINGS:\n",
    "        print(SETTING)\n",
    "        data_path = 'synthetic/model_selection/DATA_{}.pickle'.format(SETTING)\n",
    "        saved_model = 'synthetic/model_selection/{}/{}_{}_best.pt'.format(SETTING, SETTING, method)\n",
    "        saved_cluster = 'synthetic/model_selection/{}/{}_{}_cluster.pickle'.format(SETTING, SETTING, method)\n",
    "        _, _, _, testdata = get_dataloader(path=data_path, keys=['0','1','label'], modalities=[1,1], batch_size=128, num_workers=4)\n",
    "        model = torch.load(saved_model).cuda()\n",
    "        num_params = sum([p.numel() for p in model.parameters()])\n",
    "        if method in ['additive', 'agree', 'align']:\n",
    "            acc = test_ensemble(model, testdata, no_robust=True, criterion=torch.nn.CrossEntropyLoss(), save_preds=saved_cluster)\n",
    "        else:\n",
    "            acc = test(model, testdata, no_robust=True, criterion=torch.nn.CrossEntropyLoss(), save_preds=saved_cluster)\n",
    "        with open(saved_cluster, 'rb') as f:\n",
    "            preds = pickle.load(f)\n",
    "        with open('synthetic/model_selection/DATA_{}_cluster.pickle'.format(SETTING), 'rb') as f:\n",
    "            cluster = pickle.load(f)\n",
    "        pred_results = (cluster['test']['0'], cluster['test']['1'], preds.reshape(-1,1))\n",
    "        P, maps = convert_data_to_distribution(*pred_results)\n",
    "        results[method][SETTING] = get_measure(P)\n",
    "        results[method][SETTING]['acc'] = acc\n",
    "        results[method][SETTING]['params'] = num_params\n",
    "        print()\n",
    "\n",
    "with open('synthetic/model_selection/results.pickle', 'wb') as f:\n",
    "    pickle.dump(results, f)"
   ]
  },
  {
   "attachments": {},
   "cell_type": "markdown",
   "metadata": {},
   "source": [
    "#### maps"
   ]
  },
  {
   "cell_type": "code",
   "execution_count": 5,
   "metadata": {},
   "outputs": [
    {
     "name": "stdout",
     "output_type": "stream",
     "text": [
      "844 dict_keys(['bow', 'apps', 'typing', 'text_char', 'epoch_diff', 'word_epoch_diff', 'bow_onehot', 'apps_onehot', 'typing_onehot', 'label'])\n"
     ]
    }
   ],
   "source": [
    "with open ('synthetic/model_selection/maps.pkl', 'rb') as f:\n",
    "    maps = pickle.load(f)\n",
    "N = len(maps['bow'])\n",
    "print(N, maps.keys())\n",
    "data = dict()\n",
    "data['train'] = dict()\n",
    "data['valid'] = dict()\n",
    "data['test'] = dict()\n",
    "for i, f in enumerate(['bow', 'typing']):\n",
    "    data['train'][str(i)] = np.array(maps[f][:N//10*8], dtype=float)\n",
    "    data['valid'][str(i)] = np.array(maps[f][N//10*8:N//10*9], dtype=float)\n",
    "    data['test'][str(i)] = np.array(maps[f][N//10*9:], dtype=float)\n",
    "data['train']['label'] = maps['label'][:N//10*8]\n",
    "data['valid']['label'] = maps['label'][N//10*8:N//10*9]\n",
    "data['test']['label'] = maps['label'][N//10*9:]\n",
    "with open ('synthetic/model_selection/DATA_maps2.pickle', 'wb') as f:\n",
    "    pickle.dump(data, f)"
   ]
  },
  {
   "cell_type": "code",
   "execution_count": 4,
   "metadata": {},
   "outputs": [
    {
     "name": "stdout",
     "output_type": "stream",
     "text": [
      "dict_keys(['train', 'valid', 'test'])\n",
      "(672, 1000) (672, 137)\n",
      "[0 1 2]\n"
     ]
    }
   ],
   "source": [
    "with open ('synthetic/model_selection/DATA_maps.pickle', 'rb') as f:\n",
    "    dataset = pickle.load(f)\n",
    "print(dataset.keys())\n",
    "print(dataset['train']['0'].shape, dataset['train']['1'].shape)\n",
    "print(np.unique(dataset['train']['label']))"
   ]
  },
  {
   "cell_type": "code",
   "execution_count": 8,
   "metadata": {},
   "outputs": [],
   "source": [
    "n_components = 2\n",
    "data_cluster = dict()\n",
    "for split in ['test']:\n",
    "    data_cluster[split] = dict()\n",
    "    data = dataset[split]\n",
    "    kmeans_0, data_0 = clustering(data['0'], pca=True, n_components=n_components, n_clusters=20)\n",
    "    data_cluster[split]['0'] = kmeans_0.reshape(-1,1)\n",
    "    kmeans_1, data_1 = clustering(data['1'], pca=True, n_components=n_components, n_clusters=20)\n",
    "    data_cluster[split]['1'] = kmeans_1.reshape(-1,1)\n",
    "    data_cluster[split]['label'] = data['label']\n",
    "with open('synthetic/model_selection/DATA_maps2_cluster.pickle', 'wb') as f:\n",
    "    pickle.dump(data_cluster, f)\n"
   ]
  },
  {
   "cell_type": "code",
   "execution_count": 13,
   "metadata": {},
   "outputs": [
    {
     "name": "stdout",
     "output_type": "stream",
     "text": [
      "maps\n",
      "Redundancy 0.12120173624349637\n",
      "Unique 0.004155439963112993\n",
      "Unique 0.03654196259113951\n",
      "Synergy 0.40223033982849343\n"
     ]
    },
    {
     "name": "stderr",
     "output_type": "stream",
     "text": [
      "/usr0/home/yuncheng/miniconda3/envs/multibench/lib/python3.9/site-packages/cvxpy/problems/problem.py:1337: UserWarning: Solution may be inaccurate. Try another solver, adjusting the solver settings, or solve with verbose=True for more information.\n",
      "  warnings.warn(\n"
     ]
    }
   ],
   "source": [
    "if os.path.isfile('synthetic/model_selection/datasets.pickle'):\n",
    "    with open('synthetic/model_selection/datasets.pickle', 'rb') as f:\n",
    "        results = pickle.load(f)\n",
    "else:\n",
    "    results = dict()\n",
    "with open('synthetic/model_selection/DATA_maps2_cluster.pickle', 'rb') as f:\n",
    "    dataset = pickle.load(f)\n",
    "print('maps')\n",
    "data = (dataset['test']['0'], dataset['test']['1'], dataset['test']['label'])\n",
    "P, maps = convert_data_to_distribution(*data)\n",
    "result = get_measure(P)\n",
    "results['maps2'] = result     \n",
    "\n",
    "with open('synthetic/model_selection/datasets.pickle', 'wb') as f:\n",
    "    pickle.dump(results, f)"
   ]
  },
  {
   "cell_type": "code",
   "execution_count": 15,
   "metadata": {},
   "outputs": [
    {
     "name": "stdout",
     "output_type": "stream",
     "text": [
      "maps2\n",
      "Train data: 672\n",
      "Valid data: 84\n",
      "Test data: 88\n",
      "acc: 0.36363636363636365\n"
     ]
    },
    {
     "name": "stderr",
     "output_type": "stream",
     "text": [
      "/usr0/home/yuncheng/miniconda3/envs/multibench/lib/python3.9/site-packages/cvxpy/problems/problem.py:1337: UserWarning: Solution may be inaccurate. Try another solver, adjusting the solver settings, or solve with verbose=True for more information.\n",
      "  warnings.warn(\n"
     ]
    },
    {
     "name": "stdout",
     "output_type": "stream",
     "text": [
      "Redundancy 0.25493315428829044\n",
      "Unique 0.24084311647191153\n",
      "Unique 0.024454060329114166\n",
      "Synergy 0.4022239205538314\n",
      "\n",
      "maps2\n",
      "Train data: 672\n",
      "Valid data: 84\n",
      "Test data: 88\n",
      "acc: 0.5\n",
      "Redundancy 0.10450894868078536\n",
      "Unique 0.26887867229181706\n",
      "Unique 7.651484056453488e-08\n",
      "Synergy 0.18770946896049534\n",
      "\n"
     ]
    },
    {
     "name": "stderr",
     "output_type": "stream",
     "text": [
      "/usr0/home/yuncheng/miniconda3/envs/multibench/lib/python3.9/site-packages/cvxpy/problems/problem.py:1337: UserWarning: Solution may be inaccurate. Try another solver, adjusting the solver settings, or solve with verbose=True for more information.\n",
      "  warnings.warn(\n"
     ]
    }
   ],
   "source": [
    "if os.path.isfile('synthetic/model_selection/results.pickle'):\n",
    "    with open('synthetic/model_selection/results.pickle', 'rb') as f:\n",
    "        results = pickle.load(f)\n",
    "else:\n",
    "    results = dict()\n",
    "for method in ['mi', 'mult']:\n",
    "    for SETTING in ['maps2']:\n",
    "        print(SETTING)\n",
    "        data_path = 'synthetic/model_selection/DATA_{}.pickle'.format(SETTING)\n",
    "        saved_model = 'synthetic/model_selection/{}/{}_{}_best.pt'.format(SETTING, SETTING, method)\n",
    "        saved_cluster = 'synthetic/model_selection/{}/{}_{}_cluster.pickle'.format(SETTING, SETTING, method)\n",
    "        _, _, _, testdata = get_dataloader(path=data_path, keys=['0','1','label'], modalities=[1,1], batch_size=128, num_workers=4)\n",
    "        model = torch.load(saved_model).cuda()\n",
    "        num_params = sum([p.numel() for p in model.parameters()])\n",
    "        if method in ['additive', 'agree', 'align']:\n",
    "            acc = test_ensemble(model, testdata, no_robust=True, criterion=torch.nn.CrossEntropyLoss(), save_preds=saved_cluster)\n",
    "        else:\n",
    "            acc = test(model, testdata, no_robust=True, criterion=torch.nn.CrossEntropyLoss(), save_preds=saved_cluster)\n",
    "        with open(saved_cluster, 'rb') as f:\n",
    "            preds = pickle.load(f)\n",
    "        with open('synthetic/model_selection/DATA_{}_cluster.pickle'.format(SETTING), 'rb') as f:\n",
    "            cluster = pickle.load(f)\n",
    "        pred_results = (cluster['test']['0'], cluster['test']['1'], preds.reshape(-1,1))\n",
    "        P, maps = convert_data_to_distribution(*pred_results)\n",
    "        results[method][SETTING] = get_measure(P)\n",
    "        results[method][SETTING]['acc'] = acc\n",
    "        results[method][SETTING]['params'] = num_params\n",
    "        print()\n",
    "\n",
    "with open('synthetic/model_selection/results.pickle', 'wb') as f:\n",
    "    pickle.dump(results, f)"
   ]
  },
  {
   "attachments": {},
   "cell_type": "markdown",
   "metadata": {},
   "source": [
    "#### model selection"
   ]
  },
  {
   "cell_type": "code",
   "execution_count": 2,
   "metadata": {},
   "outputs": [
    {
     "name": "stdout",
     "output_type": "stream",
     "text": [
      "dict_keys(['additive', 'agree', 'align', 'early_fusion', 'elem', 'mfm', 'mi', 'mult', 'outer', 'tf', 'lower'])\n",
      "dict_keys(['synthetic1', 'synthetic2', 'synthetic3', 'synthetic4', 'synthetic5', 'maps', 'maps2'])\n"
     ]
    }
   ],
   "source": [
    "with open('synthetic/model_selection/results.pickle', 'rb') as f:\n",
    "    results = pickle.load(f)\n",
    "print(results.keys())\n",
    "with open('synthetic/model_selection/datasets.pickle', 'rb') as f:\n",
    "    datasets = pickle.load(f)\n",
    "print(datasets.keys())"
   ]
  },
  {
   "cell_type": "code",
   "execution_count": 5,
   "metadata": {},
   "outputs": [],
   "source": [
    "with open('synthetic/experiments2/datasets.pickle', 'rb') as f:\n",
    "    old_datasets = pickle.load(f)\n",
    "with open('synthetic/experiments2/results.pickle', 'rb') as f:\n",
    "    old_results = pickle.load(f)\n",
    "normalized_old_datasets = dict()\n",
    "for setting in old_datasets:\n",
    "    normalized_old_datasets[setting] = dict()\n",
    "    datasets_total = sum([old_datasets[setting][measure] for measure in MEASURES])\n",
    "    for measure in MEASURES:\n",
    "        normalized_old_datasets[setting][measure] = old_datasets[setting][measure] / datasets_total"
   ]
  },
  {
   "cell_type": "code",
   "execution_count": 9,
   "metadata": {},
   "outputs": [],
   "source": [
    "methods = ['additive', 'agree', 'align', 'early_fusion', 'elem', 'recon', 'mi', 'mult', 'outer', 'lower']\n",
    "model_selection = dict()\n",
    "for setting in old_datasets:\n",
    "    measures = sorted([(old_results[method][setting]['acc'], method) for method in methods])\n",
    "    model_selection[setting] = measures[-3:]\n",
    "# model_selection"
   ]
  },
  {
   "cell_type": "code",
   "execution_count": 11,
   "metadata": {},
   "outputs": [
    {
     "name": "stdout",
     "output_type": "stream",
     "text": [
      "synthetic1 [(0.5238888888888888, 'align'), (0.5733333333333334, 'mi'), (0.5966666666666667, 'elem'), (0.6283333333333333, 'additive'), (0.6566666666666666, 'agree'), (0.6777777777777778, 'early_fusion'), (0.6811111111111111, 'outer'), (0.69, 'lower'), (0.6916666666666667, 'mult'), (0.6938888888888889, 'mfm')]\n",
      "synthetic2 [(0.5033333333333333, 'elem'), (0.5122222222222222, 'mi'), (0.5338888888888889, 'outer'), (0.5477777777777778, 'lower'), (0.5527777777777778, 'mult'), (0.5611111111111111, 'agree'), (0.5611111111111111, 'align'), (0.5616666666666666, 'additive'), (0.5694444444444444, 'early_fusion'), (0.5944444444444444, 'mfm')]\n",
      "synthetic3 [(0.4261111111111111, 'additive'), (0.4861111111111111, 'align'), (0.5461111111111111, 'mi'), (0.5622222222222222, 'elem'), (0.6061111111111112, 'agree'), (0.625, 'outer'), (0.6366666666666667, 'early_fusion'), (0.6366666666666667, 'lower'), (0.6472222222222223, 'mult'), (0.6555555555555556, 'mfm')]\n",
      "synthetic4 [(0.6105555555555555, 'mi'), (0.6127777777777778, 'additive'), (0.6216666666666667, 'align'), (0.6305555555555555, 'elem'), (0.7011111111111111, 'mult'), (0.7027777777777777, 'outer'), (0.7038888888888889, 'early_fusion'), (0.7066666666666667, 'agree'), (0.7083333333333334, 'mfm'), (0.71, 'lower')]\n",
      "synthetic5 [(0.4988888888888889, 'agree'), (0.5166666666666667, 'align'), (0.5522222222222222, 'mi'), (0.5766666666666667, 'elem'), (0.6061111111111112, 'additive'), (0.6583333333333333, 'outer'), (0.6588888888888889, 'early_fusion'), (0.6611111111111111, 'lower'), (0.6688888888888889, 'mult'), (0.6738888888888889, 'mfm')]\n",
      "maps [(0.38636363636363635, 'additive'), (0.38636363636363635, 'align'), (0.3977272727272727, 'agree'), (0.4090909090909091, 'elem'), (0.4090909090909091, 'lower'), (0.42045454545454547, 'early_fusion'), (0.45454545454545453, 'outer'), (0.4659090909090909, 'mi'), (0.4772727272727273, 'mult'), (0.5568181818181818, 'mfm')]\n",
      "maps2 [(0.2727272727272727, 'elem'), (0.32954545454545453, 'align'), (0.36363636363636365, 'mi'), (0.42045454545454547, 'agree'), (0.4659090909090909, 'additive'), (0.5, 'mult'), (0.5113636363636364, 'early_fusion'), (0.5113636363636364, 'lower'), (0.5227272727272727, 'mfm'), (0.5681818181818182, 'outer')]\n"
     ]
    }
   ],
   "source": [
    "normalized_results = dict()\n",
    "normalized_datasets = dict()\n",
    "for method in METHODS:\n",
    "    normalized_results[method] = dict()\n",
    "    for setting in SETTINGS:\n",
    "        normalized_results[method][setting] = dict()\n",
    "        normalized_datasets[setting] = dict()\n",
    "        results_total = sum([results[method][setting][measure] for measure in MEASURES])\n",
    "        datasets_total = sum([datasets[setting][measure] for measure in MEASURES])\n",
    "        for measure in MEASURES:\n",
    "            normalized_results[method][setting][measure] = results[method][setting][measure] / results_total\n",
    "            normalized_datasets[setting][measure] = datasets[setting][measure] / datasets_total\n",
    "accs = [results[method][setting]['acc'] for setting in SETTINGS for method in METHODS]\n",
    "model_selection_best = dict()\n",
    "for setting in SETTINGS:\n",
    "    measures = sorted([(results[method][setting]['acc'], method) for method in METHODS])\n",
    "    model_selection_best[setting] = results[measures[-1][1]][setting]['acc']\n",
    "    print(setting, measures)"
   ]
  },
  {
   "cell_type": "code",
   "execution_count": 15,
   "metadata": {},
   "outputs": [
    {
     "name": "stdout",
     "output_type": "stream",
     "text": [
      "synthetic1 most similar dataset: (0.14633150964283043, 'synthetic5') selected models [(0.6844444444444444, 'early_fusion'), (0.685, 'recon'), (0.6877777777777778, 'agree')]\n",
      "100.00%\n",
      "synthetic2 most similar dataset: (0.18355423842472463, 'synthetic3') selected models [(0.5461111111111111, 'recon'), (0.5538888888888889, 'align'), (0.555, 'mult')]\n",
      "100.00%\n",
      "synthetic3 most similar dataset: (0.2793375138069869, 'synthetic5') selected models [(0.6844444444444444, 'early_fusion'), (0.685, 'recon'), (0.6877777777777778, 'agree')]\n",
      "100.00%\n",
      "synthetic4 most similar dataset: (0.11088404258613735, 'synthetic2') selected models [(0.7138888888888889, 'additive'), (0.7183333333333334, 'align'), (0.72, 'agree')]\n",
      "99.53%\n",
      "synthetic5 most similar dataset: (0.14912201008589812, 'mix2') selected models [(0.7116666666666667, 'recon'), (0.7205555555555555, 'agree'), (0.7233333333333334, 'align')]\n",
      "100.00%\n",
      "maps most similar dataset: (0.09856786863625443, 'synthetic4') selected models [(0.6522222222222223, 'recon'), (0.6544444444444445, 'agree'), (0.6555555555555556, 'align')]\n",
      "100.00%\n",
      "maps2 most similar dataset: (0.20364138613133873, 'synthetic4') selected models [(0.6522222222222223, 'recon'), (0.6544444444444445, 'agree'), (0.6555555555555556, 'align')]\n",
      "92.00%\n",
      "Overall:98.79%\n"
     ]
    }
   ],
   "source": [
    "best_model_scores = []\n",
    "for setting in datasets:\n",
    "    tmp = []\n",
    "    for old_setting in old_datasets:\n",
    "        tmp.append((np.sum(np.absolute([normalized_datasets[setting][measure]-normalized_old_datasets[old_setting][measure] for measure in MEASURES])), old_setting))\n",
    "    tmp = sorted(tmp)\n",
    "    for i in range(1):\n",
    "        print(setting, \"most similar dataset:\", tmp[i], \"selected models\", model_selection[tmp[i][1]])\n",
    "        selected_models = model_selection[tmp[i][1]]\n",
    "        model_scores = []\n",
    "        for _, method in selected_models:\n",
    "            if method == 'recon':\n",
    "                method = 'mfm'\n",
    "            model_scores.append((results[method][setting]['acc'], method))\n",
    "        model_scores = sorted(model_scores)\n",
    "        best_score = model_scores[-1][0] / model_selection_best[setting] * 100\n",
    "        best_model_scores.append(best_score)\n",
    "        print('{:.2f}%'.format(best_score))\n",
    "print('Overall:{:.2f}%'.format(np.mean(best_model_scores)))"
   ]
  },
  {
   "cell_type": "code",
   "execution_count": 4,
   "metadata": {},
   "outputs": [
    {
     "name": "stdout",
     "output_type": "stream",
     "text": [
      "synthetic1 {'redundancy': 0.042766259538634416, 'unique1': 0.02596364321132929, 'unique2': 2.17157384344753e-15, 'synergy': 0.10614122901494483}\n",
      "synthetic2 {'redundancy': 0.012672691701037832, 'unique1': 2.8259215299914983e-05, 'unique2': 0.0061237290331549, 'synergy': 0.05926624624675512}\n",
      "synthetic3 {'redundancy': 0.027742116209452286, 'unique1': 0.025980735076023997, 'unique2': 1.4684105273299479e-15, 'synergy': 0.06713126114497113}\n",
      "synthetic4 {'redundancy': 0.06557045989622268, 'unique1': 2.1518739480906317e-15, 'unique2': 0.056037809617245915, 'synergy': 0.053704370671353585}\n",
      "synthetic5 {'redundancy': 0.03943597142606828, 'unique1': 0.043663108779810396, 'unique2': 4.6119695336763056e-15, 'synergy': 0.06589532206160133}\n",
      "maps {'redundancy': 0.08691429284341395, 'unique1': 1.1195372689354384e-07, 'unique2': 0.08681460221097399, 'synergy': 0.2624709049842621}\n",
      "maps2 {'redundancy': 0.12120173624349637, 'unique1': 0.004155439963112993, 'unique2': 0.03654196259113951, 'synergy': 0.40223033982849343}\n"
     ]
    }
   ],
   "source": [
    "for setting in datasets:\n",
    "    print(setting, datasets[setting])"
   ]
  },
  {
   "cell_type": "code",
   "execution_count": 11,
   "metadata": {},
   "outputs": [
    {
     "name": "stdout",
     "output_type": "stream",
     "text": [
      "maps2\n",
      "Redundancy 0.12120173624349637\n",
      "Unique 0.004155439963112993\n",
      "Unique 0.03654196259113951\n",
      "Synergy 0.40223033982849343\n"
     ]
    }
   ],
   "source": [
    "if os.path.isfile('synthetic/model_selection/datasets.pickle'):\n",
    "    with open('synthetic/model_selection/datasets.pickle', 'rb') as f:\n",
    "        results = pickle.load(f)\n",
    "else:\n",
    "    results = dict()\n",
    "with open('synthetic/model_selection/DATA_maps2_cluster.pickle', 'rb') as f:\n",
    "    dataset = pickle.load(f)\n",
    "print('maps2')\n",
    "data = (dataset['test']['0'], dataset['test']['1'], dataset['test']['label'])\n",
    "P, maps = convert_data_to_distribution(*data)\n",
    "result = get_measure(P)\n",
    "results['maps2'] = result     \n",
    "\n",
    "with open('synthetic/model_selection/datasets.pickle', 'wb') as f:\n",
    "    pickle.dump(results, f)"
   ]
  },
  {
   "attachments": {},
   "cell_type": "markdown",
   "metadata": {},
   "source": [
    "Format results in $\\LaTeX$"
   ]
  },
  {
   "cell_type": "code",
   "execution_count": 16,
   "metadata": {},
   "outputs": [
    {
     "name": "stdout",
     "output_type": "stream",
     "text": [
      "& $0.53$ & $0.04$ & $0.04$ & $0.09$ & $0.41$ & $0.28$ & $0.06$ & $0.07$ & $0.10$ & $0.56$ \\\\\n",
      "& $0.12$ & $0.24$ & $0.00$ & $0.22$ & $0.51$ & $0.23$ & $0.17$ & $0.00$ & $0.18$ & $0.52$ \\\\\n"
     ]
    }
   ],
   "source": [
    "for setting in ['maps', 'maps2']:\n",
    "    # for method in ['early_fusion', 'additive', 'agree', 'align']:\n",
    "    # for method in ['elem', 'outer', 'mi', 'mult']:\n",
    "    for method in ['lower', 'mfm']:\n",
    "        for measure in MEASURES:\n",
    "            print('&', '${:.2f}$'.format(results[method][setting][measure]), end=' ')\n",
    "        print('&', '${:.2f}$'.format(results[method][setting]['acc']), end=' ')\n",
    "    print('\\\\\\\\')"
   ]
  },
  {
   "cell_type": "code",
   "execution_count": null,
   "metadata": {},
   "outputs": [],
   "source": []
  }
 ],
 "metadata": {
  "kernelspec": {
   "display_name": "multibench",
   "language": "python",
   "name": "python3"
  },
  "language_info": {
   "codemirror_mode": {
    "name": "ipython",
    "version": 3
   },
   "file_extension": ".py",
   "mimetype": "text/x-python",
   "name": "python",
   "nbconvert_exporter": "python",
   "pygments_lexer": "ipython3",
   "version": "3.9.6"
  },
  "orig_nbformat": 4,
  "vscode": {
   "interpreter": {
    "hash": "8158f520b0615a91d72976457965394544e0f25ca15232774db0f5a21042574b"
   }
  }
 },
 "nbformat": 4,
 "nbformat_minor": 2
}
