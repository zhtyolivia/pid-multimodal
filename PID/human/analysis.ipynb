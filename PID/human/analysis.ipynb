{
 "cells": [
  {
   "cell_type": "code",
   "execution_count": 2,
   "metadata": {},
   "outputs": [],
   "source": [
    "import pandas as pd\n",
    "import numpy as np\n",
    "import krippendorff"
   ]
  },
  {
   "attachments": {},
   "cell_type": "markdown",
   "metadata": {},
   "source": [
    "### direct human"
   ]
  },
  {
   "cell_type": "code",
   "execution_count": 13,
   "metadata": {},
   "outputs": [],
   "source": [
    "data_all = []\n",
    "confs_all = []\n",
    "for i in range(4):\n",
    "    data = []\n",
    "    confs = []\n",
    "    for j in range(3):\n",
    "        csv = pd.read_csv('direct human response {} - value.csv'.format(j+1))\n",
    "        data.append(csv['{} Rating'.format(i+1)].dropna().values)\n",
    "        confs.append(csv['{} Confidence'.format(i+1)].dropna().values)\n",
    "    data_all.append(data)\n",
    "    confs_all.append(confs)"
   ]
  },
  {
   "cell_type": "code",
   "execution_count": 14,
   "metadata": {},
   "outputs": [
    {
     "name": "stdout",
     "output_type": "stream",
     "text": [
      "[0.7243256815869115, 0.6786507304116866, 0.7049707803368854, 0.7205889469608981] 0.7071340348240955\n",
      "[4.36, 4.3533333333333335, 4.266666666666667, 4.46] 4.36\n"
     ]
    }
   ],
   "source": [
    "agreement = []\n",
    "confidence = []\n",
    "for i, data in enumerate(data_all):\n",
    "    agreement.append(krippendorff.alpha(reliability_data=data))\n",
    "    confidence.append(np.mean(confs_all[i]))\n",
    "print(agreement, np.mean(agreement))\n",
    "print(confidence, np.mean(confs_all))"
   ]
  },
  {
   "cell_type": "code",
   "execution_count": 5,
   "metadata": {},
   "outputs": [
    {
     "name": "stdout",
     "output_type": "stream",
     "text": [
      "mosei 0.21840148698884765\n",
      "vqa -0.034236804564907075\n",
      "clevr 1\n",
      "sarcasm 0.2029981261711432\n",
      "humor 0.28730251609128155\n",
      "\n",
      "mosei -0.08999470619375316\n",
      "vqa 1\n",
      "clevr 1\n",
      "sarcasm -0.08109875735775018\n",
      "humor -0.013986013986014179\n",
      "\n",
      "mosei -0.09971910112359539\n",
      "vqa 1\n",
      "clevr 1\n",
      "sarcasm 0.24701754385964902\n",
      "humor -0.14360119047619047\n",
      "\n",
      "mosei -0.07026259758694087\n",
      "vqa -0.03571428571428559\n",
      "clevr 1\n",
      "sarcasm -0.03571428571428559\n",
      "humor -0.03479036574487049\n",
      "\n"
     ]
    }
   ],
   "source": [
    "dataset = ['mosei', 'vqa', 'clevr', 'sarcasm', 'humor']\n",
    "for data in data_all:\n",
    "    for i in range(5):\n",
    "        try:\n",
    "            agreement = krippendorff.alpha(reliability_data=np.array(data)[:,10*i:10*(i+1)])\n",
    "        except:\n",
    "            agreement = 1\n",
    "        print(dataset[i], agreement)\n",
    "    print()"
   ]
  },
  {
   "cell_type": "code",
   "execution_count": 25,
   "metadata": {},
   "outputs": [
    {
     "name": "stdout",
     "output_type": "stream",
     "text": [
      "Positive: sarcasm 0.3023696682464455 humor 0.3023696682464455 overall 0.2950904392764858 confidence 4.311111111111111\n",
      "Negative: sarcasm 0.08196721311475408 humor 0.1071428571428572 overall 0.05084745762711862 confidence 4.4\n",
      "\n",
      "Positive: sarcasm 0.09490740740740755 humor 0.09490740740740755 overall -0.04198062432723337 confidence 4.355555555555555\n",
      "Negative: sarcasm 0.19191919191919193 humor -0.1428571428571428 overall -0.0370370370370372 confidence 4.4\n",
      "\n",
      "Positive: sarcasm -0.24764150943396235 humor -0.24764150943396235 overall 0.15581395348837213 confidence 4.2\n",
      "Negative: sarcasm 0.02857142857142858 humor 0.20454545454545459 overall 0.023255813953488413 confidence 4.266666666666667\n",
      "\n",
      "Positive: sarcasm -0.12430167597765363 humor -0.12430167597765363 overall -0.10275689223057638 confidence 4.488888888888889\n",
      "Negative: sarcasm -0.09589041095890405 humor 0.13793103448275856 overall 0.13366336633663356 confidence 4.666666666666667\n",
      "\n"
     ]
    }
   ],
   "source": [
    "dataset = ['mosei', 'vqa', 'clevr', 'sarcasm', 'humor']\n",
    "for i, data in enumerate(data_all):\n",
    "    data = np.array(data)[:,30:]\n",
    "    sarcasm_pos = krippendorff.alpha(reliability_data=data[:,[10,13,14,15,16,17,18,19]])\n",
    "    sarcasm_neg = krippendorff.alpha(reliability_data=data[:,[2,3,5]])\n",
    "    humor_pos = krippendorff.alpha(reliability_data=data[:,[10,13,14,15,16,17,18,19]])\n",
    "    humor_neg = krippendorff.alpha(reliability_data=data[:,[11,12]])\n",
    "    pos = krippendorff.alpha(reliability_data=data[:,[0,1,4,6,7,8,9,10,13,14,15,16,17,18,19]])\n",
    "    neg = krippendorff.alpha(reliability_data=data[:,[2,3,5,11,12]])\n",
    "    confs = np.array(confs_all[i])\n",
    "    conf_pos = np.mean(confs[:,[0,1,4,6,7,8,9,10,13,14,15,16,17,18,19]])\n",
    "    conf_neg = np.mean(confs[:,[2,3,5,11,12]])\n",
    "    print(\"Positive: sarcasm {} humor {} overall {} confidence {}\".format(sarcasm_pos, humor_pos, pos, conf_pos))\n",
    "    print(\"Negative: sarcasm {} humor {} overall {} confidence {}\".format(sarcasm_neg, humor_neg, neg, conf_neg))\n",
    "    print()"
   ]
  },
  {
   "cell_type": "code",
   "execution_count": 6,
   "metadata": {},
   "outputs": [
    {
     "name": "stdout",
     "output_type": "stream",
     "text": [
      "mosei 3.2666666666666666\n",
      "vqa 0.23333333333333334\n",
      "clevr 0.0\n",
      "sarcasm 3.2333333333333334\n",
      "humor 2.966666666666667\n",
      "\n",
      "mosei 3.3666666666666667\n",
      "vqa 0.0\n",
      "clevr 0.0\n",
      "sarcasm 3.6333333333333333\n",
      "humor 3.5\n",
      "\n",
      "mosei 2.8666666666666667\n",
      "vqa 0.0\n",
      "clevr 0.0\n",
      "sarcasm 3.5\n",
      "humor 2.8\n",
      "\n",
      "mosei 1.0333333333333334\n",
      "vqa 4.8\n",
      "clevr 5.0\n",
      "sarcasm 2.0\n",
      "humor 1.7666666666666666\n",
      "\n"
     ]
    }
   ],
   "source": [
    "dataset = ['mosei', 'vqa', 'clevr', 'sarcasm', 'humor']\n",
    "for j, data in enumerate(data_all):\n",
    "    for i in range(5):\n",
    "        print(dataset[i], np.mean(np.array(data)[:,10*i:10*(i+1)]))\n",
    "    print()"
   ]
  },
  {
   "attachments": {},
   "cell_type": "markdown",
   "metadata": {},
   "source": [
    "### randomized partial labels"
   ]
  },
  {
   "cell_type": "code",
   "execution_count": 27,
   "metadata": {},
   "outputs": [],
   "source": [
    "data_all = []\n",
    "confs_all = []\n",
    "for i in range(3):\n",
    "    data = []\n",
    "    confs = []\n",
    "    for j in range(3):\n",
    "        csv = pd.read_csv('randomized response {} - value {}.csv'.format(j+1, i+1))\n",
    "        data.append(csv['Prediction'].dropna().values)\n",
    "        confs.append(csv['Confidence'].dropna().values)\n",
    "    data_all.append(data)\n",
    "    confs_all.append(confs)"
   ]
  },
  {
   "cell_type": "code",
   "execution_count": 28,
   "metadata": {},
   "outputs": [
    {
     "name": "stdout",
     "output_type": "stream",
     "text": [
      "[0.5075542965061379, 0.613998111923423, 0.6075720164609053] 0.5763748082968221\n",
      "[3.433333333333333, 2.3533333333333335, 3.473333333333333] 3.0866666666666664\n"
     ]
    }
   ],
   "source": [
    "agreement = []\n",
    "confidence = []\n",
    "for i, data in enumerate(data_all):\n",
    "    agreement.append(krippendorff.alpha(reliability_data=data))\n",
    "    confidence.append(np.mean(confs_all[i]))\n",
    "print(agreement, np.mean(agreement))\n",
    "print(confidence, np.mean(confs_all))"
   ]
  },
  {
   "cell_type": "code",
   "execution_count": 32,
   "metadata": {},
   "outputs": [
    {
     "name": "stdout",
     "output_type": "stream",
     "text": [
      "mosei 0.7482789583956899 3.433333333333333\n",
      "vqa 3.0\n",
      "clevr 3.3333333333333335\n",
      "sarcasm -0.21454812637766363 3.3666666666666667\n",
      "humor 0.5777777777777777 4.033333333333333\n",
      "\n",
      "mosei 0.5995887191539365 3.6333333333333333\n",
      "vqa 0.43333333333333335\n",
      "clevr 0.3333333333333333\n",
      "sarcasm 0.04052936311000832 4.0\n",
      "humor 0.2042682926829268 3.3666666666666667\n",
      "\n",
      "mosei 0.6529391059486096 3.5\n",
      "vqa 3.2666666666666666\n",
      "clevr 3.566666666666667\n",
      "sarcasm 0.17216770740410337 3.566666666666667\n",
      "humor 0.5334158415841586 3.466666666666667\n",
      "\n"
     ]
    }
   ],
   "source": [
    "dataset = ['mosei', 'vqa', 'clevr', 'sarcasm', 'humor']\n",
    "for j, data in enumerate(data_all):\n",
    "    for i in range(5):\n",
    "        conf = np.array(confs_all[j]) \n",
    "        conf = np.mean(conf[:,10*i:10*(i+1)])\n",
    "        if i == 1 or i == 2:\n",
    "            print(dataset[i])\n",
    "        else:\n",
    "            agreement = krippendorff.alpha(reliability_data=np.array(data)[:,10*i:10*(i+1)])\n",
    "            print(dataset[i], agreement, conf)\n",
    "    print()"
   ]
  },
  {
   "attachments": {},
   "cell_type": "markdown",
   "metadata": {},
   "source": [
    "### counterfactual partial labels"
   ]
  },
  {
   "cell_type": "code",
   "execution_count": 44,
   "metadata": {},
   "outputs": [],
   "source": [
    "data_all = []\n",
    "confs_all = []\n",
    "for i in range(2):\n",
    "    preds = []\n",
    "    new_preds = []\n",
    "    confs = []\n",
    "    new_confs = []\n",
    "    for j in range(3):\n",
    "        csv = pd.read_csv('counterfactual response {} - value {}.csv'.format(j+1, i+1))\n",
    "        preds.append(csv['Prediction'].dropna().values)\n",
    "        new_preds.append(csv['New prediction'].dropna().values)\n",
    "        confs.append(csv['Confidence'].dropna().values)\n",
    "        new_confs.append(csv['New Confidence'].dropna().values)\n",
    "    data_all.append(preds)\n",
    "    data_all.append(new_preds)\n",
    "    confs_all.append(confs)\n",
    "    confs_all.append(new_confs)"
   ]
  },
  {
   "cell_type": "code",
   "execution_count": 45,
   "metadata": {},
   "outputs": [
    {
     "name": "stdout",
     "output_type": "stream",
     "text": [
      "[0.7660604474682716, 0.6811994170361871, 0.7286567599067599, 0.7843704775687409] 0.7400717754949899\n",
      "[2.612403100775194, 4.456375838926174, 3.026666666666667, 4.62] 3.678861401592009\n"
     ]
    }
   ],
   "source": [
    "agreement = []\n",
    "confidence = []\n",
    "for i, data in enumerate(data_all):\n",
    "    agreement.append(krippendorff.alpha(reliability_data=data))\n",
    "    confidence.append(np.mean(np.concatenate(confs_all[i])))\n",
    "print(agreement, np.mean(agreement))\n",
    "print(confidence, np.mean(confidence))"
   ]
  },
  {
   "cell_type": "code",
   "execution_count": 46,
   "metadata": {},
   "outputs": [
    {
     "name": "stdout",
     "output_type": "stream",
     "text": [
      "mosei 0.8777309313913377\n",
      "vqa\n",
      "clevr\n",
      "sarcasm 0.35216819973718805\n",
      "humor 0.6690442225392297\n",
      "\n",
      "mosei 0.6606382978723404\n",
      "vqa\n",
      "clevr\n",
      "sarcasm 0.41056910569105687\n",
      "humor 0.5947598253275108\n",
      "\n",
      "mosei 0.8258533501896334\n",
      "vqa\n",
      "clevr\n",
      "sarcasm -0.03138075313807542\n",
      "humor 0.38095238095238093\n",
      "\n",
      "mosei 0.9084761045987376\n",
      "vqa\n",
      "clevr\n",
      "sarcasm 0.1212121212121211\n",
      "humor 0.347266881028939\n",
      "\n"
     ]
    }
   ],
   "source": [
    "dataset = ['mosei', 'vqa', 'clevr', 'sarcasm', 'humor']\n",
    "for j, data in enumerate(data_all):\n",
    "    for i in range(5):\n",
    "        if i == 1 or i == 2:\n",
    "            print(dataset[i])\n",
    "        else:\n",
    "            agreement = krippendorff.alpha(reliability_data=np.array(data)[:,10*i:10*(i+1)])\n",
    "            print(dataset[i], agreement)\n",
    "    print()"
   ]
  },
  {
   "attachments": {},
   "cell_type": "markdown",
   "metadata": {},
   "source": [
    "### randomized + human"
   ]
  },
  {
   "cell_type": "code",
   "execution_count": 71,
   "metadata": {},
   "outputs": [],
   "source": [
    "data_all = []\n",
    "for i in range(4):\n",
    "    data = []\n",
    "    for j in range(3):\n",
    "        csv = pd.read_csv('human conversion (randomized) response {} - value.csv'.format(j+1))\n",
    "        data.append(csv['{} Rating'.format(i+1)].dropna().values)\n",
    "    data_all.append(data)"
   ]
  },
  {
   "cell_type": "code",
   "execution_count": 72,
   "metadata": {},
   "outputs": [
    {
     "name": "stdout",
     "output_type": "stream",
     "text": [
      "[0.3488113608650142, -0.2848504365249749, -0.20386259648982286, 0.46851736972704705] 0.08215392439431587\n"
     ]
    }
   ],
   "source": [
    "agreement = []\n",
    "for data in data_all:\n",
    "    agreement.append(krippendorff.alpha(reliability_data=data))\n",
    "print(agreement, np.mean(agreement))"
   ]
  },
  {
   "cell_type": "code",
   "execution_count": 74,
   "metadata": {},
   "outputs": [
    {
     "name": "stdout",
     "output_type": "stream",
     "text": [
      "mosei -0.003209700427960094\n",
      "vqa -0.09971910112359539\n",
      "clevr inf\n",
      "sarcasm -0.1173637515842838\n",
      "humor 0.1558219178082193\n",
      "\n",
      "mosei -0.048678720445062496\n",
      "vqa -0.2601341498979295\n",
      "clevr -0.44363103953147887\n",
      "sarcasm -0.283492822966507\n",
      "humor -0.23030303030303023\n",
      "\n",
      "mosei -0.2639439195367266\n",
      "vqa -0.2526178010471205\n",
      "clevr -0.2946428571428572\n",
      "sarcasm -0.10023961661341851\n",
      "humor -0.3311836115326252\n",
      "\n",
      "mosei -0.13006072874493912\n",
      "vqa -0.03423680456490752\n",
      "clevr -0.15999999999999992\n",
      "sarcasm 0.09144792548687575\n",
      "humor 0.4134304207119741\n",
      "\n"
     ]
    }
   ],
   "source": [
    "dataset = ['mosei', 'vqa', 'clevr', 'sarcasm', 'humor']\n",
    "for data in data_all:\n",
    "    for i in range(5):\n",
    "        try:\n",
    "            agreement = krippendorff.alpha(reliability_data=np.array(data)[:,10*i:10*(i+1)])\n",
    "        except:\n",
    "            agreement = 'inf'\n",
    "        print(dataset[i], agreement)\n",
    "    print()"
   ]
  },
  {
   "cell_type": "code",
   "execution_count": 24,
   "metadata": {},
   "outputs": [
    {
     "name": "stdout",
     "output_type": "stream",
     "text": [
      "mosei 2.8666666666666667\n",
      "vqa 0.4666666666666667\n",
      "clevr 0.0\n",
      "sarcasm 2.5\n",
      "humor 2.8\n",
      "\n",
      "mosei 3.7333333333333334\n",
      "vqa 3.3\n",
      "clevr 3.2333333333333334\n",
      "sarcasm 3.533333333333333\n",
      "humor 4.0\n",
      "\n",
      "mosei 3.433333333333333\n",
      "vqa 2.2\n",
      "clevr 2.3333333333333335\n",
      "sarcasm 3.533333333333333\n",
      "humor 3.066666666666667\n",
      "\n",
      "mosei 2.2666666666666666\n",
      "vqa 4.433333333333334\n",
      "clevr 4.666666666666667\n",
      "sarcasm 2.566666666666667\n",
      "humor 2.6\n",
      "\n"
     ]
    }
   ],
   "source": [
    "dataset = ['mosei', 'vqa', 'clevr', 'sarcasm', 'humor']\n",
    "for data in data_all:\n",
    "    for i in range(5):\n",
    "        print(dataset[i], np.mean(np.array(data)[:,10*i:10*(i+1)]))\n",
    "    print()"
   ]
  },
  {
   "attachments": {},
   "cell_type": "markdown",
   "metadata": {},
   "source": [
    "### counterfactual + human"
   ]
  },
  {
   "cell_type": "code",
   "execution_count": 75,
   "metadata": {},
   "outputs": [],
   "source": [
    "data_all = []\n",
    "for i in range(4):\n",
    "    data = []\n",
    "    for j in range(3):\n",
    "        csv = pd.read_csv('human conversion (counterfactual) response {} - value.csv'.format(j+1))\n",
    "        data.append(csv['{} Rating'.format(i+1)].dropna().values)\n",
    "    data_all.append(data)"
   ]
  },
  {
   "cell_type": "code",
   "execution_count": 76,
   "metadata": {},
   "outputs": [
    {
     "name": "stdout",
     "output_type": "stream",
     "text": [
      "[0.6496865203761755, -0.0957570279680775, -0.12772549019607848, 0.5731082436170096] 0.24982806145725728\n"
     ]
    }
   ],
   "source": [
    "agreement = []\n",
    "for data in data_all:\n",
    "    agreement.append(krippendorff.alpha(reliability_data=data))\n",
    "print(agreement, np.mean(agreement))"
   ]
  },
  {
   "cell_type": "code",
   "execution_count": 77,
   "metadata": {},
   "outputs": [
    {
     "name": "stdout",
     "output_type": "stream",
     "text": [
      "mosei 0.32499999999999996\n",
      "vqa -0.05610236220472431\n",
      "clevr -0.34259259259259256\n",
      "sarcasm -0.1200842696629214\n",
      "humor 0.36029411764705876\n",
      "\n",
      "mosei -0.2595338983050848\n",
      "vqa -0.19489862655330303\n",
      "clevr -0.4500000000000002\n",
      "sarcasm -0.30155786350148395\n",
      "humor -0.12417871222076227\n",
      "\n",
      "mosei -0.12754860123281175\n",
      "vqa 0.07215793056501008\n",
      "clevr -0.39629629629629637\n",
      "sarcasm 0.03909874088800536\n",
      "humor -0.14571575166752204\n",
      "\n",
      "mosei 0.10064365125804553\n",
      "vqa -0.07407407407407396\n",
      "clevr -0.11538461538461542\n",
      "sarcasm -0.2108559498956155\n",
      "humor 0.02493695713084898\n",
      "\n"
     ]
    }
   ],
   "source": [
    "dataset = ['mosei', 'vqa', 'clevr', 'sarcasm', 'humor']\n",
    "for data in data_all:\n",
    "    for i in range(5):\n",
    "        try:\n",
    "            agreement = krippendorff.alpha(reliability_data=np.array(data)[:,10*i:10*(i+1)])\n",
    "        except:\n",
    "            agreement = 'inf'\n",
    "        print(dataset[i], agreement)\n",
    "    print()"
   ]
  },
  {
   "cell_type": "code",
   "execution_count": 21,
   "metadata": {},
   "outputs": [
    {
     "name": "stdout",
     "output_type": "stream",
     "text": [
      "mosei 3.3333333333333335\n",
      "vqa 0.7333333333333333\n",
      "clevr 0.4\n",
      "sarcasm 3.466666666666667\n",
      "humor 3.2666666666666666\n",
      "\n",
      "mosei 2.7333333333333334\n",
      "vqa 0.6333333333333333\n",
      "clevr 1.6666666666666667\n",
      "sarcasm 3.066666666666667\n",
      "humor 2.466666666666667\n",
      "\n",
      "mosei 2.3\n",
      "vqa 2.033333333333333\n",
      "clevr 3.0\n",
      "sarcasm 2.3\n",
      "humor 2.3666666666666667\n",
      "\n",
      "mosei 1.6333333333333333\n",
      "vqa 4.9\n",
      "clevr 4.866666666666666\n",
      "sarcasm 1.9333333333333333\n",
      "humor 1.6333333333333333\n",
      "\n"
     ]
    }
   ],
   "source": [
    "dataset = ['mosei', 'vqa', 'clevr', 'sarcasm', 'humor']\n",
    "for data in data_all:\n",
    "    for i in range(5):\n",
    "        print(dataset[i], np.mean(np.array(data)[:,10*i:10*(i+1)]))\n",
    "    print()"
   ]
  },
  {
   "cell_type": "code",
   "execution_count": 3,
   "metadata": {},
   "outputs": [],
   "source": [
    "from rus import *"
   ]
  },
  {
   "attachments": {},
   "cell_type": "markdown",
   "metadata": {},
   "source": [
    "### randomized + PID"
   ]
  },
  {
   "cell_type": "code",
   "execution_count": 4,
   "metadata": {},
   "outputs": [
    {
     "name": "stderr",
     "output_type": "stream",
     "text": [
      "/usr0/home/yuncheng/miniconda3/envs/multibench/lib/python3.9/site-packages/cvxpy/problems/problem.py:1337: UserWarning: Solution may be inaccurate. Try another solver, adjusting the solver settings, or solve with verbose=True for more information.\n",
      "  warnings.warn(\n",
      "/usr0/home/yuncheng/miniconda3/envs/multibench/lib/python3.9/site-packages/cvxpy/problems/problem.py:1337: UserWarning: Solution may be inaccurate. Try another solver, adjusting the solver settings, or solve with verbose=True for more information.\n",
      "  warnings.warn(\n"
     ]
    }
   ],
   "source": [
    "dataset = ['mosei', 'vqa', 'clevr', 'sarcasm', 'humor']\n",
    "measures = dict()\n",
    "for i in range(3):\n",
    "    data = []\n",
    "    for j in range(3):\n",
    "        csv = pd.read_csv('randomized response {} - value {}.csv'.format(i+1, j+1))\n",
    "        data.append(csv['Prediction'].dropna().values)\n",
    "    for j in range(5):\n",
    "        preds = (data[0][10*j:10*(j+1)], data[1][10*j:10*(j+1)], data[2][10*j:10*(j+1)])\n",
    "        P, _ = convert_data_to_distribution(*preds)\n",
    "        measure = get_measure(P, verbose=False)\n",
    "        results = measures.get(dataset[j], [])\n",
    "        results.append(np.array(list(measure.values())))\n",
    "        measures[dataset[j]] = results\n",
    "    "
   ]
  },
  {
   "cell_type": "code",
   "execution_count": 6,
   "metadata": {},
   "outputs": [
    {
     "name": "stdout",
     "output_type": "stream",
     "text": [
      "mosei [0.71691393 0.27725892 0.2220299  0.1560711 ]\n",
      "vqa [ 2.71924090e-09  6.66133814e-17  6.66133814e-17 -2.71924088e-09]\n",
      "clevr [ 1.46646561e-09  0.00000000e+00  0.00000000e+00 -1.46646561e-09]\n",
      "sarcasm [0.01400776 0.1258026  0.09011224 0.02533056]\n",
      "humor [0.23125936 0.3211613  0.20228086 0.10986124]\n"
     ]
    }
   ],
   "source": [
    "for d in dataset:\n",
    "    print(d, np.mean(measures[d], axis=0))"
   ]
  },
  {
   "cell_type": "code",
   "execution_count": null,
   "metadata": {},
   "outputs": [],
   "source": [
    "dataset = ['mosei', 'vqa', 'clevr', 'sarcasm', 'humor']\n",
    "measures = dict()\n",
    "for i in range(3):\n",
    "    data = []\n",
    "    for j in range(3):\n",
    "        csv = pd.read_csv('randomized response {} - value {} (1).csv'.format(i+1, j+1))\n",
    "        data.append(csv['Prediction'].dropna().values)\n",
    "    for j in range(5):\n",
    "        preds = (data[0][10*j:10*(j+1)], data[1][10*j:10*(j+1)], data[2][10*j:10*(j+1)])\n",
    "        P, _ = convert_data_to_distribution(*preds)\n",
    "        measure = get_measure(P, verbose=False)\n",
    "        results = measures.get(dataset[j], [])\n",
    "        results.append(np.array(list(measure.values())))\n",
    "        measures[dataset[j]] = results\n",
    "    "
   ]
  },
  {
   "attachments": {},
   "cell_type": "markdown",
   "metadata": {},
   "source": [
    "### counterfactual + PID"
   ]
  },
  {
   "cell_type": "code",
   "execution_count": 7,
   "metadata": {},
   "outputs": [
    {
     "name": "stderr",
     "output_type": "stream",
     "text": [
      "/usr0/home/yuncheng/miniconda3/envs/multibench/lib/python3.9/site-packages/cvxpy/problems/problem.py:1337: UserWarning: Solution may be inaccurate. Try another solver, adjusting the solver settings, or solve with verbose=True for more information.\n",
      "  warnings.warn(\n",
      "/usr0/home/yuncheng/miniconda3/envs/multibench/lib/python3.9/site-packages/cvxpy/problems/problem.py:1337: UserWarning: Solution may be inaccurate. Try another solver, adjusting the solver settings, or solve with verbose=True for more information.\n",
      "  warnings.warn(\n"
     ]
    }
   ],
   "source": [
    "dataset = ['mosei', 'vqa', 'clevr', 'sarcasm', 'humor']\n",
    "measures = dict()\n",
    "for i in range(3):\n",
    "    preds = []\n",
    "    new_preds = []\n",
    "    for j in range(2):\n",
    "        csv = pd.read_csv('counterfactual response {} - value {}.csv'.format(i+1, j+1))\n",
    "        preds.append(csv['Prediction'].dropna().values)\n",
    "        new_preds.append(csv['New prediction'].dropna().values)\n",
    "    for j in range(5):\n",
    "        data = (preds[0][10*j:10*(j+1)], preds[1][10*j:10*(j+1)], new_preds[0][10*j:10*(j+1)])\n",
    "        P, _ = convert_data_to_distribution(*data)\n",
    "        measure = get_measure(P, verbose=False)\n",
    "        results = measures.get(dataset[j], [])\n",
    "        results.append(np.array(list(measure.values())))\n",
    "        measures[dataset[j]] = results"
   ]
  },
  {
   "cell_type": "code",
   "execution_count": 8,
   "metadata": {},
   "outputs": [
    {
     "name": "stdout",
     "output_type": "stream",
     "text": [
      "mosei [0.75320118 0.2371641  0.28337392 0.18483928]\n",
      "vqa [ 1.56543644e-09  0.00000000e+00  7.40148682e-17 -1.56543644e-09]\n",
      "clevr [ 1.46646561e-09  0.00000000e+00  0.00000000e+00 -1.46646561e-09]\n",
      "sarcasm [0.2007806  0.43504046 0.19326164 0.04620982]\n",
      "humor [0.16853593 0.2390769  0.17489204 0.22913624]\n"
     ]
    }
   ],
   "source": [
    "for d in dataset:\n",
    "    print(d, np.mean(measures[d], axis=0))"
   ]
  },
  {
   "cell_type": "code",
   "execution_count": 4,
   "metadata": {},
   "outputs": [],
   "source": [
    "def encode_str(data, d):\n",
    "    data_enc = []\n",
    "    for x in data:\n",
    "        if x.isalpha():\n",
    "            x = x.lower()\n",
    "        if x not in d:\n",
    "            d[x] = len(d)\n",
    "        data_enc.append(d[x])\n",
    "    return np.array(data_enc), d"
   ]
  },
  {
   "cell_type": "code",
   "execution_count": 6,
   "metadata": {},
   "outputs": [
    {
     "name": "stdout",
     "output_type": "stream",
     "text": [
      "vqa [1.33277551e+00 6.36515132e-02 6.57667241e-01 1.62272980e-07]\n",
      "clevr [0.43794463 0.58268914 0.56524753 0.04620982]\n"
     ]
    }
   ],
   "source": [
    "dataset = ['mosei', 'vqa', 'clevr', 'sarcasm', 'humor']\n",
    "# measures = dict()\n",
    "d = dict()\n",
    "data_all = []\n",
    "for i in range(3):\n",
    "    preds = []\n",
    "    new_preds = []\n",
    "    for j in range(2):\n",
    "        csv = pd.read_csv('counterfactual response {} - value {} (1).csv'.format(i+1, j+1))\n",
    "        preds.append(csv['Prediction'].dropna().values)\n",
    "        new_preds.append(csv['New prediction'].dropna().values)\n",
    "    for j in range(1,3):\n",
    "        # print('1!!!')\n",
    "        y1, d = encode_str(preds[0][10*j:10*(j+1)], d)\n",
    "        # print('2!!!')\n",
    "        y2, d = encode_str(preds[1][10*j:10*(j+1)], d)\n",
    "        y, d = encode_str(new_preds[0][10*j:10*(j+1)], d)\n",
    "        data = (y1, y2, y)\n",
    "        data_all.append(data)\n",
    "        # P, _ = convert_data_to_distribution(*data)\n",
    "        # measure = get_measure(P, verbose=False)\n",
    "        # results = measures.get(dataset[j], [])\n",
    "        # results.append(np.array(list(measure.values())))\n",
    "        # measures[dataset[j]] = results\n",
    "for d in dataset:\n",
    "    if d in measures:\n",
    "        print(d, np.mean(measures[d], axis=0))"
   ]
  },
  {
   "cell_type": "code",
   "execution_count": 7,
   "metadata": {},
   "outputs": [
    {
     "name": "stdout",
     "output_type": "stream",
     "text": [
      "[(array([0, 1, 2, 3, 4, 5, 4, 6, 7, 8]), array([ 0,  9, 10, 11, 12, 13, 12, 14, 15, 16]), array([17, 18, 19, 20,  4,  7, 21,  6,  7,  8])), (array([22, 23, 24, 25, 26, 27, 28, 29, 23,  7]), array([30, 30, 30, 30, 30, 30, 30, 30, 30, 30]), array([31, 27, 32,  7, 33,  7, 19, 19,  7, 25])), (array([34, 34, 34, 34, 34, 34, 34, 34, 34, 34]), array([27, 28,  7, 35, 36,  7, 37, 38,  7, 39]), array([17, 18, 19, 20, 12,  7, 40, 41,  7,  8])), (array([34, 34, 34, 34, 34, 34, 34, 34, 34, 34]), array([42, 43, 32,  7, 44,  7, 19,  7, 19, 19]), array([31, 45, 46,  7, 47, 19, 19, 19, 19, 25])), (array([18, 48, 49, 50, 27, 51, 12, 41, 52, 16]), array([47, 42, 19, 53, 54, 19, 55, 56, 19,  8]), array([17, 18, 19, 20, 12,  7, 57, 41, 19,  8])), (array([58, 59, 59, 29, 43, 23, 29, 59, 23, 42]), array([42, 43, 32,  7, 27, 19, 19, 19,  7, 25]), array([42, 60, 32,  7, 33,  7, 19, 19,  7, 25]))]\n"
     ]
    }
   ],
   "source": [
    "print(data_all)"
   ]
  },
  {
   "attachments": {},
   "cell_type": "markdown",
   "metadata": {},
   "source": [
    "### randomized + heuristic"
   ]
  },
  {
   "cell_type": "code",
   "execution_count": 16,
   "metadata": {},
   "outputs": [],
   "source": [
    "def compute_heuristic(y1, y2, y):\n",
    "    R = np.mean(-np.abs(y1-y)-np.abs(y1-y2)-np.abs(y2-y))\n",
    "    U1 = np.mean(np.abs(y2-y)+np.abs(y1-y2)-np.abs(y1-y))\n",
    "    U2 = np.mean(np.abs(y1-y)+np.abs(y1-y2)-np.abs(y2-y))\n",
    "    S = np.mean(np.abs(y1-y)+np.abs(y2-y))\n",
    "    values = [R, U1, U2, S]\n",
    "    values = (values - np.min(values)) / (np.max(values) - np.min(values))\n",
    "    return {'redundancy':values[0], 'unique1':values[1], 'unique2':values[2], 'synergy':values[3]}"
   ]
  },
  {
   "cell_type": "code",
   "execution_count": 17,
   "metadata": {},
   "outputs": [],
   "source": [
    "dataset = ['mosei', 'vqa', 'clevr', 'sarcasm', 'humor']\n",
    "measures = dict()\n",
    "for i in range(3):\n",
    "    data = []\n",
    "    for j in range(3):\n",
    "        csv = pd.read_csv('randomized response {} - value {}.csv'.format(i+1, j+1))\n",
    "        data.append(csv['Prediction'].dropna().values)\n",
    "    for j in range(5):\n",
    "        preds = (data[0][10*j:10*(j+1)], data[1][10*j:10*(j+1)], data[2][10*j:10*(j+1)])\n",
    "        measure = compute_heuristic(*preds)\n",
    "        results = measures.get(dataset[j], [])\n",
    "        results.append(np.array(list(measure.values())))\n",
    "        measures[dataset[j]] = results"
   ]
  },
  {
   "cell_type": "code",
   "execution_count": 18,
   "metadata": {},
   "outputs": [
    {
     "name": "stdout",
     "output_type": "stream",
     "text": [
      "mosei [0.         0.73814229 0.69353473 1.        ]\n",
      "vqa [0.         0.51515152 0.57575758 1.        ]\n",
      "clevr [0.  0.5 0.5 1. ]\n",
      "sarcasm [0.         0.67267503 0.81130268 0.97727273]\n",
      "humor [0.         0.84615385 0.84871795 0.98333333]\n"
     ]
    }
   ],
   "source": [
    "for d in dataset:\n",
    "    print(d, np.mean(measures[d], axis=0))"
   ]
  },
  {
   "cell_type": "code",
   "execution_count": 7,
   "metadata": {},
   "outputs": [
    {
     "name": "stdout",
     "output_type": "stream",
     "text": [
      "[] (array([0, 1, 2, 3, 4, 5, 4, 6, 7, 8]), array([ 9, 10, 11, 12,  4, 11, 13, 14, 15, 16]), array([17, 18, 11, 19,  4, 15, 20, 21, 15, 22]))\n",
      "[] (array([], dtype=float64), array([], dtype=float64), array([], dtype=float64))\n"
     ]
    },
    {
     "name": "stderr",
     "output_type": "stream",
     "text": [
      "/usr0/home/yuncheng/miniconda3/envs/multibench/lib/python3.9/site-packages/cvxpy/problems/problem.py:1337: UserWarning: Solution may be inaccurate. Try another solver, adjusting the solver settings, or solve with verbose=True for more information.\n",
      "  warnings.warn(\n"
     ]
    },
    {
     "ename": "ValueError",
     "evalue": "need at least one array to stack",
     "output_type": "error",
     "traceback": [
      "\u001b[0;31m---------------------------------------------------------------------------\u001b[0m",
      "\u001b[0;31mValueError\u001b[0m                                Traceback (most recent call last)",
      "\u001b[1;32m/usr0/home/yuncheng/MultiBench/icmi/analysis.ipynb Cell 41\u001b[0m in \u001b[0;36m<cell line: 5>\u001b[0;34m()\u001b[0m\n\u001b[1;32m     <a href='vscode-notebook-cell://ssh-remote%2Bmars.multicomp.cs.cmu.edu/usr0/home/yuncheng/MultiBench/icmi/analysis.ipynb#X62sdnNjb2RlLXJlbW90ZQ%3D%3D?line=17'>18</a>\u001b[0m \u001b[39mprint\u001b[39m(data[\u001b[39m0\u001b[39m][\u001b[39m10\u001b[39m\u001b[39m*\u001b[39mj:\u001b[39m10\u001b[39m\u001b[39m*\u001b[39m(j\u001b[39m+\u001b[39m\u001b[39m1\u001b[39m)],data)\n\u001b[1;32m     <a href='vscode-notebook-cell://ssh-remote%2Bmars.multicomp.cs.cmu.edu/usr0/home/yuncheng/MultiBench/icmi/analysis.ipynb#X62sdnNjb2RlLXJlbW90ZQ%3D%3D?line=18'>19</a>\u001b[0m P, _ \u001b[39m=\u001b[39m convert_data_to_distribution(\u001b[39m*\u001b[39mdata)\n\u001b[0;32m---> <a href='vscode-notebook-cell://ssh-remote%2Bmars.multicomp.cs.cmu.edu/usr0/home/yuncheng/MultiBench/icmi/analysis.ipynb#X62sdnNjb2RlLXJlbW90ZQ%3D%3D?line=19'>20</a>\u001b[0m measure \u001b[39m=\u001b[39m get_measure(P, verbose\u001b[39m=\u001b[39;49m\u001b[39mFalse\u001b[39;49;00m)\n\u001b[1;32m     <a href='vscode-notebook-cell://ssh-remote%2Bmars.multicomp.cs.cmu.edu/usr0/home/yuncheng/MultiBench/icmi/analysis.ipynb#X62sdnNjb2RlLXJlbW90ZQ%3D%3D?line=20'>21</a>\u001b[0m results \u001b[39m=\u001b[39m measures\u001b[39m.\u001b[39mget(dataset[j], [])\n\u001b[1;32m     <a href='vscode-notebook-cell://ssh-remote%2Bmars.multicomp.cs.cmu.edu/usr0/home/yuncheng/MultiBench/icmi/analysis.ipynb#X62sdnNjb2RlLXJlbW90ZQ%3D%3D?line=21'>22</a>\u001b[0m results\u001b[39m.\u001b[39mappend(np\u001b[39m.\u001b[39marray(\u001b[39mlist\u001b[39m(measure\u001b[39m.\u001b[39mvalues())))\n",
      "File \u001b[0;32m/pool01/home/yuncheng/MultiBench/icmi/rus.py:162\u001b[0m, in \u001b[0;36mget_measure\u001b[0;34m(P, verbose)\u001b[0m\n\u001b[1;32m    161\u001b[0m \u001b[39mdef\u001b[39;00m \u001b[39mget_measure\u001b[39m(P, verbose\u001b[39m=\u001b[39m\u001b[39mTrue\u001b[39;00m):\n\u001b[0;32m--> 162\u001b[0m   Q \u001b[39m=\u001b[39m solve_Q_new(P)\n\u001b[1;32m    163\u001b[0m   redundancy \u001b[39m=\u001b[39m CoI(Q)\n\u001b[1;32m    164\u001b[0m   unique_1 \u001b[39m=\u001b[39m UI(Q, cond_id\u001b[39m=\u001b[39m\u001b[39m1\u001b[39m)\n",
      "File \u001b[0;32m/pool01/home/yuncheng/MultiBench/icmi/rus.py:65\u001b[0m, in \u001b[0;36msolve_Q_new\u001b[0;34m(P)\u001b[0m\n\u001b[1;32m     58\u001b[0m   prob\u001b[39m.\u001b[39msolve(solver\u001b[39m=\u001b[39mSCS, verbose\u001b[39m=\u001b[39m\u001b[39mFalse\u001b[39;00m, max_iters\u001b[39m=\u001b[39m\u001b[39m10000\u001b[39m)\n\u001b[1;32m     60\u001b[0m \u001b[39m# print(prob.status)\u001b[39;00m\n\u001b[1;32m     61\u001b[0m \u001b[39m# print(prob.value)\u001b[39;00m\n\u001b[1;32m     62\u001b[0m \u001b[39m# for j in range(P.shape[1]):\u001b[39;00m\n\u001b[1;32m     63\u001b[0m \u001b[39m#  print(Q[j].value)\u001b[39;00m\n\u001b[0;32m---> 65\u001b[0m \u001b[39mreturn\u001b[39;00m np\u001b[39m.\u001b[39;49mstack([q\u001b[39m.\u001b[39;49mvalue \u001b[39mfor\u001b[39;49;00m q \u001b[39min\u001b[39;49;00m Q],axis\u001b[39m=\u001b[39;49m\u001b[39m2\u001b[39;49m)\n",
      "File \u001b[0;32m<__array_function__ internals>:5\u001b[0m, in \u001b[0;36mstack\u001b[0;34m(*args, **kwargs)\u001b[0m\n",
      "File \u001b[0;32m~/miniconda3/envs/multibench/lib/python3.9/site-packages/numpy/core/shape_base.py:422\u001b[0m, in \u001b[0;36mstack\u001b[0;34m(arrays, axis, out)\u001b[0m\n\u001b[1;32m    420\u001b[0m arrays \u001b[39m=\u001b[39m [asanyarray(arr) \u001b[39mfor\u001b[39;00m arr \u001b[39min\u001b[39;00m arrays]\n\u001b[1;32m    421\u001b[0m \u001b[39mif\u001b[39;00m \u001b[39mnot\u001b[39;00m arrays:\n\u001b[0;32m--> 422\u001b[0m     \u001b[39mraise\u001b[39;00m \u001b[39mValueError\u001b[39;00m(\u001b[39m'\u001b[39m\u001b[39mneed at least one array to stack\u001b[39m\u001b[39m'\u001b[39m)\n\u001b[1;32m    424\u001b[0m shapes \u001b[39m=\u001b[39m {arr\u001b[39m.\u001b[39mshape \u001b[39mfor\u001b[39;00m arr \u001b[39min\u001b[39;00m arrays}\n\u001b[1;32m    425\u001b[0m \u001b[39mif\u001b[39;00m \u001b[39mlen\u001b[39m(shapes) \u001b[39m!=\u001b[39m \u001b[39m1\u001b[39m:\n",
      "\u001b[0;31mValueError\u001b[0m: need at least one array to stack"
     ]
    }
   ],
   "source": [
    "dataset = ['mosei', 'vqa', 'clevr', 'sarcasm', 'humor']\n",
    "measures = dict()\n",
    "d = dict()\n",
    "data_all = []\n",
    "for i in range(3):\n",
    "    data = []\n",
    "    for j in range(3):\n",
    "        csv = pd.read_csv('randomized response {} - value {} (1).csv'.format(i+1, j+1))\n",
    "        data.append(csv['Prediction'].dropna().values)\n",
    "    for j in range(1,3):\n",
    "        # print('1!!!')\n",
    "        y1, d = encode_str(data[0][10*j:10*(j+1)], d)\n",
    "        # print('2!!!')\n",
    "        y2, d = encode_str(data[1][10*j:10*(j+1)], d)\n",
    "        y, d = encode_str(data[2][10*j:10*(j+1)], d)\n",
    "        data = (y1, y2, y)\n",
    "        data_all.append(data)\n",
    "        print(data[0][10*j:10*(j+1)],data)\n",
    "        P, _ = convert_data_to_distribution(*data)\n",
    "        measure = get_measure(P, verbose=False)\n",
    "        results = measures.get(dataset[j], [])\n",
    "        results.append(np.array(list(measure.values())))\n",
    "        measures[dataset[j]] = results\n",
    "for d in dataset:\n",
    "    if d in measures:\n",
    "        print(d, np.mean(measures[d], axis=0))"
   ]
  },
  {
   "attachments": {},
   "cell_type": "markdown",
   "metadata": {},
   "source": [
    "### counterfactual + heuristic"
   ]
  },
  {
   "cell_type": "code",
   "execution_count": 19,
   "metadata": {},
   "outputs": [],
   "source": [
    "dataset = ['mosei', 'vqa', 'clevr', 'sarcasm', 'humor']\n",
    "measures = dict()\n",
    "for i in range(3):\n",
    "    preds = []\n",
    "    new_preds = []\n",
    "    for j in range(2):\n",
    "        csv = pd.read_csv('counterfactual response {} - value {}.csv'.format(i+1, j+1))\n",
    "        preds.append(csv['Prediction'].dropna().values)\n",
    "        new_preds.append(csv['New prediction'].dropna().values)\n",
    "    for j in range(5):\n",
    "        data = (preds[0][10*j:10*(j+1)], preds[1][10*j:10*(j+1)], new_preds[0][10*j:10*(j+1)])\n",
    "        measure = compute_heuristic(*data)\n",
    "        results = measures.get(dataset[j], [])\n",
    "        results.append(np.array(list(measure.values())))\n",
    "        measures[dataset[j]] = results"
   ]
  },
  {
   "cell_type": "code",
   "execution_count": 20,
   "metadata": {},
   "outputs": [
    {
     "name": "stdout",
     "output_type": "stream",
     "text": [
      "mosei [0.         0.89294596 0.88400003 1.        ]\n",
      "vqa [0.         0.54074074 0.52592593 1.        ]\n",
      "clevr [0.  0.5 0.5 1. ]\n",
      "sarcasm [0.         0.88005051 0.90498737 0.99479167]\n",
      "humor [0.         0.89173789 0.77599715 0.97916667]\n"
     ]
    }
   ],
   "source": [
    "for d in dataset:\n",
    "    print(d, np.mean(measures[d], axis=0))"
   ]
  },
  {
   "cell_type": "code",
   "execution_count": null,
   "metadata": {},
   "outputs": [],
   "source": []
  }
 ],
 "metadata": {
  "kernelspec": {
   "display_name": "base",
   "language": "python",
   "name": "python3"
  },
  "language_info": {
   "codemirror_mode": {
    "name": "ipython",
    "version": 3
   },
   "file_extension": ".py",
   "mimetype": "text/x-python",
   "name": "python",
   "nbconvert_exporter": "python",
   "pygments_lexer": "ipython3",
   "version": "3.9.6"
  },
  "orig_nbformat": 4
 },
 "nbformat": 4,
 "nbformat_minor": 2
}
